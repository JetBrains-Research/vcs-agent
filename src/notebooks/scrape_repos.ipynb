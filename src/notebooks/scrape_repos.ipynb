{
 "cells": [
  {
   "cell_type": "code",
   "id": "initial_id",
   "metadata": {
    "collapsed": true,
    "ExecuteTime": {
     "end_time": "2024-07-11T10:18:29.739414Z",
     "start_time": "2024-07-11T10:18:28.176104Z"
    }
   },
   "source": [
    "from git import Repo, GitCommandError\n",
    "\n",
    "import pandas as pd\n",
    "import os"
   ],
   "outputs": [],
   "execution_count": 2
  },
  {
   "metadata": {
    "ExecuteTime": {
     "end_time": "2024-07-11T10:18:29.745937Z",
     "start_time": "2024-07-11T10:18:29.741432Z"
    }
   },
   "cell_type": "code",
   "source": [
    "path_to_data = os.path.join(\"C:\\\\Users\\\\tobias.lindenbauer\\\\PycharmProjects\\\\vcs-actions-agent\\\\\", 'data')\n",
    "path_to_repositories = os.path.join(\"C:\\\\Users\\\\tobias.lindenbauer\\\\PycharmProjects\\\\vcs-actions-agent\\\\\", 'repos')"
   ],
   "id": "2aba1407b79b1c26",
   "outputs": [],
   "execution_count": 3
  },
  {
   "metadata": {},
   "cell_type": "markdown",
   "source": "# Qualitative analysis of metadata",
   "id": "53db4f1de9724ed7"
  },
  {
   "metadata": {},
   "cell_type": "markdown",
   "source": "## Python",
   "id": "65b430f5e227323a"
  },
  {
   "metadata": {
    "ExecuteTime": {
     "end_time": "2024-07-05T14:10:42.188415Z",
     "start_time": "2024-07-05T14:10:41.549756Z"
    }
   },
   "cell_type": "code",
   "source": [
    "# 1. Read in repositories from CSV\n",
    "python_repositories_metadata = pd.read_csv(os.path.join(path_to_data, 'python_repos.csv'))"
   ],
   "id": "a443e48a4bdc8a38",
   "outputs": [],
   "execution_count": 22
  },
  {
   "metadata": {
    "ExecuteTime": {
     "end_time": "2024-07-05T14:10:42.198993Z",
     "start_time": "2024-07-05T14:10:42.191411Z"
    }
   },
   "cell_type": "code",
   "source": "len(python_repositories_metadata)",
   "id": "97e28d88322b4ae",
   "outputs": [
    {
     "data": {
      "text/plain": [
       "10246"
      ]
     },
     "execution_count": 23,
     "metadata": {},
     "output_type": "execute_result"
    }
   ],
   "execution_count": 23
  },
  {
   "metadata": {},
   "cell_type": "markdown",
   "source": "Let's take a look at the distribution of relevant numeric columns to get an overview of the dataset.",
   "id": "c64c4c509709898f"
  },
  {
   "metadata": {
    "ExecuteTime": {
     "end_time": "2024-06-20T09:16:10.941277Z",
     "start_time": "2024-06-20T09:16:10.914047Z"
    }
   },
   "cell_type": "code",
   "source": "python_repositories_metadata",
   "id": "adc84287808a5f7b",
   "execution_count": 5,
   "outputs": []
  },
  {
   "metadata": {
    "ExecuteTime": {
     "end_time": "2024-05-31T09:29:07.002100Z",
     "start_time": "2024-05-31T09:29:06.979545Z"
    }
   },
   "cell_type": "code",
   "source": "python_repositories_metadata[['branches', 'releases', 'forks', 'watchers', 'contributors', 'codeLines']].describe()",
   "id": "a0e277a05a5c21f4",
   "execution_count": 13,
   "outputs": []
  },
  {
   "metadata": {},
   "cell_type": "markdown",
   "source": "All repositories include more than one branch. Most include some forks. Curiously, we note that `min(codeLines) = 1`. Looking at the mean and 25% quartile though, we see that overall the repos seem to be in a good shape.",
   "id": "de4b08efe10481e5"
  },
  {
   "metadata": {
    "ExecuteTime": {
     "end_time": "2024-05-31T09:22:53.856115Z",
     "start_time": "2024-05-31T09:22:53.842902Z"
    }
   },
   "cell_type": "code",
   "source": "python_repositories_metadata[python_repositories_metadata.codeLines < 2]",
   "id": "505fa5c2d5931752",
   "execution_count": 6,
   "outputs": []
  },
  {
   "metadata": {
    "ExecuteTime": {
     "end_time": "2024-06-13T07:12:26.013550Z",
     "start_time": "2024-06-13T07:12:25.993004Z"
    }
   },
   "cell_type": "code",
   "source": "pd.to_datetime(python_repositories_metadata.updatedAt).describe()",
   "id": "5349483017609eba",
   "execution_count": 5,
   "outputs": []
  },
  {
   "metadata": {
    "ExecuteTime": {
     "end_time": "2024-05-31T09:29:30.525427Z",
     "start_time": "2024-05-31T09:29:30.512131Z"
    }
   },
   "cell_type": "code",
   "source": "pd.to_datetime(python_repositories_metadata.createdAt).describe()",
   "id": "192e022fdf1da8a2",
   "execution_count": 14,
   "outputs": []
  },
  {
   "metadata": {},
   "cell_type": "markdown",
   "source": "## Java",
   "id": "27ed9c2582717537"
  },
  {
   "metadata": {
    "ExecuteTime": {
     "end_time": "2024-07-05T14:10:45.763983Z",
     "start_time": "2024-07-05T14:10:45.320148Z"
    }
   },
   "cell_type": "code",
   "source": [
    "# 1. Read in repositories from CSV\n",
    "java_repositories_metadata = pd.read_csv(os.path.join(path_to_data, 'java_repos.csv'))"
   ],
   "id": "3a9947b417f3c607",
   "outputs": [],
   "execution_count": 24
  },
  {
   "metadata": {
    "ExecuteTime": {
     "end_time": "2024-07-05T14:10:45.777405Z",
     "start_time": "2024-07-05T14:10:45.768525Z"
    }
   },
   "cell_type": "code",
   "source": "len(java_repositories_metadata)",
   "id": "2d549245dd847bb1",
   "outputs": [
    {
     "data": {
      "text/plain": [
       "6840"
      ]
     },
     "execution_count": 25,
     "metadata": {},
     "output_type": "execute_result"
    }
   ],
   "execution_count": 25
  },
  {
   "metadata": {
    "ExecuteTime": {
     "end_time": "2024-05-31T09:39:18.432644Z",
     "start_time": "2024-05-31T09:39:18.415339Z"
    }
   },
   "cell_type": "code",
   "source": "java_repositories_metadata[['branches', 'releases', 'forks', 'watchers', 'contributors', 'codeLines']].describe()",
   "id": "938f44e9d0f3eaf4",
   "execution_count": 18,
   "outputs": []
  },
  {
   "metadata": {},
   "cell_type": "markdown",
   "source": "Most have been forked. Again, we note that `min(codeLines) = 2`. Looking at the mean and 25% quartile though, we see that overall the repos seem to be in a good shape.",
   "id": "9817450c9d277a43"
  },
  {
   "metadata": {
    "ExecuteTime": {
     "end_time": "2024-05-31T09:40:19.207313Z",
     "start_time": "2024-05-31T09:40:19.195283Z"
    }
   },
   "cell_type": "code",
   "source": "pd.to_datetime(java_repositories_metadata.updatedAt).describe()",
   "id": "7909ea7e30e2052c",
   "execution_count": 19,
   "outputs": []
  },
  {
   "metadata": {
    "ExecuteTime": {
     "end_time": "2024-05-31T09:40:20.209842Z",
     "start_time": "2024-05-31T09:40:20.197436Z"
    }
   },
   "cell_type": "code",
   "source": "pd.to_datetime(java_repositories_metadata.createdAt).describe()",
   "id": "73093bbed22c8d9e",
   "execution_count": 20,
   "outputs": []
  },
  {
   "metadata": {},
   "cell_type": "markdown",
   "source": "## Kotlin",
   "id": "3b18b3bd34cf6c0b"
  },
  {
   "metadata": {
    "ExecuteTime": {
     "end_time": "2024-07-05T14:10:49.213905Z",
     "start_time": "2024-07-05T14:10:49.111429Z"
    }
   },
   "cell_type": "code",
   "source": [
    "# 1. Read in repositories from CSV\n",
    "kotlin_repositories_metadata = pd.read_csv(os.path.join(path_to_data, 'kotlin_repos.csv'))"
   ],
   "id": "dc5301e9b8c0601d",
   "outputs": [],
   "execution_count": 26
  },
  {
   "metadata": {
    "ExecuteTime": {
     "end_time": "2024-07-05T14:10:50.369994Z",
     "start_time": "2024-07-05T14:10:50.361420Z"
    }
   },
   "cell_type": "code",
   "source": "len(kotlin_repositories_metadata)",
   "id": "fff5d97a0addd7fe",
   "outputs": [
    {
     "data": {
      "text/plain": [
       "1704"
      ]
     },
     "execution_count": 27,
     "metadata": {},
     "output_type": "execute_result"
    }
   ],
   "execution_count": 27
  },
  {
   "metadata": {
    "ExecuteTime": {
     "end_time": "2024-05-31T09:41:10.642970Z",
     "start_time": "2024-05-31T09:41:10.625408Z"
    }
   },
   "cell_type": "code",
   "source": "kotlin_repositories_metadata[['branches', 'releases', 'forks', 'watchers', 'contributors', 'codeLines']].describe()",
   "id": "ea41248746de70fe",
   "execution_count": 23,
   "outputs": []
  },
  {
   "metadata": {},
   "cell_type": "markdown",
   "source": "Most have been forked. Again, we note that `min(codeLines) = 1`. Looking at the mean and 25% quartile though, we see that overall the repos seem to be in a good shape. For Kotlin, we note that the number of contributors and branches seems lower in general.",
   "id": "e5af7d06c151e3cc"
  },
  {
   "metadata": {
    "ExecuteTime": {
     "end_time": "2024-05-31T09:41:11.917345Z",
     "start_time": "2024-05-31T09:41:11.907887Z"
    }
   },
   "cell_type": "code",
   "source": "pd.to_datetime(kotlin_repositories_metadata.updatedAt).describe()",
   "id": "b574a4ba193693a9",
   "execution_count": 24,
   "outputs": []
  },
  {
   "metadata": {
    "ExecuteTime": {
     "end_time": "2024-05-31T09:41:12.635464Z",
     "start_time": "2024-05-31T09:41:12.625510Z"
    }
   },
   "cell_type": "code",
   "source": "pd.to_datetime(kotlin_repositories_metadata.createdAt).describe()",
   "id": "98e108935223dd4f",
   "execution_count": 25,
   "outputs": []
  },
  {
   "metadata": {},
   "cell_type": "markdown",
   "source": "# Development of git history traversal and quantitative analysis of repositories",
   "id": "5ad58289f66a291a"
  },
  {
   "metadata": {},
   "cell_type": "markdown",
   "source": "## Determine ratio of branches to files",
   "id": "c5cb822ae05d048"
  },
  {
   "metadata": {
    "ExecuteTime": {
     "end_time": "2024-06-20T09:42:31.829752Z",
     "start_time": "2024-06-20T09:42:31.826466Z"
    }
   },
   "cell_type": "code",
   "source": "import re ",
   "id": "5ad7f9e2cb43ac70",
   "execution_count": 14,
   "outputs": []
  },
  {
   "metadata": {
    "ExecuteTime": {
     "end_time": "2024-06-20T09:59:21.680164Z",
     "start_time": "2024-06-20T09:57:17.548750Z"
    }
   },
   "cell_type": "code",
   "source": [
    "repositories_statistics = pd.DataFrame()\n",
    "\n",
    "for i, repository_metadata in python_repositories_metadata.iloc[:15].iterrows():\n",
    "    repo_instance = None\n",
    "    repository_path = os.path.join(path_to_repositories, \"__\".join(repository_metadata[\"name\"].split(\"/\")))\n",
    "    try:\n",
    "        repo_instance = Repo.clone_from(f'https://github.com/{repository_metadata[\"name\"]}.git',\n",
    "                                    f'{repository_path}')\n",
    "    except GitCommandError as e:\n",
    "        # If already exists, create Repo instance of it\n",
    "        if 'already exists' in e.stderr:\n",
    "            print('Repository already exists, using local directory instead of cloning.')\n",
    "            repo_instance = Repo(repository_path)\n",
    "            \n",
    "    if repo_instance is None:\n",
    "        continue\n",
    "\n",
    "    os.chdir(os.path.join(path_to_data, repository_path))\n",
    "\n",
    "    repositories_statistics.loc[i, 'branches'] = len(repo_instance.refs)\n",
    "    \n",
    "    num_python_files = 0\n",
    "    num_total_files = 0\n",
    "    for directory,subdirs,files in os.walk(repository_path):\n",
    "        if re.match('.*(\\\\\\\\|\\/)\\..*', directory):\n",
    "            continue # Skip hidden folders\n",
    "        \n",
    "        python_files = [f for f in files if '.py' in f]\n",
    "        total_files = [f for f in files if re.match('^[^\\.].*\\..*$', f)] # skip hidden files and files without file ending\n",
    "        \n",
    "        num_python_files += len(python_files)\n",
    "        num_total_files += len(total_files)\n",
    "\n",
    "    repositories_statistics.loc[i, 'python_files'] = num_python_files\n",
    "    repositories_statistics.loc[i, 'total_files'] = num_total_files"
   ],
   "id": "90e79c7d8f6d06db",
   "execution_count": 21,
   "outputs": []
  },
  {
   "metadata": {
    "ExecuteTime": {
     "end_time": "2024-06-20T10:19:07.273785Z",
     "start_time": "2024-06-20T10:19:07.267215Z"
    }
   },
   "cell_type": "code",
   "source": "(repositories_statistics.total_files / repositories_statistics.branches).sum() / 10",
   "id": "3c1e4c3abd291cf2",
   "execution_count": 25,
   "outputs": []
  },
  {
   "metadata": {},
   "cell_type": "markdown",
   "source": "# Exploring results",
   "id": "bc2429bc66c41f5d"
  },
  {
   "metadata": {
    "ExecuteTime": {
     "end_time": "2024-07-11T08:06:01.699335Z",
     "start_time": "2024-07-11T08:06:01.475555Z"
    }
   },
   "cell_type": "code",
   "source": "results = pd.read_parquet(os.path.join(path_to_data, 'kotlin.parquet'), engine='pyarrow')",
   "id": "4d11e3e784b6e32d",
   "outputs": [
    {
     "ename": "NameError",
     "evalue": "name 'pd' is not defined",
     "output_type": "error",
     "traceback": [
      "\u001B[1;31m---------------------------------------------------------------------------\u001B[0m",
      "\u001B[1;31mNameError\u001B[0m                                 Traceback (most recent call last)",
      "Cell \u001B[1;32mIn[1], line 1\u001B[0m\n\u001B[1;32m----> 1\u001B[0m results \u001B[38;5;241m=\u001B[39m \u001B[43mpd\u001B[49m\u001B[38;5;241m.\u001B[39mread_parquet(os\u001B[38;5;241m.\u001B[39mpath\u001B[38;5;241m.\u001B[39mjoin(path_to_data, \u001B[38;5;124m'\u001B[39m\u001B[38;5;124mkotlin.parquet\u001B[39m\u001B[38;5;124m'\u001B[39m), engine\u001B[38;5;241m=\u001B[39m\u001B[38;5;124m'\u001B[39m\u001B[38;5;124mpyarrow\u001B[39m\u001B[38;5;124m'\u001B[39m)\n",
      "\u001B[1;31mNameError\u001B[0m: name 'pd' is not defined"
     ]
    }
   ],
   "execution_count": 1
  },
  {
   "metadata": {
    "ExecuteTime": {
     "end_time": "2024-07-11T08:06:01.700339Z",
     "start_time": "2024-07-11T08:06:01.700339Z"
    }
   },
   "cell_type": "code",
   "source": "results.info()",
   "id": "232cd415ccb6a5a9",
   "outputs": [],
   "execution_count": null
  },
  {
   "metadata": {},
   "cell_type": "markdown",
   "source": "## Duplicate cherry pick scenarios",
   "id": "1efd63e16552d705"
  },
  {
   "metadata": {
    "ExecuteTime": {
     "end_time": "2024-07-05T09:56:23.994782Z",
     "start_time": "2024-07-05T09:56:23.989781Z"
    }
   },
   "cell_type": "code",
   "source": "cherry_pick_data= results['scraped_data'].apply(lambda x: x['cherry_pick_scenarios'])",
   "id": "a516b88fa872b09c",
   "outputs": [],
   "execution_count": 85
  },
  {
   "metadata": {
    "ExecuteTime": {
     "end_time": "2024-07-05T09:56:24.449190Z",
     "start_time": "2024-07-05T09:56:24.431097Z"
    }
   },
   "cell_type": "code",
   "source": "cherry_pick_data",
   "id": "fa184d2ea54d8e0e",
   "outputs": [
    {
     "data": {
      "text/plain": [
       "1    [{'cherry_commit': 'f7dbb2fc3be3060b29345f7801...\n",
       "Name: scraped_data, dtype: object"
      ]
     },
     "execution_count": 86,
     "metadata": {},
     "output_type": "execute_result"
    }
   ],
   "execution_count": 86
  },
  {
   "metadata": {
    "ExecuteTime": {
     "end_time": "2024-07-05T09:56:24.887099Z",
     "start_time": "2024-07-05T09:56:24.853759Z"
    }
   },
   "cell_type": "code",
   "source": [
    "# Need to check cherry pick scenarios at the end of the list.\n",
    "# Check if I find a scenario with exactly the same commit hexshas another time (duplicated).\n",
    "scenarios = cherry_pick_data[1]\n",
    "unpacked_commits = pd.DataFrame()\n",
    "for i, scenario in enumerate(scenarios):\n",
    "    unpacked_commits.loc[i, 'cherry_pick_commits'] = scenario['cherry_pick_commit']\n",
    "    unpacked_commits.loc[i, 'cherry_commits'] = scenario['cherry_commit']"
   ],
   "id": "82f34295b46fe96c",
   "outputs": [],
   "execution_count": 87
  },
  {
   "metadata": {
    "ExecuteTime": {
     "end_time": "2024-07-05T09:56:30.283230Z",
     "start_time": "2024-07-05T09:56:30.272702Z"
    }
   },
   "cell_type": "code",
   "source": "unpacked_commits[unpacked_commits.duplicated(subset=['cherry_pick_commits'], keep=False)]",
   "id": "a1a9e468668ad263",
   "outputs": [
    {
     "data": {
      "text/plain": [
       "                         cherry_pick_commits  \\\n",
       "1   1740abbce2ac0fee408fbdf22ab96405f3468485   \n",
       "3   1740abbce2ac0fee408fbdf22ab96405f3468485   \n",
       "4   eec22630b7b3d58956a2adbf8eb6a7a2a49326e6   \n",
       "6   eec22630b7b3d58956a2adbf8eb6a7a2a49326e6   \n",
       "7   a8227756e7cfa6355c0a390f69be8c379d7a6d6c   \n",
       "9   a8227756e7cfa6355c0a390f69be8c379d7a6d6c   \n",
       "10  7b99d889476790950c477c30456aa86e0f1f348d   \n",
       "12  7b99d889476790950c477c30456aa86e0f1f348d   \n",
       "13  f1446d3b22ae8d21853d1e921d9fa814647b94c4   \n",
       "15  f1446d3b22ae8d21853d1e921d9fa814647b94c4   \n",
       "16  1a578eed02833254d26fcd216fc2b3059ff7e452   \n",
       "18  1a578eed02833254d26fcd216fc2b3059ff7e452   \n",
       "19  529c4232f425786e2a2375df140d5ed9a871dd84   \n",
       "21  529c4232f425786e2a2375df140d5ed9a871dd84   \n",
       "22  7f3783808cebf0825cda565f4759776168344ef2   \n",
       "24  7f3783808cebf0825cda565f4759776168344ef2   \n",
       "25  72b1e76037d5e0304562a0effee4279a30d1bf72   \n",
       "27  72b1e76037d5e0304562a0effee4279a30d1bf72   \n",
       "28  4290a084e10fa1558107d9381c52635aebd43a36   \n",
       "30  4290a084e10fa1558107d9381c52635aebd43a36   \n",
       "31  24d87a5470c87a8f8ffbffc748516f9dae8ef97d   \n",
       "33  24d87a5470c87a8f8ffbffc748516f9dae8ef97d   \n",
       "34  90789379315c79fd889d685a8cab4122b2feeb5f   \n",
       "36  90789379315c79fd889d685a8cab4122b2feeb5f   \n",
       "37  b22f9f0ed08454e9f52728d17ec883cc8501f2e5   \n",
       "38  f2e0650f871befb360a31a2c95f355f33bd0c356   \n",
       "39  b22f9f0ed08454e9f52728d17ec883cc8501f2e5   \n",
       "40  b22f9f0ed08454e9f52728d17ec883cc8501f2e5   \n",
       "41  f2e0650f871befb360a31a2c95f355f33bd0c356   \n",
       "42  6495783dc18f0f91c4309efc6dbd171177d18c0a   \n",
       "44  6495783dc18f0f91c4309efc6dbd171177d18c0a   \n",
       "45  8a22af7706f9803288751aac263d462c6c0c178f   \n",
       "47  8a22af7706f9803288751aac263d462c6c0c178f   \n",
       "48  b19fb0f2734a5222cad6732e0bcb38b6a615a0bc   \n",
       "50  b19fb0f2734a5222cad6732e0bcb38b6a615a0bc   \n",
       "\n",
       "                              cherry_commits  \n",
       "1   e8aaa7dcceab7db818720445e497f98f97c5d6e3  \n",
       "3   ef75f21d13699affb9d53f96de06687847027e4d  \n",
       "4   041b8028c66941ad586e3c2ade99164a6d771fb6  \n",
       "6   248d33b15e19660ed744d68295365f203ffe4510  \n",
       "7   15acc8349a2c124b07d196c9c26781da9029a8f4  \n",
       "9   002421281b7fc6f915a33d21bea85498f42a17b9  \n",
       "10  a7ba3269507d4261aff7d23a7241c337d511b7f0  \n",
       "12  f1136b08663e62552e3704845eabe741d762374e  \n",
       "13  2fbace0aad729045bbff494bd231cb9bb9da5ef7  \n",
       "15  9928b4e7f6fe8c6943ee19eff6cf583a09163007  \n",
       "16  9cd84adbd5de71c1b65da7593c49f21d5ae88d9f  \n",
       "18  e8e7b3db35524189a9af7437eb256bb01514c225  \n",
       "19  5b31f9ff13726371a0c8569812181988c772ebd6  \n",
       "21  e63c87455d33c768c0d83ad4942eb390b82b9bb6  \n",
       "22  02c4b44b44f8727e0cad0dff51f44ea4becc4462  \n",
       "24  cfdff743e460d0d0914e5a988924166dc2a7ffa5  \n",
       "25  c84849c6b1b9ca88f69856fefa94e39ca24f3d96  \n",
       "27  d5271b378b501927ef7439f1ebcfd80d8ef85a88  \n",
       "28  2c638369a00b36838b121e1bf96c84e62438c8b8  \n",
       "30  2c0b0dae7cae56fc2a51fed9499eb2d866df03b3  \n",
       "31  bddf977e1cef8d481180ce25ba69e2447ef1a1c3  \n",
       "33  20d6330358b077c619a0846d420c03bf85296f6a  \n",
       "34  52b95aa1567db3ae241d484da170fe546d0e6054  \n",
       "36  277c08596df64d8ec37840784d589c46955d46f2  \n",
       "37  f63062f8cfae821739a8e2c092669cd74e3a803d  \n",
       "38  f63062f8cfae821739a8e2c092669cd74e3a803d  \n",
       "39  f2e0650f871befb360a31a2c95f355f33bd0c356  \n",
       "40  f63062f8cfae821739a8e2c092669cd74e3a803d  \n",
       "41  f63062f8cfae821739a8e2c092669cd74e3a803d  \n",
       "42  9a23c1aafa8c5a9fc1954c1c93b353ca90f2b6b0  \n",
       "44  a06662ac0b461f66213c539183ca085568d81149  \n",
       "45  f5bc5017d3ba026fcf805118eaca4e58acf2de54  \n",
       "47  db295e8cb0149e160546eee5eb70f658ee21db89  \n",
       "48  d3c21381841d943b15aaf9b3a5810045f7e78857  \n",
       "50  2a17b0d1ebf0b3094889c066050db6517a0a647c  "
      ],
      "text/html": [
       "<div>\n",
       "<style scoped>\n",
       "    .dataframe tbody tr th:only-of-type {\n",
       "        vertical-align: middle;\n",
       "    }\n",
       "\n",
       "    .dataframe tbody tr th {\n",
       "        vertical-align: top;\n",
       "    }\n",
       "\n",
       "    .dataframe thead th {\n",
       "        text-align: right;\n",
       "    }\n",
       "</style>\n",
       "<table border=\"1\" class=\"dataframe\">\n",
       "  <thead>\n",
       "    <tr style=\"text-align: right;\">\n",
       "      <th></th>\n",
       "      <th>cherry_pick_commits</th>\n",
       "      <th>cherry_commits</th>\n",
       "    </tr>\n",
       "  </thead>\n",
       "  <tbody>\n",
       "    <tr>\n",
       "      <th>1</th>\n",
       "      <td>1740abbce2ac0fee408fbdf22ab96405f3468485</td>\n",
       "      <td>e8aaa7dcceab7db818720445e497f98f97c5d6e3</td>\n",
       "    </tr>\n",
       "    <tr>\n",
       "      <th>3</th>\n",
       "      <td>1740abbce2ac0fee408fbdf22ab96405f3468485</td>\n",
       "      <td>ef75f21d13699affb9d53f96de06687847027e4d</td>\n",
       "    </tr>\n",
       "    <tr>\n",
       "      <th>4</th>\n",
       "      <td>eec22630b7b3d58956a2adbf8eb6a7a2a49326e6</td>\n",
       "      <td>041b8028c66941ad586e3c2ade99164a6d771fb6</td>\n",
       "    </tr>\n",
       "    <tr>\n",
       "      <th>6</th>\n",
       "      <td>eec22630b7b3d58956a2adbf8eb6a7a2a49326e6</td>\n",
       "      <td>248d33b15e19660ed744d68295365f203ffe4510</td>\n",
       "    </tr>\n",
       "    <tr>\n",
       "      <th>7</th>\n",
       "      <td>a8227756e7cfa6355c0a390f69be8c379d7a6d6c</td>\n",
       "      <td>15acc8349a2c124b07d196c9c26781da9029a8f4</td>\n",
       "    </tr>\n",
       "    <tr>\n",
       "      <th>9</th>\n",
       "      <td>a8227756e7cfa6355c0a390f69be8c379d7a6d6c</td>\n",
       "      <td>002421281b7fc6f915a33d21bea85498f42a17b9</td>\n",
       "    </tr>\n",
       "    <tr>\n",
       "      <th>10</th>\n",
       "      <td>7b99d889476790950c477c30456aa86e0f1f348d</td>\n",
       "      <td>a7ba3269507d4261aff7d23a7241c337d511b7f0</td>\n",
       "    </tr>\n",
       "    <tr>\n",
       "      <th>12</th>\n",
       "      <td>7b99d889476790950c477c30456aa86e0f1f348d</td>\n",
       "      <td>f1136b08663e62552e3704845eabe741d762374e</td>\n",
       "    </tr>\n",
       "    <tr>\n",
       "      <th>13</th>\n",
       "      <td>f1446d3b22ae8d21853d1e921d9fa814647b94c4</td>\n",
       "      <td>2fbace0aad729045bbff494bd231cb9bb9da5ef7</td>\n",
       "    </tr>\n",
       "    <tr>\n",
       "      <th>15</th>\n",
       "      <td>f1446d3b22ae8d21853d1e921d9fa814647b94c4</td>\n",
       "      <td>9928b4e7f6fe8c6943ee19eff6cf583a09163007</td>\n",
       "    </tr>\n",
       "    <tr>\n",
       "      <th>16</th>\n",
       "      <td>1a578eed02833254d26fcd216fc2b3059ff7e452</td>\n",
       "      <td>9cd84adbd5de71c1b65da7593c49f21d5ae88d9f</td>\n",
       "    </tr>\n",
       "    <tr>\n",
       "      <th>18</th>\n",
       "      <td>1a578eed02833254d26fcd216fc2b3059ff7e452</td>\n",
       "      <td>e8e7b3db35524189a9af7437eb256bb01514c225</td>\n",
       "    </tr>\n",
       "    <tr>\n",
       "      <th>19</th>\n",
       "      <td>529c4232f425786e2a2375df140d5ed9a871dd84</td>\n",
       "      <td>5b31f9ff13726371a0c8569812181988c772ebd6</td>\n",
       "    </tr>\n",
       "    <tr>\n",
       "      <th>21</th>\n",
       "      <td>529c4232f425786e2a2375df140d5ed9a871dd84</td>\n",
       "      <td>e63c87455d33c768c0d83ad4942eb390b82b9bb6</td>\n",
       "    </tr>\n",
       "    <tr>\n",
       "      <th>22</th>\n",
       "      <td>7f3783808cebf0825cda565f4759776168344ef2</td>\n",
       "      <td>02c4b44b44f8727e0cad0dff51f44ea4becc4462</td>\n",
       "    </tr>\n",
       "    <tr>\n",
       "      <th>24</th>\n",
       "      <td>7f3783808cebf0825cda565f4759776168344ef2</td>\n",
       "      <td>cfdff743e460d0d0914e5a988924166dc2a7ffa5</td>\n",
       "    </tr>\n",
       "    <tr>\n",
       "      <th>25</th>\n",
       "      <td>72b1e76037d5e0304562a0effee4279a30d1bf72</td>\n",
       "      <td>c84849c6b1b9ca88f69856fefa94e39ca24f3d96</td>\n",
       "    </tr>\n",
       "    <tr>\n",
       "      <th>27</th>\n",
       "      <td>72b1e76037d5e0304562a0effee4279a30d1bf72</td>\n",
       "      <td>d5271b378b501927ef7439f1ebcfd80d8ef85a88</td>\n",
       "    </tr>\n",
       "    <tr>\n",
       "      <th>28</th>\n",
       "      <td>4290a084e10fa1558107d9381c52635aebd43a36</td>\n",
       "      <td>2c638369a00b36838b121e1bf96c84e62438c8b8</td>\n",
       "    </tr>\n",
       "    <tr>\n",
       "      <th>30</th>\n",
       "      <td>4290a084e10fa1558107d9381c52635aebd43a36</td>\n",
       "      <td>2c0b0dae7cae56fc2a51fed9499eb2d866df03b3</td>\n",
       "    </tr>\n",
       "    <tr>\n",
       "      <th>31</th>\n",
       "      <td>24d87a5470c87a8f8ffbffc748516f9dae8ef97d</td>\n",
       "      <td>bddf977e1cef8d481180ce25ba69e2447ef1a1c3</td>\n",
       "    </tr>\n",
       "    <tr>\n",
       "      <th>33</th>\n",
       "      <td>24d87a5470c87a8f8ffbffc748516f9dae8ef97d</td>\n",
       "      <td>20d6330358b077c619a0846d420c03bf85296f6a</td>\n",
       "    </tr>\n",
       "    <tr>\n",
       "      <th>34</th>\n",
       "      <td>90789379315c79fd889d685a8cab4122b2feeb5f</td>\n",
       "      <td>52b95aa1567db3ae241d484da170fe546d0e6054</td>\n",
       "    </tr>\n",
       "    <tr>\n",
       "      <th>36</th>\n",
       "      <td>90789379315c79fd889d685a8cab4122b2feeb5f</td>\n",
       "      <td>277c08596df64d8ec37840784d589c46955d46f2</td>\n",
       "    </tr>\n",
       "    <tr>\n",
       "      <th>37</th>\n",
       "      <td>b22f9f0ed08454e9f52728d17ec883cc8501f2e5</td>\n",
       "      <td>f63062f8cfae821739a8e2c092669cd74e3a803d</td>\n",
       "    </tr>\n",
       "    <tr>\n",
       "      <th>38</th>\n",
       "      <td>f2e0650f871befb360a31a2c95f355f33bd0c356</td>\n",
       "      <td>f63062f8cfae821739a8e2c092669cd74e3a803d</td>\n",
       "    </tr>\n",
       "    <tr>\n",
       "      <th>39</th>\n",
       "      <td>b22f9f0ed08454e9f52728d17ec883cc8501f2e5</td>\n",
       "      <td>f2e0650f871befb360a31a2c95f355f33bd0c356</td>\n",
       "    </tr>\n",
       "    <tr>\n",
       "      <th>40</th>\n",
       "      <td>b22f9f0ed08454e9f52728d17ec883cc8501f2e5</td>\n",
       "      <td>f63062f8cfae821739a8e2c092669cd74e3a803d</td>\n",
       "    </tr>\n",
       "    <tr>\n",
       "      <th>41</th>\n",
       "      <td>f2e0650f871befb360a31a2c95f355f33bd0c356</td>\n",
       "      <td>f63062f8cfae821739a8e2c092669cd74e3a803d</td>\n",
       "    </tr>\n",
       "    <tr>\n",
       "      <th>42</th>\n",
       "      <td>6495783dc18f0f91c4309efc6dbd171177d18c0a</td>\n",
       "      <td>9a23c1aafa8c5a9fc1954c1c93b353ca90f2b6b0</td>\n",
       "    </tr>\n",
       "    <tr>\n",
       "      <th>44</th>\n",
       "      <td>6495783dc18f0f91c4309efc6dbd171177d18c0a</td>\n",
       "      <td>a06662ac0b461f66213c539183ca085568d81149</td>\n",
       "    </tr>\n",
       "    <tr>\n",
       "      <th>45</th>\n",
       "      <td>8a22af7706f9803288751aac263d462c6c0c178f</td>\n",
       "      <td>f5bc5017d3ba026fcf805118eaca4e58acf2de54</td>\n",
       "    </tr>\n",
       "    <tr>\n",
       "      <th>47</th>\n",
       "      <td>8a22af7706f9803288751aac263d462c6c0c178f</td>\n",
       "      <td>db295e8cb0149e160546eee5eb70f658ee21db89</td>\n",
       "    </tr>\n",
       "    <tr>\n",
       "      <th>48</th>\n",
       "      <td>b19fb0f2734a5222cad6732e0bcb38b6a615a0bc</td>\n",
       "      <td>d3c21381841d943b15aaf9b3a5810045f7e78857</td>\n",
       "    </tr>\n",
       "    <tr>\n",
       "      <th>50</th>\n",
       "      <td>b19fb0f2734a5222cad6732e0bcb38b6a615a0bc</td>\n",
       "      <td>2a17b0d1ebf0b3094889c066050db6517a0a647c</td>\n",
       "    </tr>\n",
       "  </tbody>\n",
       "</table>\n",
       "</div>"
      ]
     },
     "execution_count": 88,
     "metadata": {},
     "output_type": "execute_result"
    }
   ],
   "execution_count": 88
  },
  {
   "metadata": {
    "ExecuteTime": {
     "end_time": "2024-07-05T08:32:08.685253Z",
     "start_time": "2024-07-05T08:32:08.679895Z"
    }
   },
   "cell_type": "code",
   "source": "len(cherry_pick_data[1])",
   "id": "ef48b973c0e0b107",
   "outputs": [
    {
     "data": {
      "text/plain": [
       "447"
      ]
     },
     "execution_count": 37,
     "metadata": {},
     "output_type": "execute_result"
    }
   ],
   "execution_count": 37
  },
  {
   "metadata": {
    "ExecuteTime": {
     "end_time": "2024-07-05T08:35:35.021488Z",
     "start_time": "2024-07-05T08:35:34.964023Z"
    }
   },
   "cell_type": "code",
   "source": [
    "repository_metadata = python_repositories_metadata.iloc[1]\n",
    "repo_instance = None\n",
    "repository_path = os.path.join(path_to_repositories, \"__\".join(repository_metadata[\"name\"].split(\"/\")))\n",
    "try:\n",
    "    repo_instance = Repo.clone_from(f'https://github.com/{repository_metadata[\"name\"]}.git',\n",
    "                                    f'{repository_path}')\n",
    "except GitCommandError as e:\n",
    "    # If already exists, create Repo instance of it\n",
    "    if 'already exists' in e.stderr:\n",
    "        print('Repository already exists, using local directory instead of cloning.')\n",
    "        repo_instance = Repo(repository_path)"
   ],
   "id": "28315bc2227f7f9",
   "outputs": [
    {
     "name": "stdout",
     "output_type": "stream",
     "text": [
      "Repository already exists, using local directory instead of cloning.\n"
     ]
    }
   ],
   "execution_count": 41
  },
  {
   "metadata": {
    "ExecuteTime": {
     "end_time": "2024-07-05T10:03:39.151473Z",
     "start_time": "2024-07-05T10:03:39.145380Z"
    }
   },
   "cell_type": "code",
   "source": [
    "from datetime import datetime\n",
    "datetime.fromtimestamp(repo_instance.commit('1740abbce2ac0fee408fbdf22ab96405f3468485').committed_date)"
   ],
   "id": "f844dab0058c42b9",
   "outputs": [
    {
     "data": {
      "text/plain": [
       "datetime.datetime(2020, 9, 23, 0, 26, 24)"
      ]
     },
     "execution_count": 99,
     "metadata": {},
     "output_type": "execute_result"
    }
   ],
   "execution_count": 99
  },
  {
   "metadata": {
    "ExecuteTime": {
     "end_time": "2024-07-05T10:03:51.650320Z",
     "start_time": "2024-07-05T10:03:51.645264Z"
    }
   },
   "cell_type": "code",
   "source": "datetime.fromtimestamp(repo_instance.commit('e8aaa7dcceab7db818720445e497f98f97c5d6e3').committed_date)",
   "id": "22ba7b2607f1c34",
   "outputs": [
    {
     "data": {
      "text/plain": [
       "datetime.datetime(2020, 9, 15, 17, 20, 48)"
      ]
     },
     "execution_count": 100,
     "metadata": {},
     "output_type": "execute_result"
    }
   ],
   "execution_count": 100
  },
  {
   "metadata": {
    "ExecuteTime": {
     "end_time": "2024-07-05T10:04:24.015286Z",
     "start_time": "2024-07-05T10:04:24.009573Z"
    }
   },
   "cell_type": "code",
   "source": "datetime.fromtimestamp(repo_instance.commit('ef75f21d13699affb9d53f96de06687847027e4d').committed_date)\n",
   "id": "dee7b692ccf5320f",
   "outputs": [
    {
     "data": {
      "text/plain": [
       "datetime.datetime(2020, 9, 21, 18, 37, 59)"
      ]
     },
     "execution_count": 101,
     "metadata": {},
     "output_type": "execute_result"
    }
   ],
   "execution_count": 101
  },
  {
   "metadata": {
    "ExecuteTime": {
     "end_time": "2024-07-05T09:59:44.194910Z",
     "start_time": "2024-07-05T09:59:44.154374Z"
    }
   },
   "cell_type": "code",
   "source": "repo_instance.git.show('1740abbce2ac0fee408fbdf22ab96405f3468485').split('\\n')",
   "id": "49c69fc010e254c2",
   "outputs": [
    {
     "data": {
      "text/plain": [
       "['commit 1740abbce2ac0fee408fbdf22ab96405f3468485',\n",
       " 'Author: Yoann Padioleau <pad@returntocorp.com>',\n",
       " 'Date:   Tue Sep 15 17:20:48 2020 +0200',\n",
       " '',\n",
       " '    * python/lang/correctness/common-mistakes/is-comparison-string.py: Fix (#861)',\n",
       " '    ',\n",
       " '    * * python/lang/correctness/common-mistakes/is-comparison-string.py: Fix',\n",
       " '    ',\n",
       " \"    Add extra assign to not make 'x' a constant.\",\n",
       " '    Indeed, Iago recently fixed a bug in the const-analysis which',\n",
       " '    now kick-in in this file and leads to more reported errors.',\n",
       " '    ',\n",
       " '    Related to https://github.com/returntocorp/semgrep/pull/1676',\n",
       " '    ',\n",
       " '    Test plan:',\n",
       " '    make test with latest semgrep',\n",
       " '    ',\n",
       " '    * Avoid constant propagation by using object() instead of str',\n",
       " '    ',\n",
       " '    Co-authored-by: Matt Schwager <matt@returntocorp.com>',\n",
       " '',\n",
       " 'diff --git a/python/lang/correctness/common-mistakes/is-comparison-string.py b/python/lang/correctness/common-mistakes/is-comparison-string.py',\n",
       " 'index 9fb45823..dbb76cf4 100644',\n",
       " '--- a/python/lang/correctness/common-mistakes/is-comparison-string.py',\n",
       " '+++ b/python/lang/correctness/common-mistakes/is-comparison-string.py',\n",
       " '@@ -1,4 +1,4 @@',\n",
       " \"-x = 'foo'\",\n",
       " '+x = object()',\n",
       " ' ',\n",
       " ' # ruleid:identical-is-comparison',\n",
       " ' if x is x:']"
      ]
     },
     "execution_count": 93,
     "metadata": {},
     "output_type": "execute_result"
    }
   ],
   "execution_count": 93
  },
  {
   "metadata": {
    "ExecuteTime": {
     "end_time": "2024-07-05T09:59:39.839009Z",
     "start_time": "2024-07-05T09:59:39.794628Z"
    }
   },
   "cell_type": "code",
   "source": "repo_instance.git.show('e8aaa7dcceab7db818720445e497f98f97c5d6e3').split('\\n')",
   "id": "216f93417ec6606b",
   "outputs": [
    {
     "data": {
      "text/plain": [
       "['commit e8aaa7dcceab7db818720445e497f98f97c5d6e3',\n",
       " 'Author: Yoann Padioleau <pad@returntocorp.com>',\n",
       " 'Date:   Tue Sep 15 17:20:48 2020 +0200',\n",
       " '',\n",
       " '    * python/lang/correctness/common-mistakes/is-comparison-string.py: Fix (#861)',\n",
       " '    ',\n",
       " '    * * python/lang/correctness/common-mistakes/is-comparison-string.py: Fix',\n",
       " '    ',\n",
       " \"    Add extra assign to not make 'x' a constant.\",\n",
       " '    Indeed, Iago recently fixed a bug in the const-analysis which',\n",
       " '    now kick-in in this file and leads to more reported errors.',\n",
       " '    ',\n",
       " '    Related to https://github.com/returntocorp/semgrep/pull/1676',\n",
       " '    ',\n",
       " '    Test plan:',\n",
       " '    make test with latest semgrep',\n",
       " '    ',\n",
       " '    * Avoid constant propagation by using object() instead of str',\n",
       " '    ',\n",
       " '    Co-authored-by: Matt Schwager <matt@returntocorp.com>',\n",
       " '',\n",
       " 'diff --git a/python/lang/correctness/common-mistakes/is-comparison-string.py b/python/lang/correctness/common-mistakes/is-comparison-string.py',\n",
       " 'index 9fb45823..dbb76cf4 100644',\n",
       " '--- a/python/lang/correctness/common-mistakes/is-comparison-string.py',\n",
       " '+++ b/python/lang/correctness/common-mistakes/is-comparison-string.py',\n",
       " '@@ -1,4 +1,4 @@',\n",
       " \"-x = 'foo'\",\n",
       " '+x = object()',\n",
       " ' ',\n",
       " ' # ruleid:identical-is-comparison',\n",
       " ' if x is x:']"
      ]
     },
     "execution_count": 92,
     "metadata": {},
     "output_type": "execute_result"
    }
   ],
   "execution_count": 92
  },
  {
   "metadata": {},
   "cell_type": "code",
   "outputs": [
    {
     "data": {
      "text/plain": [
       "['commit ef75f21d13699affb9d53f96de06687847027e4d',\n",
       " 'Author: Yoann Padioleau <pad@returntocorp.com>',\n",
       " 'Date:   Tue Sep 15 17:20:48 2020 +0200',\n",
       " '',\n",
       " '    * python/lang/correctness/common-mistakes/is-comparison-string.py: Fix (#861)',\n",
       " '    ',\n",
       " '    * * python/lang/correctness/common-mistakes/is-comparison-string.py: Fix',\n",
       " '    ',\n",
       " \"    Add extra assign to not make 'x' a constant.\",\n",
       " '    Indeed, Iago recently fixed a bug in the const-analysis which',\n",
       " '    now kick-in in this file and leads to more reported errors.',\n",
       " '    ',\n",
       " '    Related to https://github.com/returntocorp/semgrep/pull/1676',\n",
       " '    ',\n",
       " '    Test plan:',\n",
       " '    make test with latest semgrep',\n",
       " '    ',\n",
       " '    * Avoid constant propagation by using object() instead of str',\n",
       " '    ',\n",
       " '    Co-authored-by: Matt Schwager <matt@returntocorp.com>',\n",
       " '',\n",
       " 'diff --git a/python/lang/correctness/common-mistakes/is-comparison-string.py b/python/lang/correctness/common-mistakes/is-comparison-string.py',\n",
       " 'index 9fb45823..dbb76cf4 100644',\n",
       " '--- a/python/lang/correctness/common-mistakes/is-comparison-string.py',\n",
       " '+++ b/python/lang/correctness/common-mistakes/is-comparison-string.py',\n",
       " '@@ -1,4 +1,4 @@',\n",
       " \"-x = 'foo'\",\n",
       " '+x = object()',\n",
       " ' ',\n",
       " ' # ruleid:identical-is-comparison',\n",
       " ' if x is x:']"
      ]
     },
     "execution_count": 94,
     "metadata": {},
     "output_type": "execute_result"
    }
   ],
   "execution_count": 94,
   "source": "repo_instance.git.show('ef75f21d13699affb9d53f96de06687847027e4d').split('\\n')",
   "id": "6d3c79fc5b3327a9"
  },
  {
   "metadata": {},
   "cell_type": "markdown",
   "source": "## Concurrency",
   "id": "72e0250df45e3a"
  },
  {
   "metadata": {
    "ExecuteTime": {
     "end_time": "2024-07-11T12:16:44.479727Z",
     "start_time": "2024-07-11T12:16:44.465385Z"
    }
   },
   "cell_type": "code",
   "source": "results = pd.read_parquet(os.path.join(path_to_data, 'python_small_subset.parquet'), engine='pyarrow')",
   "id": "aeea7d568f33199f",
   "outputs": [],
   "execution_count": 34
  },
  {
   "metadata": {
    "ExecuteTime": {
     "end_time": "2024-07-11T12:16:44.966813Z",
     "start_time": "2024-07-11T12:16:44.865007Z"
    }
   },
   "cell_type": "code",
   "source": "results",
   "id": "436bf6827c42c469",
   "outputs": [
    {
     "data": {
      "text/plain": [
       "        id                               name  isFork  commits  branches  \\\n",
       "0   144686                familysearch/gedcom   False      524        15   \n",
       "3  3279097  academysoftwarefoundation/opencue   False      780         8   \n",
       "5  3394496                   vmware/open-vmdk   False      129        19   \n",
       "6  3454977                   clvrai/furniture   False      768        17   \n",
       "7  3463994                 buildingsmart/bsdd   False      544         5   \n",
       "2  3277687                    feast-dev/feast   False     3276        72   \n",
       "\n",
       "   releases  forks mainLanguage defaultBranch             license  ...  \\\n",
       "0        15     18       Python          main  Apache License 2.0  ...   \n",
       "3        25    191       Python        master  Apache License 2.0  ...   \n",
       "5        12     37       Python        master  Apache License 2.0  ...   \n",
       "6         0     51       Python        master         MIT License  ...   \n",
       "7         0     36       Python        master         MIT License  ...   \n",
       "2       101    936       Python        master  Apache License 2.0  ...   \n",
       "\n",
       "  isDisabled  isLocked                                          languages  \\\n",
       "0      False     False  {\"Python\":33573,\"CSS\":7276,\"HTML\":1790,\"Makefi...   \n",
       "3      False     False  {\"Python\":3395437,\"Java\":2368879,\"PLpgSQL\":138...   \n",
       "5      False     False  {\"Python\":63807,\"C\":38483,\"Shell\":7181,\"Makefi...   \n",
       "6      False     False           {\"Python\":122332,\"Shell\":5967,\"C#\":1664}   \n",
       "7      False     False  {\"Python\":28303,\"C#\":26761,\"XSLT\":8904,\"HTML\":...   \n",
       "2      False     False  {\"Python\":2324453,\"TypeScript\":261822,\"Java\":2...   \n",
       "\n",
       "                                              labels  \\\n",
       "0  ambiguity;automated pr;awaiting use;backlog;ci...   \n",
       "3  bug;dependencies;docs;duplicate;enhancement;fe...   \n",
       "5  bug;cla-not-required;cla-rejected;duplicate;en...   \n",
       "6  bug;dependencies;documentation;duplicate;enhan...   \n",
       "7  bug;dependencies;duplicate;enhancement;heritag...   \n",
       "2  approved;area/core;area/documentation;area/inf...   \n",
       "\n",
       "                                              topics  \\\n",
       "0                                               None   \n",
       "3  animation;fx;opencue;openqueue;render;render-f...   \n",
       "5                                               None   \n",
       "6                                               None   \n",
       "7                                               bsdd   \n",
       "2  big-data;data-engineering;data-quality;data-sc...   \n",
       "\n",
       "                                        scraped_data n_merge_scenarios  \\\n",
       "0  {'cherry_pick_scenarios': [{'cherry_commit': '...               137   \n",
       "3  {'cherry_pick_scenarios': [{'cherry_commit': '...                11   \n",
       "5  {'cherry_pick_scenarios': [], 'file_commit_gra...                63   \n",
       "6  {'cherry_pick_scenarios': [], 'file_commit_gra...                51   \n",
       "7  {'cherry_pick_scenarios': [], 'file_commit_gra...                26   \n",
       "2  {'cherry_pick_scenarios': [{'cherry_commit': '...                27   \n",
       "\n",
       "  n_cherry_pick_scenarios  n_merge_scenarios_with_resolved_conflicts  \\\n",
       "0                       1                                          1   \n",
       "3                      12                                          0   \n",
       "5                       0                                         19   \n",
       "6                       0                                         19   \n",
       "7                       0                                          0   \n",
       "2                      61                                          5   \n",
       "\n",
       "   n_file_commit_gram_scenarios  \n",
       "0                             1  \n",
       "3                             4  \n",
       "5                             6  \n",
       "6                            60  \n",
       "7                             1  \n",
       "2                           152  \n",
       "\n",
       "[6 rows x 40 columns]"
      ],
      "text/html": [
       "<div>\n",
       "<style scoped>\n",
       "    .dataframe tbody tr th:only-of-type {\n",
       "        vertical-align: middle;\n",
       "    }\n",
       "\n",
       "    .dataframe tbody tr th {\n",
       "        vertical-align: top;\n",
       "    }\n",
       "\n",
       "    .dataframe thead th {\n",
       "        text-align: right;\n",
       "    }\n",
       "</style>\n",
       "<table border=\"1\" class=\"dataframe\">\n",
       "  <thead>\n",
       "    <tr style=\"text-align: right;\">\n",
       "      <th></th>\n",
       "      <th>id</th>\n",
       "      <th>name</th>\n",
       "      <th>isFork</th>\n",
       "      <th>commits</th>\n",
       "      <th>branches</th>\n",
       "      <th>releases</th>\n",
       "      <th>forks</th>\n",
       "      <th>mainLanguage</th>\n",
       "      <th>defaultBranch</th>\n",
       "      <th>license</th>\n",
       "      <th>...</th>\n",
       "      <th>isDisabled</th>\n",
       "      <th>isLocked</th>\n",
       "      <th>languages</th>\n",
       "      <th>labels</th>\n",
       "      <th>topics</th>\n",
       "      <th>scraped_data</th>\n",
       "      <th>n_merge_scenarios</th>\n",
       "      <th>n_cherry_pick_scenarios</th>\n",
       "      <th>n_merge_scenarios_with_resolved_conflicts</th>\n",
       "      <th>n_file_commit_gram_scenarios</th>\n",
       "    </tr>\n",
       "  </thead>\n",
       "  <tbody>\n",
       "    <tr>\n",
       "      <th>0</th>\n",
       "      <td>144686</td>\n",
       "      <td>familysearch/gedcom</td>\n",
       "      <td>False</td>\n",
       "      <td>524</td>\n",
       "      <td>15</td>\n",
       "      <td>15</td>\n",
       "      <td>18</td>\n",
       "      <td>Python</td>\n",
       "      <td>main</td>\n",
       "      <td>Apache License 2.0</td>\n",
       "      <td>...</td>\n",
       "      <td>False</td>\n",
       "      <td>False</td>\n",
       "      <td>{\"Python\":33573,\"CSS\":7276,\"HTML\":1790,\"Makefi...</td>\n",
       "      <td>ambiguity;automated pr;awaiting use;backlog;ci...</td>\n",
       "      <td>None</td>\n",
       "      <td>{'cherry_pick_scenarios': [{'cherry_commit': '...</td>\n",
       "      <td>137</td>\n",
       "      <td>1</td>\n",
       "      <td>1</td>\n",
       "      <td>1</td>\n",
       "    </tr>\n",
       "    <tr>\n",
       "      <th>3</th>\n",
       "      <td>3279097</td>\n",
       "      <td>academysoftwarefoundation/opencue</td>\n",
       "      <td>False</td>\n",
       "      <td>780</td>\n",
       "      <td>8</td>\n",
       "      <td>25</td>\n",
       "      <td>191</td>\n",
       "      <td>Python</td>\n",
       "      <td>master</td>\n",
       "      <td>Apache License 2.0</td>\n",
       "      <td>...</td>\n",
       "      <td>False</td>\n",
       "      <td>False</td>\n",
       "      <td>{\"Python\":3395437,\"Java\":2368879,\"PLpgSQL\":138...</td>\n",
       "      <td>bug;dependencies;docs;duplicate;enhancement;fe...</td>\n",
       "      <td>animation;fx;opencue;openqueue;render;render-f...</td>\n",
       "      <td>{'cherry_pick_scenarios': [{'cherry_commit': '...</td>\n",
       "      <td>11</td>\n",
       "      <td>12</td>\n",
       "      <td>0</td>\n",
       "      <td>4</td>\n",
       "    </tr>\n",
       "    <tr>\n",
       "      <th>5</th>\n",
       "      <td>3394496</td>\n",
       "      <td>vmware/open-vmdk</td>\n",
       "      <td>False</td>\n",
       "      <td>129</td>\n",
       "      <td>19</td>\n",
       "      <td>12</td>\n",
       "      <td>37</td>\n",
       "      <td>Python</td>\n",
       "      <td>master</td>\n",
       "      <td>Apache License 2.0</td>\n",
       "      <td>...</td>\n",
       "      <td>False</td>\n",
       "      <td>False</td>\n",
       "      <td>{\"Python\":63807,\"C\":38483,\"Shell\":7181,\"Makefi...</td>\n",
       "      <td>bug;cla-not-required;cla-rejected;duplicate;en...</td>\n",
       "      <td>None</td>\n",
       "      <td>{'cherry_pick_scenarios': [], 'file_commit_gra...</td>\n",
       "      <td>63</td>\n",
       "      <td>0</td>\n",
       "      <td>19</td>\n",
       "      <td>6</td>\n",
       "    </tr>\n",
       "    <tr>\n",
       "      <th>6</th>\n",
       "      <td>3454977</td>\n",
       "      <td>clvrai/furniture</td>\n",
       "      <td>False</td>\n",
       "      <td>768</td>\n",
       "      <td>17</td>\n",
       "      <td>0</td>\n",
       "      <td>51</td>\n",
       "      <td>Python</td>\n",
       "      <td>master</td>\n",
       "      <td>MIT License</td>\n",
       "      <td>...</td>\n",
       "      <td>False</td>\n",
       "      <td>False</td>\n",
       "      <td>{\"Python\":122332,\"Shell\":5967,\"C#\":1664}</td>\n",
       "      <td>bug;dependencies;documentation;duplicate;enhan...</td>\n",
       "      <td>None</td>\n",
       "      <td>{'cherry_pick_scenarios': [], 'file_commit_gra...</td>\n",
       "      <td>51</td>\n",
       "      <td>0</td>\n",
       "      <td>19</td>\n",
       "      <td>60</td>\n",
       "    </tr>\n",
       "    <tr>\n",
       "      <th>7</th>\n",
       "      <td>3463994</td>\n",
       "      <td>buildingsmart/bsdd</td>\n",
       "      <td>False</td>\n",
       "      <td>544</td>\n",
       "      <td>5</td>\n",
       "      <td>0</td>\n",
       "      <td>36</td>\n",
       "      <td>Python</td>\n",
       "      <td>master</td>\n",
       "      <td>MIT License</td>\n",
       "      <td>...</td>\n",
       "      <td>False</td>\n",
       "      <td>False</td>\n",
       "      <td>{\"Python\":28303,\"C#\":26761,\"XSLT\":8904,\"HTML\":...</td>\n",
       "      <td>bug;dependencies;duplicate;enhancement;heritag...</td>\n",
       "      <td>bsdd</td>\n",
       "      <td>{'cherry_pick_scenarios': [], 'file_commit_gra...</td>\n",
       "      <td>26</td>\n",
       "      <td>0</td>\n",
       "      <td>0</td>\n",
       "      <td>1</td>\n",
       "    </tr>\n",
       "    <tr>\n",
       "      <th>2</th>\n",
       "      <td>3277687</td>\n",
       "      <td>feast-dev/feast</td>\n",
       "      <td>False</td>\n",
       "      <td>3276</td>\n",
       "      <td>72</td>\n",
       "      <td>101</td>\n",
       "      <td>936</td>\n",
       "      <td>Python</td>\n",
       "      <td>master</td>\n",
       "      <td>Apache License 2.0</td>\n",
       "      <td>...</td>\n",
       "      <td>False</td>\n",
       "      <td>False</td>\n",
       "      <td>{\"Python\":2324453,\"TypeScript\":261822,\"Java\":2...</td>\n",
       "      <td>approved;area/core;area/documentation;area/inf...</td>\n",
       "      <td>big-data;data-engineering;data-quality;data-sc...</td>\n",
       "      <td>{'cherry_pick_scenarios': [{'cherry_commit': '...</td>\n",
       "      <td>27</td>\n",
       "      <td>61</td>\n",
       "      <td>5</td>\n",
       "      <td>152</td>\n",
       "    </tr>\n",
       "  </tbody>\n",
       "</table>\n",
       "<p>6 rows × 40 columns</p>\n",
       "</div>"
      ]
     },
     "execution_count": 35,
     "metadata": {},
     "output_type": "execute_result"
    }
   ],
   "execution_count": 35
  },
  {
   "metadata": {
    "ExecuteTime": {
     "end_time": "2024-07-11T10:21:53.354895Z",
     "start_time": "2024-07-11T10:21:53.345892Z"
    }
   },
   "cell_type": "code",
   "source": [
    "print(results['n_cherry_pick_scenarios'].describe())\n",
    "print(results['n_cherry_pick_scenarios'].sum())"
   ],
   "id": "498dcc2a56a7143a",
   "outputs": [
    {
     "name": "stdout",
     "output_type": "stream",
     "text": [
      "count      49.000000\n",
      "mean       90.081633\n",
      "std       275.223230\n",
      "min         0.000000\n",
      "25%         0.000000\n",
      "50%         3.000000\n",
      "75%        18.000000\n",
      "max      1354.000000\n",
      "Name: n_cherry_pick_scenarios, dtype: float64\n",
      "4414.0\n"
     ]
    }
   ],
   "execution_count": 15
  },
  {
   "metadata": {
    "ExecuteTime": {
     "end_time": "2024-07-11T10:21:53.365945Z",
     "start_time": "2024-07-11T10:21:53.356777Z"
    }
   },
   "cell_type": "code",
   "source": [
    "print(results['n_merge_scenarios'].describe())\n",
    "print(results['n_merge_scenarios'].sum())"
   ],
   "id": "e040a75d94237eb4",
   "outputs": [
    {
     "name": "stdout",
     "output_type": "stream",
     "text": [
      "count      49.000000\n",
      "mean      235.816327\n",
      "std       920.191843\n",
      "min         9.000000\n",
      "25%        37.000000\n",
      "50%        56.000000\n",
      "75%       109.000000\n",
      "max      6477.000000\n",
      "Name: n_merge_scenarios, dtype: float64\n",
      "11555.0\n"
     ]
    }
   ],
   "execution_count": 16
  },
  {
   "metadata": {
    "ExecuteTime": {
     "end_time": "2024-07-11T10:21:54.773533Z",
     "start_time": "2024-07-11T10:21:54.760880Z"
    }
   },
   "cell_type": "code",
   "source": [
    "print(results['n_file_commit_gram_scenarios'].describe())\n",
    "print(results['n_file_commit_gram_scenarios'].sum())"
   ],
   "id": "df941b8e0453be30",
   "outputs": [
    {
     "name": "stdout",
     "output_type": "stream",
     "text": [
      "count      49.000000\n",
      "mean      205.224490\n",
      "std       282.936703\n",
      "min        12.000000\n",
      "25%        47.000000\n",
      "50%       107.000000\n",
      "75%       247.000000\n",
      "max      1772.000000\n",
      "Name: n_file_commit_gram_scenarios, dtype: float64\n",
      "10056.0\n"
     ]
    }
   ],
   "execution_count": 17
  },
  {
   "metadata": {},
   "cell_type": "markdown",
   "source": "### Visual analysis",
   "id": "4a4e947f58a91b6d"
  },
  {
   "metadata": {
    "ExecuteTime": {
     "end_time": "2024-07-11T08:07:30.798013Z",
     "start_time": "2024-07-11T08:07:30.647375Z"
    }
   },
   "cell_type": "code",
   "source": "import matplotlib as plot",
   "id": "f434379678ad0001",
   "outputs": [],
   "execution_count": 10
  },
  {
   "metadata": {
    "ExecuteTime": {
     "end_time": "2024-07-11T10:23:52.208425Z",
     "start_time": "2024-07-11T10:23:52.044507Z"
    }
   },
   "cell_type": "code",
   "source": "results['n_merge_scenarios'].plot(kind='box', title='Merge scenarios')",
   "id": "ad4792ae775cdb3",
   "outputs": [
    {
     "data": {
      "text/plain": [
       "<Axes: title={'center': 'Merge scenarios'}>"
      ]
     },
     "execution_count": 20,
     "metadata": {},
     "output_type": "execute_result"
    },
    {
     "data": {
      "text/plain": [
       "<Figure size 640x480 with 1 Axes>"
      ],
      "image/png": "[encoded data removed]"
     },
     "metadata": {},
     "output_type": "display_data"
    }
   ],
   "execution_count": 20
  },
  {
   "metadata": {},
   "cell_type": "code",
   "outputs": [],
   "execution_count": null,
   "source": "",
   "id": "a3c779d72348ae29"
  }
 ],
 "metadata": {
  "kernelspec": {
   "display_name": "Python 3",
   "language": "python",
   "name": "python3"
  },
  "language_info": {
   "codemirror_mode": {
    "name": "ipython",
    "version": 2
   },
   "file_extension": ".py",
   "mimetype": "text/x-python",
   "name": "python",
   "nbconvert_exporter": "python",
   "pygments_lexer": "ipython2",
   "version": "2.7.6"
  }
 },
 "nbformat": 4,
 "nbformat_minor": 5
}
