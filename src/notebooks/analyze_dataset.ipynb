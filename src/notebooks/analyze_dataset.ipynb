{
 "cells": [
  {
   "metadata": {
    "ExecuteTime": {
     "end_time": "2024-09-06T06:45:44.578578Z",
     "start_time": "2024-09-06T06:45:44.575445Z"
    }
   },
   "cell_type": "code",
   "source": [
    "import pandas as pd\n",
    "import ast"
   ],
   "id": "d7c92da92154b840",
   "outputs": [],
   "execution_count": 58
  },
  {
   "metadata": {
    "ExecuteTime": {
     "end_time": "2024-09-06T06:56:21.267007Z",
     "start_time": "2024-09-06T06:56:17.508927Z"
    }
   },
   "cell_type": "code",
   "source": "dataset_df = pd.read_csv('/mnt/c/Users/tobias.lindenbauer/PycharmProjects/vcs-actions-agent/data/scraped_raw_dataset.csv')",
   "id": "3acc9a7c7bf8cde3",
   "outputs": [],
   "execution_count": 72
  },
  {
   "metadata": {},
   "cell_type": "markdown",
   "source": "We know that we have some duplicates, lets see if there is a pattern, such as errors.",
   "id": "e128437b66878c3b"
  },
  {
   "metadata": {
    "ExecuteTime": {
     "end_time": "2024-09-06T06:56:21.275908Z",
     "start_time": "2024-09-06T06:56:21.269667Z"
    }
   },
   "cell_type": "code",
   "source": "duplicates = dataset_df[dataset_df.duplicated(subset=['id'])]",
   "id": "123bc305db12fbe4",
   "outputs": [],
   "execution_count": 73
  },
  {
   "metadata": {
    "ExecuteTime": {
     "end_time": "2024-09-06T06:56:21.887851Z",
     "start_time": "2024-09-06T06:56:21.881124Z"
    }
   },
   "cell_type": "code",
   "source": "duplicates.error.isna().value_counts()",
   "id": "31b52746b33a2b34",
   "outputs": [
    {
     "data": {
      "text/plain": [
       "error\n",
       "False    71\n",
       "Name: count, dtype: int64"
      ]
     },
     "execution_count": 74,
     "metadata": {},
     "output_type": "execute_result"
    }
   ],
   "execution_count": 74
  },
  {
   "metadata": {},
   "cell_type": "markdown",
   "source": "All of the duplicates are erroneous samples.",
   "id": "9c89d3d77ffa68e8"
  },
  {
   "metadata": {
    "ExecuteTime": {
     "end_time": "2024-09-06T06:56:24.832700Z",
     "start_time": "2024-09-06T06:56:24.815530Z"
    }
   },
   "cell_type": "code",
   "source": "duplicates.error.apply(lambda err: err.split('write error:')[-1])",
   "id": "6ddf6348eb201ec8",
   "outputs": [
    {
     "data": {
      "text/plain": [
       "461      No space left on device\\nfatal: fetch-pack: i...\n",
       "642      No space left on device\\nfatal: fetch-pack: i...\n",
       "677     Traceback (most recent call last):\\n  File \"/s...\n",
       "780      No space left on device\\nfatal: fetch-pack: i...\n",
       "790      No space left on device\\nfatal: fetch-pack: i...\n",
       "                              ...                        \n",
       "7701    Traceback (most recent call last):\\n  File \"/s...\n",
       "7856     No space left on device\\nfatal: fetch-pack: i...\n",
       "7909     No space left on device\\nfatal: fetch-pack: i...\n",
       "7926     No space left on device\\nfatal: fetch-pack: i...\n",
       "7933     No space left on device\\nfatal: fetch-pack: i...\n",
       "Name: error, Length: 71, dtype: object"
      ]
     },
     "execution_count": 75,
     "metadata": {},
     "output_type": "execute_result"
    }
   ],
   "execution_count": 75
  },
  {
   "metadata": {},
   "cell_type": "markdown",
   "source": "We note that by far the most common issue is that the repository did not fit into the file system. Thus we should increase the file system size if we ever re-compute the dataset. Let's drop the duplicates.",
   "id": "af0703e1cab5a0aa"
  },
  {
   "metadata": {
    "ExecuteTime": {
     "end_time": "2024-09-06T06:56:28.577398Z",
     "start_time": "2024-09-06T06:56:28.566774Z"
    }
   },
   "cell_type": "code",
   "source": "dataset_df = dataset_df.drop_duplicates(subset=['id'])",
   "id": "3c06cb251d15caf5",
   "outputs": [],
   "execution_count": 76
  },
  {
   "metadata": {
    "ExecuteTime": {
     "end_time": "2024-09-06T06:56:54.967094Z",
     "start_time": "2024-09-06T06:56:29.106080Z"
    }
   },
   "cell_type": "code",
   "source": [
    "dataset_df['file_commit_gram_scenarios'] = dataset_df['file_commit_gram_scenarios'].apply(lambda row: ast.literal_eval(row) if row not in ['None', 'none', 'nan', 'NaN'] and not pd.isna(row) else [])\n",
    "dataset_df['merge_scenarios'] = dataset_df['merge_scenarios'].apply(lambda row: ast.literal_eval(row) if row not in ['None', 'none', 'nan', 'NaN'] and not pd.isna(row) else [])\n",
    "dataset_df['cherry_pick_scenarios'] = dataset_df['cherry_pick_scenarios'].apply(lambda row: ast.literal_eval(row) if row not in ['None', 'none', 'nan', 'NaN'] and not pd.isna(row) else [])"
   ],
   "id": "58316ca726525e3",
   "outputs": [],
   "execution_count": 77
  },
  {
   "metadata": {
    "ExecuteTime": {
     "end_time": "2024-09-06T06:58:16.616676Z",
     "start_time": "2024-09-06T06:58:16.593105Z"
    }
   },
   "cell_type": "code",
   "source": [
    "dataset_df['n_file_commit_gram_scenarios'] = dataset_df['file_commit_gram_scenarios'].apply(lambda row: len(row))\n",
    "dataset_df['n_merge_scenarios'] = dataset_df['merge_scenarios'].apply(lambda row: len(row))\n",
    "dataset_df['n_cherry_pick_scenarios'] = dataset_df['cherry_pick_scenarios'].apply(lambda row: len(row))"
   ],
   "id": "87eebed69b04febc",
   "outputs": [],
   "execution_count": 80
  },
  {
   "metadata": {},
   "cell_type": "markdown",
   "source": "## Python",
   "id": "12f51c6329eed3ee"
  },
  {
   "metadata": {
    "ExecuteTime": {
     "end_time": "2024-09-06T07:03:49.018889Z",
     "start_time": "2024-09-06T07:03:49.008112Z"
    }
   },
   "cell_type": "code",
   "source": [
    "python_subset = dataset_df[dataset_df['programming_language'] == 'python']\n",
    "python_subset['n_file_commit_gram_scenarios'].sum()"
   ],
   "id": "8979603642c77efc",
   "outputs": [
    {
     "data": {
      "text/plain": [
       "196344"
      ]
     },
     "execution_count": 86,
     "metadata": {},
     "output_type": "execute_result"
    }
   ],
   "execution_count": 86
  },
  {
   "metadata": {
    "ExecuteTime": {
     "end_time": "2024-09-06T07:16:46.504074Z",
     "start_time": "2024-09-06T07:16:46.498180Z"
    }
   },
   "cell_type": "code",
   "source": "python_subset['n_file_commit_gram_scenarios'].median()",
   "id": "6eae3ed810937ac5",
   "outputs": [
    {
     "data": {
      "text/plain": [
       "15.0"
      ]
     },
     "execution_count": 111,
     "metadata": {},
     "output_type": "execute_result"
    }
   ],
   "execution_count": 111
  },
  {
   "metadata": {
    "ExecuteTime": {
     "end_time": "2024-09-06T07:06:37.512714Z",
     "start_time": "2024-09-06T07:06:37.508402Z"
    }
   },
   "cell_type": "code",
   "source": "python_subset['n_merge_scenarios'].sum()",
   "id": "7f610ad499240523",
   "outputs": [
    {
     "data": {
      "text/plain": [
       "353026"
      ]
     },
     "execution_count": 90,
     "metadata": {},
     "output_type": "execute_result"
    }
   ],
   "execution_count": 90
  },
  {
   "metadata": {
    "ExecuteTime": {
     "end_time": "2024-09-06T07:16:55.363968Z",
     "start_time": "2024-09-06T07:16:55.358682Z"
    }
   },
   "cell_type": "code",
   "source": "python_subset['n_merge_scenarios'].median()",
   "id": "a4f17686be52f9f7",
   "outputs": [
    {
     "data": {
      "text/plain": [
       "28.0"
      ]
     },
     "execution_count": 112,
     "metadata": {},
     "output_type": "execute_result"
    }
   ],
   "execution_count": 112
  },
  {
   "metadata": {
    "ExecuteTime": {
     "end_time": "2024-09-06T07:06:48.240132Z",
     "start_time": "2024-09-06T07:06:48.235063Z"
    }
   },
   "cell_type": "code",
   "source": "python_subset['n_cherry_pick_scenarios'].sum()",
   "id": "9e6aa115ef1ee03c",
   "outputs": [
    {
     "data": {
      "text/plain": [
       "50133"
      ]
     },
     "execution_count": 91,
     "metadata": {},
     "output_type": "execute_result"
    }
   ],
   "execution_count": 91
  },
  {
   "metadata": {
    "ExecuteTime": {
     "end_time": "2024-09-06T07:17:09.886918Z",
     "start_time": "2024-09-06T07:17:09.878404Z"
    }
   },
   "cell_type": "code",
   "source": "python_subset['n_cherry_pick_scenarios'].describe()",
   "id": "442bc0e59a7482d1",
   "outputs": [
    {
     "data": {
      "text/plain": [
       "count    4966.000000\n",
       "mean       10.095248\n",
       "std       101.739279\n",
       "min         0.000000\n",
       "25%         0.000000\n",
       "50%         0.000000\n",
       "75%         3.000000\n",
       "max      5731.000000\n",
       "Name: n_cherry_pick_scenarios, dtype: float64"
      ]
     },
     "execution_count": 115,
     "metadata": {},
     "output_type": "execute_result"
    }
   ],
   "execution_count": 115
  },
  {
   "metadata": {
    "ExecuteTime": {
     "end_time": "2024-09-06T07:17:53.293226Z",
     "start_time": "2024-09-06T07:17:53.288345Z"
    }
   },
   "cell_type": "code",
   "source": "len(python_subset)",
   "id": "ddf2aee7b7d49509",
   "outputs": [
    {
     "data": {
      "text/plain": [
       "4966"
      ]
     },
     "execution_count": 116,
     "metadata": {},
     "output_type": "execute_result"
    }
   ],
   "execution_count": 116
  },
  {
   "metadata": {
    "ExecuteTime": {
     "end_time": "2024-09-06T07:05:58.913608Z",
     "start_time": "2024-09-06T07:05:58.844862Z"
    }
   },
   "cell_type": "code",
   "source": [
    "# Compute median file-commit gram length\n",
    "python_subset['file_commit_gram_scenarios'].apply(lambda sample: (sum([scenario['times_seen_consecutively'] for scenario in sample])/len(sample) if len(sample) > 0 else 0) if sample is not None else 0).median()"
   ],
   "id": "328260208e6e350c",
   "outputs": [
    {
     "data": {
      "text/plain": [
       "3.727272727272727"
      ]
     },
     "execution_count": 89,
     "metadata": {},
     "output_type": "execute_result"
    }
   ],
   "execution_count": 89
  },
  {
   "metadata": {
    "ExecuteTime": {
     "end_time": "2024-09-06T07:09:44.234581Z",
     "start_time": "2024-09-06T07:09:44.118706Z"
    }
   },
   "cell_type": "code",
   "source": "python_subset['n_cherry_pick_scenarios'].plot(kind='box', title='Cherry-Pick Scenarios Per Repository - Python')",
   "id": "f820ea45b1d57642",
   "outputs": [
    {
     "data": {
      "text/plain": [
       "<Axes: title={'center': 'Cherry-Pick Scenarios Per Repository - Python'}>"
      ]
     },
     "execution_count": 95,
     "metadata": {},
     "output_type": "execute_result"
    },
    {
     "data": {
      "text/plain": [
       "<Figure size 640x480 with 1 Axes>"
      ],
      "image/png": "[encoded data removed]"
     },
     "metadata": {},
     "output_type": "display_data"
    }
   ],
   "execution_count": 95
  },
  {
   "metadata": {},
   "cell_type": "markdown",
   "source": "## Java",
   "id": "5b7f23cfed71f54c"
  },
  {
   "metadata": {
    "ExecuteTime": {
     "end_time": "2024-09-06T07:10:47.777448Z",
     "start_time": "2024-09-06T07:10:47.766697Z"
    }
   },
   "cell_type": "code",
   "source": [
    "java_subset = dataset_df[dataset_df['programming_language'] == 'java']\n",
    "java_subset['n_file_commit_gram_scenarios'].sum()"
   ],
   "id": "2ff390ca9e4c1ddc",
   "outputs": [
    {
     "data": {
      "text/plain": [
       "170909"
      ]
     },
     "execution_count": 96,
     "metadata": {},
     "output_type": "execute_result"
    }
   ],
   "execution_count": 96
  },
  {
   "metadata": {
    "ExecuteTime": {
     "end_time": "2024-09-06T07:10:48.562301Z",
     "start_time": "2024-09-06T07:10:48.556748Z"
    }
   },
   "cell_type": "code",
   "source": "java_subset['n_merge_scenarios'].sum()",
   "id": "be39b9c026f4b8cc",
   "outputs": [
    {
     "data": {
      "text/plain": [
       "183668"
      ]
     },
     "execution_count": 97,
     "metadata": {},
     "output_type": "execute_result"
    }
   ],
   "execution_count": 97
  },
  {
   "metadata": {
    "ExecuteTime": {
     "end_time": "2024-09-06T07:10:49.219435Z",
     "start_time": "2024-09-06T07:10:49.213889Z"
    }
   },
   "cell_type": "code",
   "source": "java_subset['n_cherry_pick_scenarios'].sum()",
   "id": "e2901ea9e48ca81b",
   "outputs": [
    {
     "data": {
      "text/plain": [
       "99925"
      ]
     },
     "execution_count": 98,
     "metadata": {},
     "output_type": "execute_result"
    }
   ],
   "execution_count": 98
  },
  {
   "metadata": {
    "ExecuteTime": {
     "end_time": "2024-09-06T07:10:49.874258Z",
     "start_time": "2024-09-06T07:10:49.813597Z"
    }
   },
   "cell_type": "code",
   "source": [
    "# Compute median file-commit gram length\n",
    "java_subset['file_commit_gram_scenarios'].apply(lambda sample: (sum([scenario['times_seen_consecutively'] for scenario in sample])/len(sample) if len(sample) > 0 else 0) if sample is not None else 0).median()"
   ],
   "id": "d1856bfb87104307",
   "outputs": [
    {
     "data": {
      "text/plain": [
       "3.442233413191219"
      ]
     },
     "execution_count": 99,
     "metadata": {},
     "output_type": "execute_result"
    }
   ],
   "execution_count": 99
  },
  {
   "metadata": {
    "ExecuteTime": {
     "end_time": "2024-09-06T07:18:25.316842Z",
     "start_time": "2024-09-06T07:18:25.311639Z"
    }
   },
   "cell_type": "code",
   "source": "len(java_subset)",
   "id": "b318f4e3b67b1d99",
   "outputs": [
    {
     "data": {
      "text/plain": [
       "2470"
      ]
     },
     "execution_count": 117,
     "metadata": {},
     "output_type": "execute_result"
    }
   ],
   "execution_count": 117
  },
  {
   "metadata": {
    "ExecuteTime": {
     "end_time": "2024-09-06T07:12:16.740242Z",
     "start_time": "2024-09-06T07:12:16.631134Z"
    }
   },
   "cell_type": "code",
   "source": "java_subset['n_merge_scenarios'].plot(kind='box', title='Merge Scenarios Per Repository - Java')",
   "id": "516fe0718ae46577",
   "outputs": [
    {
     "data": {
      "text/plain": [
       "<Axes: title={'center': 'Merge Scenarios Per Repository - Java'}>"
      ]
     },
     "execution_count": 102,
     "metadata": {},
     "output_type": "execute_result"
    },
    {
     "data": {
      "text/plain": [
       "<Figure size 640x480 with 1 Axes>"
      ],
      "image/png": "[encoded data removed]"
     },
     "metadata": {},
     "output_type": "display_data"
    }
   ],
   "execution_count": 102
  },
  {
   "metadata": {},
   "cell_type": "markdown",
   "source": "## Kotlin",
   "id": "1544205898c1d7e4"
  },
  {
   "metadata": {
    "ExecuteTime": {
     "end_time": "2024-09-06T07:13:04.369497Z",
     "start_time": "2024-09-06T07:13:04.361596Z"
    }
   },
   "cell_type": "code",
   "source": [
    "kotlin_subset = dataset_df[dataset_df['programming_language'] == 'kotlin']\n",
    "kotlin_subset['n_file_commit_gram_scenarios'].sum()"
   ],
   "id": "c261aff1df8dfcdd",
   "outputs": [
    {
     "data": {
      "text/plain": [
       "21810"
      ]
     },
     "execution_count": 103,
     "metadata": {},
     "output_type": "execute_result"
    }
   ],
   "execution_count": 103
  },
  {
   "metadata": {
    "ExecuteTime": {
     "end_time": "2024-09-06T07:13:04.969380Z",
     "start_time": "2024-09-06T07:13:04.963244Z"
    }
   },
   "cell_type": "code",
   "source": "kotlin_subset['n_merge_scenarios'].sum()",
   "id": "60092149c456d84f",
   "outputs": [
    {
     "data": {
      "text/plain": [
       "33322"
      ]
     },
     "execution_count": 104,
     "metadata": {},
     "output_type": "execute_result"
    }
   ],
   "execution_count": 104
  },
  {
   "metadata": {
    "ExecuteTime": {
     "end_time": "2024-09-06T07:13:05.391251Z",
     "start_time": "2024-09-06T07:13:05.385263Z"
    }
   },
   "cell_type": "code",
   "source": "kotlin_subset['n_cherry_pick_scenarios'].sum()",
   "id": "1ee1770a796f2de",
   "outputs": [
    {
     "data": {
      "text/plain": [
       "7761"
      ]
     },
     "execution_count": 105,
     "metadata": {},
     "output_type": "execute_result"
    }
   ],
   "execution_count": 105
  },
  {
   "metadata": {
    "ExecuteTime": {
     "end_time": "2024-09-06T07:13:06.078890Z",
     "start_time": "2024-09-06T07:13:06.062958Z"
    }
   },
   "cell_type": "code",
   "source": [
    "# Compute median file-commit gram length\n",
    "kotlin_subset['file_commit_gram_scenarios'].apply(lambda sample: (sum([scenario['times_seen_consecutively'] for scenario in sample])/len(sample) if len(sample) > 0 else 0) if sample is not None else 0).median()"
   ],
   "id": "d7c96e4456cbd0de",
   "outputs": [
    {
     "data": {
      "text/plain": [
       "3.504545454545455"
      ]
     },
     "execution_count": 106,
     "metadata": {},
     "output_type": "execute_result"
    }
   ],
   "execution_count": 106
  },
  {
   "metadata": {
    "ExecuteTime": {
     "end_time": "2024-09-06T07:18:37.624769Z",
     "start_time": "2024-09-06T07:18:37.620065Z"
    }
   },
   "cell_type": "code",
   "source": "len(kotlin_subset)",
   "id": "cdc67cffe138478f",
   "outputs": [
    {
     "data": {
      "text/plain": [
       "496"
      ]
     },
     "execution_count": 118,
     "metadata": {},
     "output_type": "execute_result"
    }
   ],
   "execution_count": 118
  },
  {
   "metadata": {
    "ExecuteTime": {
     "end_time": "2024-09-06T07:14:30.908392Z",
     "start_time": "2024-09-06T07:14:30.798605Z"
    }
   },
   "cell_type": "code",
   "source": "kotlin_subset['n_cherry_pick_scenarios'].plot(kind='box', title='Cherry-Pick Scenarios Per Repository - Kotlin')",
   "id": "19048610f66ba2df",
   "outputs": [
    {
     "data": {
      "text/plain": [
       "<Axes: title={'center': 'Cherry-Pick Scenarios Per Repository - Kotlin'}>"
      ]
     },
     "execution_count": 109,
     "metadata": {},
     "output_type": "execute_result"
    },
    {
     "data": {
      "text/plain": [
       "<Figure size 640x480 with 1 Axes>"
      ],
      "image/png": "[encoded data removed]"
     },
     "metadata": {},
     "output_type": "display_data"
    }
   ],
   "execution_count": 109
  },
  {
   "metadata": {},
   "cell_type": "markdown",
   "source": "## Errors",
   "id": "efc8a534ebd2e98a"
  },
  {
   "metadata": {
    "ExecuteTime": {
     "end_time": "2024-09-06T07:20:40.341109Z",
     "start_time": "2024-09-06T07:20:40.332090Z"
    }
   },
   "cell_type": "code",
   "source": "dataset_df[~dataset_df.error.isna()].programming_language.value_counts()",
   "id": "4ef87a208e9270e6",
   "outputs": [
    {
     "data": {
      "text/plain": [
       "programming_language\n",
       "python    44\n",
       "java      23\n",
       "kotlin     4\n",
       "Name: count, dtype: int64"
      ]
     },
     "execution_count": 120,
     "metadata": {},
     "output_type": "execute_result"
    }
   ],
   "execution_count": 120
  },
  {
   "metadata": {},
   "cell_type": "code",
   "outputs": [],
   "execution_count": null,
   "source": "",
   "id": "e082c4caebaada4b"
  }
 ],
 "metadata": {
  "kernelspec": {
   "display_name": "Python 3",
   "language": "python",
   "name": "python3"
  },
  "language_info": {
   "codemirror_mode": {
    "name": "ipython",
    "version": 2
   },
   "file_extension": ".py",
   "mimetype": "text/x-python",
   "name": "python",
   "nbconvert_exporter": "python",
   "pygments_lexer": "ipython2",
   "version": "2.7.6"
  }
 },
 "nbformat": 4,
 "nbformat_minor": 5
}
