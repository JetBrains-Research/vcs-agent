{
 "cells": [
  {
   "metadata": {
    "ExecuteTime": {
     "end_time": "2024-12-05T13:13:16.877113Z",
     "start_time": "2024-12-05T13:13:16.874559Z"
    }
   },
   "cell_type": "code",
   "source": [
    "import pandas as pd\n",
    "import ast"
   ],
   "id": "d7c92da92154b840",
   "outputs": [],
   "execution_count": 66
  },
  {
   "metadata": {
    "ExecuteTime": {
     "end_time": "2024-12-05T13:19:54.647820Z",
     "start_time": "2024-12-05T13:19:51.512256Z"
    }
   },
   "cell_type": "code",
   "source": [
    "dataset_df = pd.read_csv('../../data/scraped_raw_dataset.csv')\n",
    "cleaned_dataset_df = pd.read_csv('../../data/cleaned_scraped_raw_dataset.csv')"
   ],
   "id": "3acc9a7c7bf8cde3",
   "outputs": [],
   "execution_count": 76
  },
  {
   "metadata": {
    "ExecuteTime": {
     "end_time": "2024-12-05T13:21:10.050256Z",
     "start_time": "2024-12-05T13:21:10.037909Z"
    }
   },
   "cell_type": "code",
   "source": "cleaned_dataset_df[cleaned_dataset_df.duplicated(subset=['id'])]",
   "id": "ece8760a042e9410",
   "outputs": [
    {
     "data": {
      "text/plain": [
       "       Unnamed: 0        id                                    name  is_fork  \\\n",
       "2               2   3983495                         online-ml/river    False   \n",
       "5               5   3986779                     pymedphys/pymedphys    False   \n",
       "7               7   3927570                  jazzband/django-taggit    False   \n",
       "10             10   3965631                  scrapinghub/dateparser    False   \n",
       "13             13   3985700        neuralet/smart-social-distancing    False   \n",
       "...           ...       ...                                     ...      ...   \n",
       "12242       12242  94482262                            kipoi/models    False   \n",
       "12244       12244  95068326                      ddlBoJack/SLAM-LLM    False   \n",
       "12248       12248  88298373                zhayujie/bot-on-anything    False   \n",
       "12250       12250  94532436  Azure-Samples/azure-search-openai-demo    False   \n",
       "12254       12254   4129332                       yuchenlin/rebiber    False   \n",
       "\n",
       "       commits  branches  releases  forks main_language default_branch  ...  \\\n",
       "2         3875         8        15    526        Python           main  ...   \n",
       "5         8882        50        63     70        Python           main  ...   \n",
       "7         1072        12         0    617        Python         master  ...   \n",
       "10        1517        47        29    463        Python         master  ...   \n",
       "13         630         8         7     30        Python         master  ...   \n",
       "...        ...       ...       ...    ...           ...            ...  ...   \n",
       "12242     1044        16        49     57        Python         master  ...   \n",
       "12244      593        22         0     22        Python           main  ...   \n",
       "12248      237         8         9    717        Python         master  ...   \n",
       "12250      465        60        32   3332        Python           main  ...   \n",
       "12254      194         6         6    145        Python           main  ...   \n",
       "\n",
       "      is_disabled is_locked  \\\n",
       "2           False     False   \n",
       "5           False     False   \n",
       "7           False     False   \n",
       "10          False     False   \n",
       "13          False     False   \n",
       "...           ...       ...   \n",
       "12242       False     False   \n",
       "12244       False     False   \n",
       "12248       False     False   \n",
       "12250       False     False   \n",
       "12254       False     False   \n",
       "\n",
       "                                               languages  \\\n",
       "2      {\"Python\":2137050,\"Cython\":39786,\"Rust\":8819,\"...   \n",
       "5      {\"Python\":1352520,\"JavaScript\":16935,\"TeX\":142...   \n",
       "7                           {\"Python\":189174,\"HTML\":124}   \n",
       "10                        {\"Python\":1659332,\"Shell\":260}   \n",
       "13     {\"Python\":828885,\"Dockerfile\":28394,\"HTML\":215...   \n",
       "...                                                  ...   \n",
       "12242  {\"Python\":627308,\"Jupyter Notebook\":531552,\"Sh...   \n",
       "12244   {\"Python\":851540,\"Shell\":7124,\"Dockerfile\":1337}   \n",
       "12248  {\"Python\":135539,\"CSS\":12567,\"JavaScript\":8464...   \n",
       "12250  {\"Python\":443242,\"Bicep\":102231,\"TypeScript\":1...   \n",
       "12254                       {\"Python\":15254,\"Shell\":570}   \n",
       "\n",
       "                                                  labels  \\\n",
       "2      bug;code quality;dependencies;discussion;docum...   \n",
       "5      app;bug;bus-factor;ci / cd;dependencies;deprec...   \n",
       "7      bug;docs;enhancement;good first issue;hacktobe...   \n",
       "10     breaking-change;cleanup;dependencies;discussio...   \n",
       "13     bug;dependencies;documentation;duplicate;enhan...   \n",
       "...                                                  ...   \n",
       "12242  bug;contribution welcome;duplicate;enhancement...   \n",
       "12244  bug;documentation;duplicate;enhancement;good f...   \n",
       "12248  bug;documentation;duplicate;enhancement;good f...   \n",
       "12250  auth;azd;bug;dependencies;documentation;duplic...   \n",
       "12254  bib-files;bug;documentation;duplicate;enhancem...   \n",
       "\n",
       "                                                  topics  \\\n",
       "2      concept-drift;data-science;incremental-learnin...   \n",
       "5      dicom;medical-physics;radiation-oncology;radia...   \n",
       "7                                                    NaN   \n",
       "10                                         hacktoberfest   \n",
       "13                                                   NaN   \n",
       "...                                                  ...   \n",
       "12242                                                NaN   \n",
       "12244                                                NaN   \n",
       "12248  chatgpt;gmail;qq;slack;telegram;web;wechat;wec...   \n",
       "12250  azd-templates;azure;azurecognitivesearch;azure...   \n",
       "12254  bibliography;bibtex;latex;machine-learning;nat...   \n",
       "\n",
       "       programming_language  \\\n",
       "2                    python   \n",
       "5                    python   \n",
       "7                    python   \n",
       "10                   python   \n",
       "13                   python   \n",
       "...                     ...   \n",
       "12242                python   \n",
       "12244                python   \n",
       "12248                python   \n",
       "12250                python   \n",
       "12254                python   \n",
       "\n",
       "                              file_commit_gram_scenarios  \\\n",
       "2      [{'file': 'river/anomaly/test_ilof.py', 'branc...   \n",
       "5      [{'file': 'pymedphys/_version.py', 'branch': '...   \n",
       "7      [{'file': 'tests/tests.py', 'branch': 'origin/...   \n",
       "10     [{'file': 'dateparser/parser.py', 'branch': 'm...   \n",
       "13     [{'file': 'api/routers/cameras.py', 'branch': ...   \n",
       "...                                                  ...   \n",
       "12242  [{'file': 'MMSplice/dataloader.py', 'branch': ...   \n",
       "12244  [{'file': 'src/llama_recipes/models/slam_model...   \n",
       "12248  [{'file': 'app.py', 'branch': 'origin/feat-ter...   \n",
       "12250  [{'file': 'scripts/prepdocslib/textsplitter.py...   \n",
       "12254  [{'file': 'app.py', 'branch': 'origin/webdemo'...   \n",
       "\n",
       "                                         merge_scenarios  \\\n",
       "2      [{'merge_commit_hash': '1addafe2ef4418570039f7...   \n",
       "5      [{'merge_commit_hash': 'd68b28b1773df39495cead...   \n",
       "7      [{'merge_commit_hash': '7af1e7415225ef00c801a7...   \n",
       "10     [{'merge_commit_hash': '544ea39656dc53a97bb24d...   \n",
       "13     [{'merge_commit_hash': 'f7c7b47b10c14f02f02262...   \n",
       "...                                                  ...   \n",
       "12242  [{'merge_commit_hash': '06bfe84758b996d06f7f60...   \n",
       "12244  [{'merge_commit_hash': 'f32b8a20b67360477837cf...   \n",
       "12248  [{'merge_commit_hash': '1e92ee1eda8ccd775779bf...   \n",
       "12250  [{'merge_commit_hash': 'e3dc08714d976fe1f112b5...   \n",
       "12254  [{'merge_commit_hash': 'd6e111aad8f0edcf74f627...   \n",
       "\n",
       "      cherry_pick_scenarios  error  \n",
       "2                        []    NaN  \n",
       "5                        []    NaN  \n",
       "7                        []    NaN  \n",
       "10                       []    NaN  \n",
       "13                       []    NaN  \n",
       "...                     ...    ...  \n",
       "12242                    []    NaN  \n",
       "12244                    []    NaN  \n",
       "12248                    []    NaN  \n",
       "12250                    []    NaN  \n",
       "12254                    []    NaN  \n",
       "\n",
       "[4324 rows x 41 columns]"
      ],
      "text/html": [
       "<div>\n",
       "<style scoped>\n",
       "    .dataframe tbody tr th:only-of-type {\n",
       "        vertical-align: middle;\n",
       "    }\n",
       "\n",
       "    .dataframe tbody tr th {\n",
       "        vertical-align: top;\n",
       "    }\n",
       "\n",
       "    .dataframe thead th {\n",
       "        text-align: right;\n",
       "    }\n",
       "</style>\n",
       "<table border=\"1\" class=\"dataframe\">\n",
       "  <thead>\n",
       "    <tr style=\"text-align: right;\">\n",
       "      <th></th>\n",
       "      <th>Unnamed: 0</th>\n",
       "      <th>id</th>\n",
       "      <th>name</th>\n",
       "      <th>is_fork</th>\n",
       "      <th>commits</th>\n",
       "      <th>branches</th>\n",
       "      <th>releases</th>\n",
       "      <th>forks</th>\n",
       "      <th>main_language</th>\n",
       "      <th>default_branch</th>\n",
       "      <th>...</th>\n",
       "      <th>is_disabled</th>\n",
       "      <th>is_locked</th>\n",
       "      <th>languages</th>\n",
       "      <th>labels</th>\n",
       "      <th>topics</th>\n",
       "      <th>programming_language</th>\n",
       "      <th>file_commit_gram_scenarios</th>\n",
       "      <th>merge_scenarios</th>\n",
       "      <th>cherry_pick_scenarios</th>\n",
       "      <th>error</th>\n",
       "    </tr>\n",
       "  </thead>\n",
       "  <tbody>\n",
       "    <tr>\n",
       "      <th>2</th>\n",
       "      <td>2</td>\n",
       "      <td>3983495</td>\n",
       "      <td>online-ml/river</td>\n",
       "      <td>False</td>\n",
       "      <td>3875</td>\n",
       "      <td>8</td>\n",
       "      <td>15</td>\n",
       "      <td>526</td>\n",
       "      <td>Python</td>\n",
       "      <td>main</td>\n",
       "      <td>...</td>\n",
       "      <td>False</td>\n",
       "      <td>False</td>\n",
       "      <td>{\"Python\":2137050,\"Cython\":39786,\"Rust\":8819,\"...</td>\n",
       "      <td>bug;code quality;dependencies;discussion;docum...</td>\n",
       "      <td>concept-drift;data-science;incremental-learnin...</td>\n",
       "      <td>python</td>\n",
       "      <td>[{'file': 'river/anomaly/test_ilof.py', 'branc...</td>\n",
       "      <td>[{'merge_commit_hash': '1addafe2ef4418570039f7...</td>\n",
       "      <td>[]</td>\n",
       "      <td>NaN</td>\n",
       "    </tr>\n",
       "    <tr>\n",
       "      <th>5</th>\n",
       "      <td>5</td>\n",
       "      <td>3986779</td>\n",
       "      <td>pymedphys/pymedphys</td>\n",
       "      <td>False</td>\n",
       "      <td>8882</td>\n",
       "      <td>50</td>\n",
       "      <td>63</td>\n",
       "      <td>70</td>\n",
       "      <td>Python</td>\n",
       "      <td>main</td>\n",
       "      <td>...</td>\n",
       "      <td>False</td>\n",
       "      <td>False</td>\n",
       "      <td>{\"Python\":1352520,\"JavaScript\":16935,\"TeX\":142...</td>\n",
       "      <td>app;bug;bus-factor;ci / cd;dependencies;deprec...</td>\n",
       "      <td>dicom;medical-physics;radiation-oncology;radia...</td>\n",
       "      <td>python</td>\n",
       "      <td>[{'file': 'pymedphys/_version.py', 'branch': '...</td>\n",
       "      <td>[{'merge_commit_hash': 'd68b28b1773df39495cead...</td>\n",
       "      <td>[]</td>\n",
       "      <td>NaN</td>\n",
       "    </tr>\n",
       "    <tr>\n",
       "      <th>7</th>\n",
       "      <td>7</td>\n",
       "      <td>3927570</td>\n",
       "      <td>jazzband/django-taggit</td>\n",
       "      <td>False</td>\n",
       "      <td>1072</td>\n",
       "      <td>12</td>\n",
       "      <td>0</td>\n",
       "      <td>617</td>\n",
       "      <td>Python</td>\n",
       "      <td>master</td>\n",
       "      <td>...</td>\n",
       "      <td>False</td>\n",
       "      <td>False</td>\n",
       "      <td>{\"Python\":189174,\"HTML\":124}</td>\n",
       "      <td>bug;docs;enhancement;good first issue;hacktobe...</td>\n",
       "      <td>NaN</td>\n",
       "      <td>python</td>\n",
       "      <td>[{'file': 'tests/tests.py', 'branch': 'origin/...</td>\n",
       "      <td>[{'merge_commit_hash': '7af1e7415225ef00c801a7...</td>\n",
       "      <td>[]</td>\n",
       "      <td>NaN</td>\n",
       "    </tr>\n",
       "    <tr>\n",
       "      <th>10</th>\n",
       "      <td>10</td>\n",
       "      <td>3965631</td>\n",
       "      <td>scrapinghub/dateparser</td>\n",
       "      <td>False</td>\n",
       "      <td>1517</td>\n",
       "      <td>47</td>\n",
       "      <td>29</td>\n",
       "      <td>463</td>\n",
       "      <td>Python</td>\n",
       "      <td>master</td>\n",
       "      <td>...</td>\n",
       "      <td>False</td>\n",
       "      <td>False</td>\n",
       "      <td>{\"Python\":1659332,\"Shell\":260}</td>\n",
       "      <td>breaking-change;cleanup;dependencies;discussio...</td>\n",
       "      <td>hacktoberfest</td>\n",
       "      <td>python</td>\n",
       "      <td>[{'file': 'dateparser/parser.py', 'branch': 'm...</td>\n",
       "      <td>[{'merge_commit_hash': '544ea39656dc53a97bb24d...</td>\n",
       "      <td>[]</td>\n",
       "      <td>NaN</td>\n",
       "    </tr>\n",
       "    <tr>\n",
       "      <th>13</th>\n",
       "      <td>13</td>\n",
       "      <td>3985700</td>\n",
       "      <td>neuralet/smart-social-distancing</td>\n",
       "      <td>False</td>\n",
       "      <td>630</td>\n",
       "      <td>8</td>\n",
       "      <td>7</td>\n",
       "      <td>30</td>\n",
       "      <td>Python</td>\n",
       "      <td>master</td>\n",
       "      <td>...</td>\n",
       "      <td>False</td>\n",
       "      <td>False</td>\n",
       "      <td>{\"Python\":828885,\"Dockerfile\":28394,\"HTML\":215...</td>\n",
       "      <td>bug;dependencies;documentation;duplicate;enhan...</td>\n",
       "      <td>NaN</td>\n",
       "      <td>python</td>\n",
       "      <td>[{'file': 'api/routers/cameras.py', 'branch': ...</td>\n",
       "      <td>[{'merge_commit_hash': 'f7c7b47b10c14f02f02262...</td>\n",
       "      <td>[]</td>\n",
       "      <td>NaN</td>\n",
       "    </tr>\n",
       "    <tr>\n",
       "      <th>...</th>\n",
       "      <td>...</td>\n",
       "      <td>...</td>\n",
       "      <td>...</td>\n",
       "      <td>...</td>\n",
       "      <td>...</td>\n",
       "      <td>...</td>\n",
       "      <td>...</td>\n",
       "      <td>...</td>\n",
       "      <td>...</td>\n",
       "      <td>...</td>\n",
       "      <td>...</td>\n",
       "      <td>...</td>\n",
       "      <td>...</td>\n",
       "      <td>...</td>\n",
       "      <td>...</td>\n",
       "      <td>...</td>\n",
       "      <td>...</td>\n",
       "      <td>...</td>\n",
       "      <td>...</td>\n",
       "      <td>...</td>\n",
       "      <td>...</td>\n",
       "    </tr>\n",
       "    <tr>\n",
       "      <th>12242</th>\n",
       "      <td>12242</td>\n",
       "      <td>94482262</td>\n",
       "      <td>kipoi/models</td>\n",
       "      <td>False</td>\n",
       "      <td>1044</td>\n",
       "      <td>16</td>\n",
       "      <td>49</td>\n",
       "      <td>57</td>\n",
       "      <td>Python</td>\n",
       "      <td>master</td>\n",
       "      <td>...</td>\n",
       "      <td>False</td>\n",
       "      <td>False</td>\n",
       "      <td>{\"Python\":627308,\"Jupyter Notebook\":531552,\"Sh...</td>\n",
       "      <td>bug;contribution welcome;duplicate;enhancement...</td>\n",
       "      <td>NaN</td>\n",
       "      <td>python</td>\n",
       "      <td>[{'file': 'MMSplice/dataloader.py', 'branch': ...</td>\n",
       "      <td>[{'merge_commit_hash': '06bfe84758b996d06f7f60...</td>\n",
       "      <td>[]</td>\n",
       "      <td>NaN</td>\n",
       "    </tr>\n",
       "    <tr>\n",
       "      <th>12244</th>\n",
       "      <td>12244</td>\n",
       "      <td>95068326</td>\n",
       "      <td>ddlBoJack/SLAM-LLM</td>\n",
       "      <td>False</td>\n",
       "      <td>593</td>\n",
       "      <td>22</td>\n",
       "      <td>0</td>\n",
       "      <td>22</td>\n",
       "      <td>Python</td>\n",
       "      <td>main</td>\n",
       "      <td>...</td>\n",
       "      <td>False</td>\n",
       "      <td>False</td>\n",
       "      <td>{\"Python\":851540,\"Shell\":7124,\"Dockerfile\":1337}</td>\n",
       "      <td>bug;documentation;duplicate;enhancement;good f...</td>\n",
       "      <td>NaN</td>\n",
       "      <td>python</td>\n",
       "      <td>[{'file': 'src/llama_recipes/models/slam_model...</td>\n",
       "      <td>[{'merge_commit_hash': 'f32b8a20b67360477837cf...</td>\n",
       "      <td>[]</td>\n",
       "      <td>NaN</td>\n",
       "    </tr>\n",
       "    <tr>\n",
       "      <th>12248</th>\n",
       "      <td>12248</td>\n",
       "      <td>88298373</td>\n",
       "      <td>zhayujie/bot-on-anything</td>\n",
       "      <td>False</td>\n",
       "      <td>237</td>\n",
       "      <td>8</td>\n",
       "      <td>9</td>\n",
       "      <td>717</td>\n",
       "      <td>Python</td>\n",
       "      <td>master</td>\n",
       "      <td>...</td>\n",
       "      <td>False</td>\n",
       "      <td>False</td>\n",
       "      <td>{\"Python\":135539,\"CSS\":12567,\"JavaScript\":8464...</td>\n",
       "      <td>bug;documentation;duplicate;enhancement;good f...</td>\n",
       "      <td>chatgpt;gmail;qq;slack;telegram;web;wechat;wec...</td>\n",
       "      <td>python</td>\n",
       "      <td>[{'file': 'app.py', 'branch': 'origin/feat-ter...</td>\n",
       "      <td>[{'merge_commit_hash': '1e92ee1eda8ccd775779bf...</td>\n",
       "      <td>[]</td>\n",
       "      <td>NaN</td>\n",
       "    </tr>\n",
       "    <tr>\n",
       "      <th>12250</th>\n",
       "      <td>12250</td>\n",
       "      <td>94532436</td>\n",
       "      <td>Azure-Samples/azure-search-openai-demo</td>\n",
       "      <td>False</td>\n",
       "      <td>465</td>\n",
       "      <td>60</td>\n",
       "      <td>32</td>\n",
       "      <td>3332</td>\n",
       "      <td>Python</td>\n",
       "      <td>main</td>\n",
       "      <td>...</td>\n",
       "      <td>False</td>\n",
       "      <td>False</td>\n",
       "      <td>{\"Python\":443242,\"Bicep\":102231,\"TypeScript\":1...</td>\n",
       "      <td>auth;azd;bug;dependencies;documentation;duplic...</td>\n",
       "      <td>azd-templates;azure;azurecognitivesearch;azure...</td>\n",
       "      <td>python</td>\n",
       "      <td>[{'file': 'scripts/prepdocslib/textsplitter.py...</td>\n",
       "      <td>[{'merge_commit_hash': 'e3dc08714d976fe1f112b5...</td>\n",
       "      <td>[]</td>\n",
       "      <td>NaN</td>\n",
       "    </tr>\n",
       "    <tr>\n",
       "      <th>12254</th>\n",
       "      <td>12254</td>\n",
       "      <td>4129332</td>\n",
       "      <td>yuchenlin/rebiber</td>\n",
       "      <td>False</td>\n",
       "      <td>194</td>\n",
       "      <td>6</td>\n",
       "      <td>6</td>\n",
       "      <td>145</td>\n",
       "      <td>Python</td>\n",
       "      <td>main</td>\n",
       "      <td>...</td>\n",
       "      <td>False</td>\n",
       "      <td>False</td>\n",
       "      <td>{\"Python\":15254,\"Shell\":570}</td>\n",
       "      <td>bib-files;bug;documentation;duplicate;enhancem...</td>\n",
       "      <td>bibliography;bibtex;latex;machine-learning;nat...</td>\n",
       "      <td>python</td>\n",
       "      <td>[{'file': 'app.py', 'branch': 'origin/webdemo'...</td>\n",
       "      <td>[{'merge_commit_hash': 'd6e111aad8f0edcf74f627...</td>\n",
       "      <td>[]</td>\n",
       "      <td>NaN</td>\n",
       "    </tr>\n",
       "  </tbody>\n",
       "</table>\n",
       "<p>4324 rows × 41 columns</p>\n",
       "</div>"
      ]
     },
     "execution_count": 78,
     "metadata": {},
     "output_type": "execute_result"
    }
   ],
   "execution_count": 78
  },
  {
   "metadata": {},
   "cell_type": "markdown",
   "source": "If we remove all duplicates we would get back to the original dataset exactly.",
   "id": "bd88394441b25af1"
  },
  {
   "metadata": {
    "ExecuteTime": {
     "end_time": "2024-12-05T08:10:59.598463Z",
     "start_time": "2024-12-05T08:10:59.595202Z"
    }
   },
   "cell_type": "code",
   "source": "dataset_df.programming_language.value_counts()",
   "id": "5f1123a9fea054cf",
   "outputs": [
    {
     "data": {
      "text/plain": [
       "programming_language\n",
       "python    4966\n",
       "java      2470\n",
       "kotlin     496\n",
       "Name: count, dtype: int64"
      ]
     },
     "execution_count": 59,
     "metadata": {},
     "output_type": "execute_result"
    }
   ],
   "execution_count": 59
  },
  {
   "metadata": {},
   "cell_type": "markdown",
   "source": "We know that we have some duplicates, lets see if there is a pattern, such as errors.",
   "id": "e128437b66878c3b"
  },
  {
   "metadata": {
    "ExecuteTime": {
     "end_time": "2024-12-05T13:13:28.665041Z",
     "start_time": "2024-12-05T13:13:28.662073Z"
    }
   },
   "cell_type": "code",
   "source": "duplicates = dataset_df[dataset_df.duplicated(subset=['id'])]",
   "id": "123bc305db12fbe4",
   "outputs": [],
   "execution_count": 68
  },
  {
   "metadata": {
    "ExecuteTime": {
     "end_time": "2024-12-05T13:20:20.988073Z",
     "start_time": "2024-12-05T13:20:20.983747Z"
    }
   },
   "cell_type": "code",
   "source": "dataset_df.error.isna().value_counts()",
   "id": "6d895f4b3ff1809",
   "outputs": [
    {
     "data": {
      "text/plain": [
       "error\n",
       "True     7848\n",
       "False     168\n",
       "Name: count, dtype: int64"
      ]
     },
     "execution_count": 77,
     "metadata": {},
     "output_type": "execute_result"
    }
   ],
   "execution_count": 77
  },
  {
   "metadata": {
    "ExecuteTime": {
     "end_time": "2024-12-05T13:17:43.261957Z",
     "start_time": "2024-12-05T13:17:43.229125Z"
    }
   },
   "cell_type": "code",
   "source": "dataset_df[~dataset_df.error.isna()].error.apply(lambda err: err.split('write error:')[-1])",
   "id": "8b483b4bae5f51f8",
   "outputs": [
    {
     "data": {
      "text/plain": [
       "121      No space left on device\\nfatal: fetch-pack: i...\n",
       "122      No space left on device\\nfatal: fetch-pack: i...\n",
       "252      No space left on device\\nfatal: fetch-pack: i...\n",
       "253      No space left on device\\nfatal: fetch-pack: i...\n",
       "311      No space left on device\\nfatal: fetch-pack: i...\n",
       "                              ...                        \n",
       "7873     No space left on device\\nfatal: fetch-pack: i...\n",
       "7952     No space left on device\\nfatal: fetch-pack: i...\n",
       "7953     No space left on device\\nfatal: fetch-pack: i...\n",
       "7963     No space left on device\\nfatal: fetch-pack: i...\n",
       "7964     No space left on device\\nfatal: fetch-pack: i...\n",
       "Name: error, Length: 168, dtype: object"
      ]
     },
     "execution_count": 75,
     "metadata": {},
     "output_type": "execute_result"
    }
   ],
   "execution_count": 75
  },
  {
   "metadata": {
    "ExecuteTime": {
     "end_time": "2024-12-05T07:59:36.368469Z",
     "start_time": "2024-12-05T07:59:36.365869Z"
    }
   },
   "cell_type": "code",
   "source": "duplicates.error.isna().value_counts()",
   "id": "31b52746b33a2b34",
   "outputs": [
    {
     "data": {
      "text/plain": [
       "error\n",
       "False    84\n",
       "Name: count, dtype: int64"
      ]
     },
     "execution_count": 24,
     "metadata": {},
     "output_type": "execute_result"
    }
   ],
   "execution_count": 24
  },
  {
   "metadata": {},
   "cell_type": "markdown",
   "source": "All of the duplicates are erroneous samples.",
   "id": "9c89d3d77ffa68e8"
  },
  {
   "metadata": {
    "ExecuteTime": {
     "end_time": "2024-12-05T07:59:37.046448Z",
     "start_time": "2024-12-05T07:59:37.024278Z"
    }
   },
   "cell_type": "code",
   "source": "duplicates.error.apply(lambda err: err.split('write error:')[-1])",
   "id": "6ddf6348eb201ec8",
   "outputs": [
    {
     "data": {
      "text/plain": [
       "122      No space left on device\\nfatal: fetch-pack: i...\n",
       "253      No space left on device\\nfatal: fetch-pack: i...\n",
       "312      No space left on device\\nfatal: fetch-pack: i...\n",
       "325     Traceback (most recent call last):\\n  File \"/s...\n",
       "336      No space left on device\\nfatal: fetch-pack: i...\n",
       "                              ...                        \n",
       "7798     No space left on device\\nfatal: fetch-pack: i...\n",
       "7856    Traceback (most recent call last):\\n  File \"/s...\n",
       "7873     No space left on device\\nfatal: fetch-pack: i...\n",
       "7953     No space left on device\\nfatal: fetch-pack: i...\n",
       "7964     No space left on device\\nfatal: fetch-pack: i...\n",
       "Name: error, Length: 84, dtype: object"
      ]
     },
     "execution_count": 25,
     "metadata": {},
     "output_type": "execute_result"
    }
   ],
   "execution_count": 25
  },
  {
   "metadata": {},
   "cell_type": "markdown",
   "source": "We note that by far the most common issue is that the repository did not fit into the file system. Thus we should increase the file system size if we ever re-compute the dataset. Let's drop the duplicates.",
   "id": "af0703e1cab5a0aa"
  },
  {
   "metadata": {
    "ExecuteTime": {
     "end_time": "2024-12-05T07:59:37.987468Z",
     "start_time": "2024-12-05T07:59:37.981579Z"
    }
   },
   "cell_type": "code",
   "source": "dataset_df = dataset_df.drop_duplicates(subset=['id'])",
   "id": "3c06cb251d15caf5",
   "outputs": [],
   "execution_count": 26
  },
  {
   "metadata": {
    "ExecuteTime": {
     "end_time": "2024-12-05T07:59:54.089302Z",
     "start_time": "2024-12-05T07:59:38.305422Z"
    }
   },
   "cell_type": "code",
   "source": [
    "dataset_df['file_commit_gram_scenarios'] = dataset_df['file_commit_gram_scenarios'].apply(lambda row: ast.literal_eval(row) if row not in ['None', 'none', 'nan', 'NaN'] and not pd.isna(row) else [])\n",
    "dataset_df['merge_scenarios'] = dataset_df['merge_scenarios'].apply(lambda row: ast.literal_eval(row) if row not in ['None', 'none', 'nan', 'NaN'] and not pd.isna(row) else [])\n",
    "dataset_df['cherry_pick_scenarios'] = dataset_df['cherry_pick_scenarios'].apply(lambda row: ast.literal_eval(row) if row not in ['None', 'none', 'nan', 'NaN'] and not pd.isna(row) else [])"
   ],
   "id": "58316ca726525e3",
   "outputs": [],
   "execution_count": 27
  },
  {
   "metadata": {
    "ExecuteTime": {
     "end_time": "2024-12-05T07:59:54.099033Z",
     "start_time": "2024-12-05T07:59:54.092151Z"
    }
   },
   "cell_type": "code",
   "source": [
    "dataset_df['n_file_commit_gram_scenarios'] = dataset_df['file_commit_gram_scenarios'].apply(lambda row: len(row))\n",
    "dataset_df['n_merge_scenarios'] = dataset_df['merge_scenarios'].apply(lambda row: len(row))\n",
    "dataset_df['n_cherry_pick_scenarios'] = dataset_df['cherry_pick_scenarios'].apply(lambda row: len(row))"
   ],
   "id": "87eebed69b04febc",
   "outputs": [],
   "execution_count": 28
  },
  {
   "metadata": {},
   "cell_type": "markdown",
   "source": "## Python",
   "id": "12f51c6329eed3ee"
  },
  {
   "metadata": {
    "ExecuteTime": {
     "end_time": "2024-12-05T07:59:54.360605Z",
     "start_time": "2024-12-05T07:59:54.300239Z"
    }
   },
   "cell_type": "code",
   "source": [
    "python_subset = dataset_df[dataset_df['programming_language'] == 'python']\n",
    "python_subset['n_file_commit_gram_scenarios'].sum()"
   ],
   "id": "8979603642c77efc",
   "outputs": [
    {
     "data": {
      "text/plain": [
       "154059"
      ]
     },
     "execution_count": 29,
     "metadata": {},
     "output_type": "execute_result"
    }
   ],
   "execution_count": 29
  },
  {
   "metadata": {
    "ExecuteTime": {
     "end_time": "2024-12-05T07:59:54.563189Z",
     "start_time": "2024-12-05T07:59:54.560696Z"
    }
   },
   "cell_type": "code",
   "source": "python_subset['n_file_commit_gram_scenarios'].median()",
   "id": "6eae3ed810937ac5",
   "outputs": [
    {
     "data": {
      "text/plain": [
       "9.0"
      ]
     },
     "execution_count": 30,
     "metadata": {},
     "output_type": "execute_result"
    }
   ],
   "execution_count": 30
  },
  {
   "metadata": {
    "ExecuteTime": {
     "end_time": "2024-12-05T07:59:54.766011Z",
     "start_time": "2024-12-05T07:59:54.763873Z"
    }
   },
   "cell_type": "code",
   "source": "python_subset['n_merge_scenarios'].sum()",
   "id": "7f610ad499240523",
   "outputs": [
    {
     "data": {
      "text/plain": [
       "360254"
      ]
     },
     "execution_count": 31,
     "metadata": {},
     "output_type": "execute_result"
    }
   ],
   "execution_count": 31
  },
  {
   "metadata": {
    "ExecuteTime": {
     "end_time": "2024-12-05T07:59:54.972390Z",
     "start_time": "2024-12-05T07:59:54.970047Z"
    }
   },
   "cell_type": "code",
   "source": "python_subset['n_merge_scenarios'].median()",
   "id": "a4f17686be52f9f7",
   "outputs": [
    {
     "data": {
      "text/plain": [
       "28.0"
      ]
     },
     "execution_count": 32,
     "metadata": {},
     "output_type": "execute_result"
    }
   ],
   "execution_count": 32
  },
  {
   "metadata": {
    "ExecuteTime": {
     "end_time": "2024-12-05T07:59:55.174933Z",
     "start_time": "2024-12-05T07:59:55.172709Z"
    }
   },
   "cell_type": "code",
   "source": "python_subset['n_cherry_pick_scenarios'].sum()",
   "id": "9e6aa115ef1ee03c",
   "outputs": [
    {
     "data": {
      "text/plain": [
       "51490"
      ]
     },
     "execution_count": 33,
     "metadata": {},
     "output_type": "execute_result"
    }
   ],
   "execution_count": 33
  },
  {
   "metadata": {
    "ExecuteTime": {
     "end_time": "2024-12-05T07:59:55.377896Z",
     "start_time": "2024-12-05T07:59:55.374444Z"
    }
   },
   "cell_type": "code",
   "source": "python_subset['n_cherry_pick_scenarios'].describe()",
   "id": "442bc0e59a7482d1",
   "outputs": [
    {
     "data": {
      "text/plain": [
       "count    4966.000000\n",
       "mean       10.368506\n",
       "std       104.544544\n",
       "min         0.000000\n",
       "25%         0.000000\n",
       "50%         0.000000\n",
       "75%         3.000000\n",
       "max      5904.000000\n",
       "Name: n_cherry_pick_scenarios, dtype: float64"
      ]
     },
     "execution_count": 34,
     "metadata": {},
     "output_type": "execute_result"
    }
   ],
   "execution_count": 34
  },
  {
   "metadata": {
    "ExecuteTime": {
     "end_time": "2024-12-05T07:59:55.594362Z",
     "start_time": "2024-12-05T07:59:55.592299Z"
    }
   },
   "cell_type": "code",
   "source": "len(python_subset)",
   "id": "ddf2aee7b7d49509",
   "outputs": [
    {
     "data": {
      "text/plain": [
       "4966"
      ]
     },
     "execution_count": 35,
     "metadata": {},
     "output_type": "execute_result"
    }
   ],
   "execution_count": 35
  },
  {
   "metadata": {
    "ExecuteTime": {
     "end_time": "2024-12-05T07:59:55.680601Z",
     "start_time": "2024-12-05T07:59:55.667037Z"
    }
   },
   "cell_type": "code",
   "source": [
    "# Compute median file-commit gram length\n",
    "python_subset['file_commit_gram_scenarios'].apply(lambda sample: (sum([scenario['times_seen_consecutively'] for scenario in sample])/len(sample) if len(sample) > 0 else 0) if sample is not None else 0).median()"
   ],
   "id": "328260208e6e350c",
   "outputs": [
    {
     "data": {
      "text/plain": [
       "3.5"
      ]
     },
     "execution_count": 36,
     "metadata": {},
     "output_type": "execute_result"
    }
   ],
   "execution_count": 36
  },
  {
   "metadata": {
    "ExecuteTime": {
     "end_time": "2024-12-05T08:07:10.437492Z",
     "start_time": "2024-12-05T08:07:10.384333Z"
    }
   },
   "cell_type": "code",
   "source": "python_subset['n_merge_scenarios'].plot(kind='box', title='Merge Scenarios Per Repository - Python')",
   "id": "f820ea45b1d57642",
   "outputs": [
    {
     "data": {
      "text/plain": [
       "<Axes: title={'center': 'Merge Scenarios Per Repository - Python'}>"
      ]
     },
     "execution_count": 57,
     "metadata": {},
     "output_type": "execute_result"
    },
    {
     "data": {
      "text/plain": [
       "<Figure size 640x480 with 1 Axes>"
      ],
      "image/png": "[encoded data removed]"
     },
     "metadata": {},
     "output_type": "display_data"
    }
   ],
   "execution_count": 57
  },
  {
   "metadata": {},
   "cell_type": "markdown",
   "source": "## Java",
   "id": "5b7f23cfed71f54c"
  },
  {
   "metadata": {
    "ExecuteTime": {
     "end_time": "2024-12-05T08:00:03.672918Z",
     "start_time": "2024-12-05T08:00:03.667504Z"
    }
   },
   "cell_type": "code",
   "source": [
    "java_subset = dataset_df[dataset_df['programming_language'] == 'java']\n",
    "java_subset['n_file_commit_gram_scenarios'].sum()"
   ],
   "id": "2ff390ca9e4c1ddc",
   "outputs": [
    {
     "data": {
      "text/plain": [
       "125335"
      ]
     },
     "execution_count": 38,
     "metadata": {},
     "output_type": "execute_result"
    }
   ],
   "execution_count": 38
  },
  {
   "metadata": {
    "ExecuteTime": {
     "end_time": "2024-12-05T08:00:04.025992Z",
     "start_time": "2024-12-05T08:00:04.023763Z"
    }
   },
   "cell_type": "code",
   "source": "java_subset['n_merge_scenarios'].sum()",
   "id": "be39b9c026f4b8cc",
   "outputs": [
    {
     "data": {
      "text/plain": [
       "186826"
      ]
     },
     "execution_count": 39,
     "metadata": {},
     "output_type": "execute_result"
    }
   ],
   "execution_count": 39
  },
  {
   "metadata": {
    "ExecuteTime": {
     "end_time": "2024-12-05T08:00:04.358580Z",
     "start_time": "2024-12-05T08:00:04.356241Z"
    }
   },
   "cell_type": "code",
   "source": "java_subset['n_cherry_pick_scenarios'].sum()",
   "id": "e2901ea9e48ca81b",
   "outputs": [
    {
     "data": {
      "text/plain": [
       "102940"
      ]
     },
     "execution_count": 40,
     "metadata": {},
     "output_type": "execute_result"
    }
   ],
   "execution_count": 40
  },
  {
   "metadata": {
    "ExecuteTime": {
     "end_time": "2024-12-05T08:00:04.703983Z",
     "start_time": "2024-12-05T08:00:04.692440Z"
    }
   },
   "cell_type": "code",
   "source": [
    "# Compute median file-commit gram length\n",
    "java_subset['file_commit_gram_scenarios'].apply(lambda sample: (sum([scenario['times_seen_consecutively'] for scenario in sample])/len(sample) if len(sample) > 0 else 0) if sample is not None else 0).median()"
   ],
   "id": "d1856bfb87104307",
   "outputs": [
    {
     "data": {
      "text/plain": [
       "3.2857142857142856"
      ]
     },
     "execution_count": 41,
     "metadata": {},
     "output_type": "execute_result"
    }
   ],
   "execution_count": 41
  },
  {
   "metadata": {
    "ExecuteTime": {
     "end_time": "2024-12-05T08:00:05.041030Z",
     "start_time": "2024-12-05T08:00:05.038898Z"
    }
   },
   "cell_type": "code",
   "source": "len(java_subset)",
   "id": "b318f4e3b67b1d99",
   "outputs": [
    {
     "data": {
      "text/plain": [
       "2470"
      ]
     },
     "execution_count": 42,
     "metadata": {},
     "output_type": "execute_result"
    }
   ],
   "execution_count": 42
  },
  {
   "metadata": {
    "ExecuteTime": {
     "end_time": "2024-12-05T08:06:06.330831Z",
     "start_time": "2024-12-05T08:06:06.274307Z"
    }
   },
   "cell_type": "code",
   "source": "java_subset['n_file_commit_gram_scenarios'].plot(kind='box', title='File-Commit Gram Scenarios Per Repository - Java')",
   "id": "516fe0718ae46577",
   "outputs": [
    {
     "data": {
      "text/plain": [
       "<Axes: title={'center': 'File-Commit Gram Scenarios Per Repository - Java'}>"
      ]
     },
     "execution_count": 54,
     "metadata": {},
     "output_type": "execute_result"
    },
    {
     "data": {
      "text/plain": [
       "<Figure size 640x480 with 1 Axes>"
      ],
      "image/png": "[encoded data removed]"
     },
     "metadata": {},
     "output_type": "display_data"
    }
   ],
   "execution_count": 54
  },
  {
   "metadata": {},
   "cell_type": "markdown",
   "source": "## Kotlin",
   "id": "1544205898c1d7e4"
  },
  {
   "metadata": {
    "ExecuteTime": {
     "end_time": "2024-12-05T08:00:07.987497Z",
     "start_time": "2024-12-05T08:00:07.983935Z"
    }
   },
   "cell_type": "code",
   "source": [
    "kotlin_subset = dataset_df[dataset_df['programming_language'] == 'kotlin']\n",
    "kotlin_subset['n_file_commit_gram_scenarios'].sum()"
   ],
   "id": "c261aff1df8dfcdd",
   "outputs": [
    {
     "data": {
      "text/plain": [
       "16791"
      ]
     },
     "execution_count": 44,
     "metadata": {},
     "output_type": "execute_result"
    }
   ],
   "execution_count": 44
  },
  {
   "metadata": {
    "ExecuteTime": {
     "end_time": "2024-12-05T08:00:08.362579Z",
     "start_time": "2024-12-05T08:00:08.360229Z"
    }
   },
   "cell_type": "code",
   "source": "kotlin_subset['n_merge_scenarios'].sum()",
   "id": "60092149c456d84f",
   "outputs": [
    {
     "data": {
      "text/plain": [
       "32163"
      ]
     },
     "execution_count": 45,
     "metadata": {},
     "output_type": "execute_result"
    }
   ],
   "execution_count": 45
  },
  {
   "metadata": {
    "ExecuteTime": {
     "end_time": "2024-12-05T08:00:08.727297Z",
     "start_time": "2024-12-05T08:00:08.725064Z"
    }
   },
   "cell_type": "code",
   "source": "kotlin_subset['n_cherry_pick_scenarios'].sum()",
   "id": "1ee1770a796f2de",
   "outputs": [
    {
     "data": {
      "text/plain": [
       "8292"
      ]
     },
     "execution_count": 46,
     "metadata": {},
     "output_type": "execute_result"
    }
   ],
   "execution_count": 46
  },
  {
   "metadata": {
    "ExecuteTime": {
     "end_time": "2024-12-05T08:00:09.097717Z",
     "start_time": "2024-12-05T08:00:09.093186Z"
    }
   },
   "cell_type": "code",
   "source": [
    "# Compute median file-commit gram length\n",
    "kotlin_subset['file_commit_gram_scenarios'].apply(lambda sample: (sum([scenario['times_seen_consecutively'] for scenario in sample])/len(sample) if len(sample) > 0 else 0) if sample is not None else 0).median()"
   ],
   "id": "d7c96e4456cbd0de",
   "outputs": [
    {
     "data": {
      "text/plain": [
       "3.372685185185185"
      ]
     },
     "execution_count": 47,
     "metadata": {},
     "output_type": "execute_result"
    }
   ],
   "execution_count": 47
  },
  {
   "metadata": {
    "ExecuteTime": {
     "end_time": "2024-12-05T08:00:09.567008Z",
     "start_time": "2024-12-05T08:00:09.564687Z"
    }
   },
   "cell_type": "code",
   "source": "len(kotlin_subset)",
   "id": "cdc67cffe138478f",
   "outputs": [
    {
     "data": {
      "text/plain": [
       "496"
      ]
     },
     "execution_count": 48,
     "metadata": {},
     "output_type": "execute_result"
    }
   ],
   "execution_count": 48
  },
  {
   "metadata": {
    "ExecuteTime": {
     "end_time": "2024-12-05T08:05:24.366215Z",
     "start_time": "2024-12-05T08:05:24.316222Z"
    }
   },
   "cell_type": "code",
   "source": "kotlin_subset['n_file_commit_gram_scenarios'].plot(kind='box', title='File-Commit Gram Scenarios Per Repository - Kotlin')",
   "id": "19048610f66ba2df",
   "outputs": [
    {
     "data": {
      "text/plain": [
       "<Axes: title={'center': 'File-Commit Gram Scenarios Per Repository - Kotlin'}>"
      ]
     },
     "execution_count": 52,
     "metadata": {},
     "output_type": "execute_result"
    },
    {
     "data": {
      "text/plain": [
       "<Figure size 640x480 with 1 Axes>"
      ],
      "image/png": "[encoded data removed]"
     },
     "metadata": {},
     "output_type": "display_data"
    }
   ],
   "execution_count": 52
  },
  {
   "metadata": {},
   "cell_type": "markdown",
   "source": "## Errors",
   "id": "efc8a534ebd2e98a"
  },
  {
   "metadata": {
    "ExecuteTime": {
     "end_time": "2024-12-05T08:00:12.664800Z",
     "start_time": "2024-12-05T08:00:12.659490Z"
    }
   },
   "cell_type": "code",
   "source": "dataset_df[~dataset_df.error.isna()].programming_language.value_counts()",
   "id": "4ef87a208e9270e6",
   "outputs": [
    {
     "data": {
      "text/plain": [
       "programming_language\n",
       "python    52\n",
       "java      26\n",
       "kotlin     6\n",
       "Name: count, dtype: int64"
      ]
     },
     "execution_count": 50,
     "metadata": {},
     "output_type": "execute_result"
    }
   ],
   "execution_count": 50
  },
  {
   "metadata": {},
   "cell_type": "markdown",
   "source": "# Do cherry-pick scenarios with more than 1 parent exist?",
   "id": "c225c456b9e1949e"
  },
  {
   "metadata": {
    "ExecuteTime": {
     "end_time": "2024-12-05T08:14:01.671003Z",
     "start_time": "2024-12-05T08:14:01.643903Z"
    }
   },
   "cell_type": "code",
   "source": "dataset_df['cherry_pick_scenarios']",
   "id": "dc4786ac81a55d25",
   "outputs": [
    {
     "data": {
      "text/plain": [
       "0                                                      []\n",
       "1                                                      []\n",
       "2                                                      []\n",
       "3                                                      []\n",
       "4       [{'cherry_pick_commit': 'a5f8d3dc5287fb522ba8d...\n",
       "                              ...                        \n",
       "8011    [{'cherry_pick_commit': 'ead5cbb64bd7622b1750f...\n",
       "8012    [{'cherry_pick_commit': '07e6ada4bc4f0f67c2469...\n",
       "8013    [{'cherry_pick_commit': 'a5273cb7589fb17a6429b...\n",
       "8014    [{'cherry_pick_commit': 'c32461276d2353b41601d...\n",
       "8015    [{'cherry_pick_commit': 'c9b17cca0711a82510033...\n",
       "Name: cherry_pick_scenarios, Length: 7932, dtype: object"
      ]
     },
     "execution_count": 60,
     "metadata": {},
     "output_type": "execute_result"
    }
   ],
   "execution_count": 60
  },
  {
   "metadata": {
    "ExecuteTime": {
     "end_time": "2024-12-05T08:19:46.873523Z",
     "start_time": "2024-12-05T08:19:46.863558Z"
    }
   },
   "cell_type": "code",
   "source": [
    "found_one = False\n",
    "for _, repo in dataset_df.iterrows():\n",
    "    if found_one:\n",
    "        break\n",
    "    for cherry_pick_scenario in repo['cherry_pick_scenarios']:\n",
    "        if len(cherry_pick_scenario['parents']) > 1:\n",
    "            print(f'{repo[\"name\"]}: {cherry_pick_scenario}')\n",
    "            found_one = True"
   ],
   "id": "918faa6eb4a4c4aa",
   "outputs": [
    {
     "name": "stdout",
     "output_type": "stream",
     "text": [
      "aws/aws-toolkit-jetbrains: {'cherry_pick_commit': '222916ef953ef2c4f906bc4c09b02218bb9209bb', 'cherry_commit': 'c7dbe4a1aef15e99d9c30636ff9ceb3296f15100', 'parents': ['3c568921f712f06bb8222e3f8acd4d16ce7663f9', '7ab79cc9e6ca7b9fd0ac614bb29dfd48e7e01874']}\n"
     ]
    }
   ],
   "execution_count": 65
  },
  {
   "metadata": {},
   "cell_type": "code",
   "outputs": [],
   "execution_count": null,
   "source": "",
   "id": "55363a8613158524"
  }
 ],
 "metadata": {
  "kernelspec": {
   "display_name": "Python 3",
   "language": "python",
   "name": "python3"
  },
  "language_info": {
   "codemirror_mode": {
    "name": "ipython",
    "version": 2
   },
   "file_extension": ".py",
   "mimetype": "text/x-python",
   "name": "python",
   "nbconvert_exporter": "python",
   "pygments_lexer": "ipython2",
   "version": "2.7.6"
  }
 },
 "nbformat": 4,
 "nbformat_minor": 5
}
