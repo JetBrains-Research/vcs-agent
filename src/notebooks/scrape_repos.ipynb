{
 "cells": [
  {
   "cell_type": "code",
   "id": "initial_id",
   "metadata": {
    "collapsed": true,
    "ExecuteTime": {
     "end_time": "2024-09-05T11:02:46.532505Z",
     "start_time": "2024-09-05T11:02:45.661155Z"
    }
   },
   "source": [
    "from git import Repo, GitCommandError\n",
    "\n",
    "import pandas as pd\n",
    "import os"
   ],
   "outputs": [],
   "execution_count": 1
  },
  {
   "metadata": {
    "ExecuteTime": {
     "end_time": "2024-09-05T11:02:46.536815Z",
     "start_time": "2024-09-05T11:02:46.533763Z"
    }
   },
   "cell_type": "code",
   "source": [
    "os.chdir('../..')\n",
    "path_to_data = os.path.join(os.getcwd(), 'data')\n",
    "path_to_repositories = os.path.join(os.getcwd(), 'repos')"
   ],
   "id": "2aba1407b79b1c26",
   "outputs": [],
   "execution_count": 2
  },
  {
   "metadata": {
    "ExecuteTime": {
     "end_time": "2024-09-05T11:02:46.541285Z",
     "start_time": "2024-09-05T11:02:46.537825Z"
    }
   },
   "cell_type": "code",
   "source": [
    "PERMISSIVE_LICENSES = ['MIT License',\n",
    "                       'Apache License 2.0',\n",
    "                       'BSD 3-Clause New or Revised License',\n",
    "                       'BSD 2-Clause Simplified License']"
   ],
   "id": "c4eda42f95dd80b8",
   "outputs": [],
   "execution_count": 3
  },
  {
   "metadata": {},
   "cell_type": "markdown",
   "source": "# Qualitative analysis of metadata",
   "id": "53db4f1de9724ed7"
  },
  {
   "metadata": {},
   "cell_type": "markdown",
   "source": "## Python",
   "id": "65b430f5e227323a"
  },
  {
   "metadata": {
    "ExecuteTime": {
     "end_time": "2024-09-05T11:02:49.192614Z",
     "start_time": "2024-09-05T11:02:49.051260Z"
    }
   },
   "cell_type": "code",
   "source": [
    "# 1. Read in repositories from CSV\n",
    "python_repositories_metadata = pd.read_csv(os.path.join(path_to_data, 'python_repos.csv'))"
   ],
   "id": "a443e48a4bdc8a38",
   "outputs": [],
   "execution_count": 4
  },
  {
   "metadata": {
    "ExecuteTime": {
     "end_time": "2024-09-05T11:02:50.024272Z",
     "start_time": "2024-09-05T11:02:50.008963Z"
    }
   },
   "cell_type": "code",
   "source": [
    "python_repositories_metadata = python_repositories_metadata[python_repositories_metadata['license'].isin(PERMISSIVE_LICENSES)]\n",
    "python_repositories_metadata.info()"
   ],
   "id": "a124aadc7c1f5710",
   "outputs": [
    {
     "name": "stdout",
     "output_type": "stream",
     "text": [
      "<class 'pandas.core.frame.DataFrame'>\n",
      "RangeIndex: 4968 entries, 0 to 4967\n",
      "Data columns (total 35 columns):\n",
      " #   Column             Non-Null Count  Dtype  \n",
      "---  ------             --------------  -----  \n",
      " 0   id                 4968 non-null   int64  \n",
      " 1   name               4968 non-null   object \n",
      " 2   isFork             4968 non-null   bool   \n",
      " 3   commits            4968 non-null   int64  \n",
      " 4   branches           4968 non-null   int64  \n",
      " 5   releases           4968 non-null   int64  \n",
      " 6   forks              4968 non-null   int64  \n",
      " 7   mainLanguage       4968 non-null   object \n",
      " 8   defaultBranch      4968 non-null   object \n",
      " 9   license            4968 non-null   object \n",
      " 10  homepage           2930 non-null   object \n",
      " 11  watchers           4968 non-null   int64  \n",
      " 12  stargazers         4968 non-null   int64  \n",
      " 13  contributors       4968 non-null   int64  \n",
      " 14  size               4968 non-null   int64  \n",
      " 15  createdAt          4968 non-null   object \n",
      " 16  pushedAt           4968 non-null   object \n",
      " 17  updatedAt          4968 non-null   object \n",
      " 18  totalIssues        4964 non-null   float64\n",
      " 19  openIssues         4964 non-null   float64\n",
      " 20  totalPullRequests  4968 non-null   int64  \n",
      " 21  openPullRequests   4968 non-null   int64  \n",
      " 22  blankLines         4961 non-null   float64\n",
      " 23  codeLines          4961 non-null   float64\n",
      " 24  commentLines       4961 non-null   float64\n",
      " 25  metrics            4961 non-null   object \n",
      " 26  lastCommit         4968 non-null   object \n",
      " 27  lastCommitSHA      4968 non-null   object \n",
      " 28  hasWiki            4968 non-null   bool   \n",
      " 29  isArchived         4968 non-null   bool   \n",
      " 30  isDisabled         4968 non-null   bool   \n",
      " 31  isLocked           4968 non-null   bool   \n",
      " 32  languages          4852 non-null   object \n",
      " 33  labels             4824 non-null   object \n",
      " 34  topics             2996 non-null   object \n",
      "dtypes: bool(5), float64(5), int64(11), object(14)\n",
      "memory usage: 1.2+ MB\n"
     ]
    }
   ],
   "execution_count": 5
  },
  {
   "metadata": {
    "ExecuteTime": {
     "end_time": "2024-09-05T11:03:08.698705Z",
     "start_time": "2024-09-05T11:03:08.525756Z"
    }
   },
   "cell_type": "code",
   "source": [
    "stronger_filters_python_repositories_metadata = python_repositories_metadata[(python_repositories_metadata['contributors'] >= 10) & (python_repositories_metadata['stargazers'] >= 100)]\n",
    "stronger_filters_python_repositories_metadata.info()\n",
    "stronger_filters_python_repositories_metadata.to_csv(os.path.join(path_to_data, 'stronger_filters_python_repositories_metadata.csv'), index=False)"
   ],
   "id": "3ce950a6cd546b76",
   "outputs": [
    {
     "name": "stdout",
     "output_type": "stream",
     "text": [
      "<class 'pandas.core.frame.DataFrame'>\n",
      "RangeIndex: 4968 entries, 0 to 4967\n",
      "Data columns (total 35 columns):\n",
      " #   Column             Non-Null Count  Dtype  \n",
      "---  ------             --------------  -----  \n",
      " 0   id                 4968 non-null   int64  \n",
      " 1   name               4968 non-null   object \n",
      " 2   isFork             4968 non-null   bool   \n",
      " 3   commits            4968 non-null   int64  \n",
      " 4   branches           4968 non-null   int64  \n",
      " 5   releases           4968 non-null   int64  \n",
      " 6   forks              4968 non-null   int64  \n",
      " 7   mainLanguage       4968 non-null   object \n",
      " 8   defaultBranch      4968 non-null   object \n",
      " 9   license            4968 non-null   object \n",
      " 10  homepage           2930 non-null   object \n",
      " 11  watchers           4968 non-null   int64  \n",
      " 12  stargazers         4968 non-null   int64  \n",
      " 13  contributors       4968 non-null   int64  \n",
      " 14  size               4968 non-null   int64  \n",
      " 15  createdAt          4968 non-null   object \n",
      " 16  pushedAt           4968 non-null   object \n",
      " 17  updatedAt          4968 non-null   object \n",
      " 18  totalIssues        4964 non-null   float64\n",
      " 19  openIssues         4964 non-null   float64\n",
      " 20  totalPullRequests  4968 non-null   int64  \n",
      " 21  openPullRequests   4968 non-null   int64  \n",
      " 22  blankLines         4961 non-null   float64\n",
      " 23  codeLines          4961 non-null   float64\n",
      " 24  commentLines       4961 non-null   float64\n",
      " 25  metrics            4961 non-null   object \n",
      " 26  lastCommit         4968 non-null   object \n",
      " 27  lastCommitSHA      4968 non-null   object \n",
      " 28  hasWiki            4968 non-null   bool   \n",
      " 29  isArchived         4968 non-null   bool   \n",
      " 30  isDisabled         4968 non-null   bool   \n",
      " 31  isLocked           4968 non-null   bool   \n",
      " 32  languages          4852 non-null   object \n",
      " 33  labels             4824 non-null   object \n",
      " 34  topics             2996 non-null   object \n",
      "dtypes: bool(5), float64(5), int64(11), object(14)\n",
      "memory usage: 1.2+ MB\n"
     ]
    }
   ],
   "execution_count": 6
  },
  {
   "metadata": {},
   "cell_type": "markdown",
   "source": "We found the two docarray repositories to cause Out-Of-Memory (OOM) errors when scraping the dataset with YTsaurus. We were however unable to reproduce this error locally. Furthermore, they are Python repositories, which make up the largest chunk of our dataset with around 5k repositories, so two more or less dont matter much. This is why we decide to remove these.",
   "id": "fe80ec5d48f83f4e"
  },
  {
   "metadata": {
    "ExecuteTime": {
     "end_time": "2024-09-05T11:07:48.505737Z",
     "start_time": "2024-09-05T11:07:48.488740Z"
    }
   },
   "cell_type": "code",
   "source": [
    "stronger_filters_python_repositories_metadata = stronger_filters_python_repositories_metadata[~stronger_filters_python_repositories_metadata.name.str.contains('docarray')]\n",
    "stronger_filters_python_repositories_metadata.info()"
   ],
   "id": "79a57a8093a509c9",
   "outputs": [
    {
     "name": "stdout",
     "output_type": "stream",
     "text": [
      "<class 'pandas.core.frame.DataFrame'>\n",
      "Index: 4966 entries, 0 to 4967\n",
      "Data columns (total 35 columns):\n",
      " #   Column             Non-Null Count  Dtype  \n",
      "---  ------             --------------  -----  \n",
      " 0   id                 4966 non-null   int64  \n",
      " 1   name               4966 non-null   object \n",
      " 2   isFork             4966 non-null   bool   \n",
      " 3   commits            4966 non-null   int64  \n",
      " 4   branches           4966 non-null   int64  \n",
      " 5   releases           4966 non-null   int64  \n",
      " 6   forks              4966 non-null   int64  \n",
      " 7   mainLanguage       4966 non-null   object \n",
      " 8   defaultBranch      4966 non-null   object \n",
      " 9   license            4966 non-null   object \n",
      " 10  homepage           2928 non-null   object \n",
      " 11  watchers           4966 non-null   int64  \n",
      " 12  stargazers         4966 non-null   int64  \n",
      " 13  contributors       4966 non-null   int64  \n",
      " 14  size               4966 non-null   int64  \n",
      " 15  createdAt          4966 non-null   object \n",
      " 16  pushedAt           4966 non-null   object \n",
      " 17  updatedAt          4966 non-null   object \n",
      " 18  totalIssues        4962 non-null   float64\n",
      " 19  openIssues         4962 non-null   float64\n",
      " 20  totalPullRequests  4966 non-null   int64  \n",
      " 21  openPullRequests   4966 non-null   int64  \n",
      " 22  blankLines         4959 non-null   float64\n",
      " 23  codeLines          4959 non-null   float64\n",
      " 24  commentLines       4959 non-null   float64\n",
      " 25  metrics            4959 non-null   object \n",
      " 26  lastCommit         4966 non-null   object \n",
      " 27  lastCommitSHA      4966 non-null   object \n",
      " 28  hasWiki            4966 non-null   bool   \n",
      " 29  isArchived         4966 non-null   bool   \n",
      " 30  isDisabled         4966 non-null   bool   \n",
      " 31  isLocked           4966 non-null   bool   \n",
      " 32  languages          4850 non-null   object \n",
      " 33  labels             4822 non-null   object \n",
      " 34  topics             2995 non-null   object \n",
      "dtypes: bool(5), float64(5), int64(11), object(14)\n",
      "memory usage: 1.2+ MB\n"
     ]
    }
   ],
   "execution_count": 11
  },
  {
   "metadata": {
    "ExecuteTime": {
     "end_time": "2024-09-05T11:08:22.006500Z",
     "start_time": "2024-09-05T11:08:21.843751Z"
    }
   },
   "cell_type": "code",
   "source": "stronger_filters_python_repositories_metadata.to_csv(os.path.join(path_to_data, 'python_repos.csv'), index=False)",
   "id": "ccdb85c214fd1b3c",
   "outputs": [],
   "execution_count": 12
  },
  {
   "metadata": {
    "ExecuteTime": {
     "end_time": "2024-08-22T08:49:02.627503Z",
     "start_time": "2024-08-22T08:49:02.620155Z"
    }
   },
   "cell_type": "code",
   "source": "python_repositories_metadata['license'].value_counts()",
   "id": "f2cbbd523dc8ccb",
   "outputs": [
    {
     "data": {
      "text/plain": [
       "license\n",
       "MIT License                                                   3489\n",
       "Apache License 2.0                                            2377\n",
       "Other                                                         1549\n",
       "GNU General Public License v3.0                                911\n",
       "BSD 3-Clause New or Revised License                            747\n",
       "GNU Affero General Public License v3.0                         330\n",
       "GNU General Public License v2.0                                209\n",
       "BSD 2-Clause Simplified License                                185\n",
       "GNU Lesser General Public License v3.0                         124\n",
       "Mozilla Public License 2.0                                      69\n",
       "GNU Lesser General Public License v2.1                          50\n",
       "Creative Commons Zero v1.0 Universal                            36\n",
       "ISC License                                                     36\n",
       "The Unlicense                                                   23\n",
       "Creative Commons Attribution Share Alike 4.0 International      23\n",
       "Creative Commons Attribution 4.0 International                  22\n",
       "MIT No Attribution                                              13\n",
       "SIL Open Font License 1.1                                       12\n",
       "European Union Public License 1.2                               10\n",
       "BSD 3-Clause Clear License                                       6\n",
       "Eclipse Public License 2.0                                       5\n",
       "BSD 4-Clause Original or Old License                             3\n",
       "Do What The F*ck You Want To Public License                      3\n",
       "Eclipse Public License 1.0                                       3\n",
       "zlib License                                                     2\n",
       "Universal Permissive License v1.0                                2\n",
       "Artistic License 2.0                                             2\n",
       "PostgreSQL License                                               2\n",
       "University of Illinois/NCSA Open Source License                  1\n",
       "BSD Zero Clause License                                          1\n",
       "Academic Free License v3.0                                       1\n",
       "Name: count, dtype: int64"
      ]
     },
     "execution_count": 11,
     "metadata": {},
     "output_type": "execute_result"
    }
   ],
   "execution_count": 11
  },
  {
   "metadata": {
    "ExecuteTime": {
     "end_time": "2024-07-12T12:46:55.675863Z",
     "start_time": "2024-07-12T12:46:55.668722Z"
    }
   },
   "cell_type": "code",
   "source": "len(python_repositories_metadata)",
   "id": "97e28d88322b4ae",
   "outputs": [
    {
     "data": {
      "text/plain": [
       "10246"
      ]
     },
     "execution_count": 9,
     "metadata": {},
     "output_type": "execute_result"
    }
   ],
   "execution_count": 9
  },
  {
   "metadata": {},
   "cell_type": "markdown",
   "source": "Let's take a look at the distribution of relevant numeric columns to get an overview of the dataset.",
   "id": "c64c4c509709898f"
  },
  {
   "metadata": {
    "ExecuteTime": {
     "end_time": "2024-07-12T12:47:00.635776Z",
     "start_time": "2024-07-12T12:47:00.608052Z"
    }
   },
   "cell_type": "code",
   "source": "python_repositories_metadata.info()",
   "id": "adc84287808a5f7b",
   "outputs": [
    {
     "name": "stdout",
     "output_type": "stream",
     "text": [
      "<class 'pandas.core.frame.DataFrame'>\n",
      "RangeIndex: 10246 entries, 0 to 10245\n",
      "Data columns (total 35 columns):\n",
      " #   Column             Non-Null Count  Dtype  \n",
      "---  ------             --------------  -----  \n",
      " 0   id                 10246 non-null  int64  \n",
      " 1   name               10246 non-null  object \n",
      " 2   isFork             10246 non-null  bool   \n",
      " 3   commits            10246 non-null  int64  \n",
      " 4   branches           10246 non-null  int64  \n",
      " 5   releases           10246 non-null  int64  \n",
      " 6   forks              10246 non-null  int64  \n",
      " 7   mainLanguage       10246 non-null  object \n",
      " 8   defaultBranch      10246 non-null  object \n",
      " 9   license            10246 non-null  object \n",
      " 10  homepage           5687 non-null   object \n",
      " 11  watchers           10246 non-null  int64  \n",
      " 12  stargazers         10246 non-null  int64  \n",
      " 13  contributors       10246 non-null  int64  \n",
      " 14  size               10246 non-null  int64  \n",
      " 15  createdAt          10246 non-null  object \n",
      " 16  pushedAt           10246 non-null  object \n",
      " 17  updatedAt          10246 non-null  object \n",
      " 18  totalIssues        10232 non-null  float64\n",
      " 19  openIssues         10232 non-null  float64\n",
      " 20  totalPullRequests  10246 non-null  int64  \n",
      " 21  openPullRequests   10246 non-null  int64  \n",
      " 22  blankLines         10235 non-null  float64\n",
      " 23  codeLines          10235 non-null  float64\n",
      " 24  commentLines       10235 non-null  float64\n",
      " 25  metrics            10235 non-null  object \n",
      " 26  lastCommit         10246 non-null  object \n",
      " 27  lastCommitSHA      10246 non-null  object \n",
      " 28  hasWiki            10246 non-null  bool   \n",
      " 29  isArchived         10246 non-null  bool   \n",
      " 30  isDisabled         10246 non-null  bool   \n",
      " 31  isLocked           10246 non-null  bool   \n",
      " 32  languages          9878 non-null   object \n",
      " 33  labels             9815 non-null   object \n",
      " 34  topics             5811 non-null   object \n",
      "dtypes: bool(5), float64(5), int64(11), object(14)\n",
      "memory usage: 2.4+ MB\n"
     ]
    }
   ],
   "execution_count": 10
  },
  {
   "metadata": {
    "ExecuteTime": {
     "end_time": "2024-05-31T09:29:07.002100Z",
     "start_time": "2024-05-31T09:29:06.979545Z"
    }
   },
   "cell_type": "code",
   "source": "python_repositories_metadata[['branches', 'releases', 'forks', 'watchers', 'contributors', 'codeLines']].describe()",
   "id": "a0e277a05a5c21f4",
   "execution_count": 13,
   "outputs": []
  },
  {
   "metadata": {},
   "cell_type": "markdown",
   "source": "All repositories include more than one branch. Most include some forks. Curiously, we note that `min(codeLines) = 1`. Looking at the mean and 25% quartile though, we see that overall the repos seem to be in a good shape.",
   "id": "de4b08efe10481e5"
  },
  {
   "metadata": {
    "ExecuteTime": {
     "end_time": "2024-05-31T09:22:53.856115Z",
     "start_time": "2024-05-31T09:22:53.842902Z"
    }
   },
   "cell_type": "code",
   "source": "python_repositories_metadata[python_repositories_metadata.codeLines < 2]",
   "id": "505fa5c2d5931752",
   "execution_count": 6,
   "outputs": []
  },
  {
   "metadata": {
    "ExecuteTime": {
     "end_time": "2024-06-13T07:12:26.013550Z",
     "start_time": "2024-06-13T07:12:25.993004Z"
    }
   },
   "cell_type": "code",
   "source": "pd.to_datetime(python_repositories_metadata.updatedAt).describe()",
   "id": "5349483017609eba",
   "execution_count": 5,
   "outputs": []
  },
  {
   "metadata": {
    "ExecuteTime": {
     "end_time": "2024-05-31T09:29:30.525427Z",
     "start_time": "2024-05-31T09:29:30.512131Z"
    }
   },
   "cell_type": "code",
   "source": "pd.to_datetime(python_repositories_metadata.createdAt).describe()",
   "id": "192e022fdf1da8a2",
   "execution_count": 14,
   "outputs": []
  },
  {
   "metadata": {},
   "cell_type": "markdown",
   "source": "## Java",
   "id": "27ed9c2582717537"
  },
  {
   "metadata": {
    "ExecuteTime": {
     "end_time": "2024-08-22T10:50:13.983058Z",
     "start_time": "2024-08-22T10:50:13.733076Z"
    }
   },
   "cell_type": "code",
   "source": [
    "# 1. Read in repositories from CSV\n",
    "java_repositories_metadata = pd.read_csv(os.path.join(path_to_data, 'java_repos.csv'))"
   ],
   "id": "3a9947b417f3c607",
   "outputs": [],
   "execution_count": 8
  },
  {
   "metadata": {
    "ExecuteTime": {
     "end_time": "2024-08-22T10:50:15.664379Z",
     "start_time": "2024-08-22T10:50:15.644924Z"
    }
   },
   "cell_type": "code",
   "source": [
    "java_repositories_metadata = java_repositories_metadata[java_repositories_metadata['license'].isin(PERMISSIVE_LICENSES)]\n",
    "java_repositories_metadata.info()"
   ],
   "id": "180da0e68dc08315",
   "outputs": [
    {
     "name": "stdout",
     "output_type": "stream",
     "text": [
      "<class 'pandas.core.frame.DataFrame'>\n",
      "Index: 4542 entries, 0 to 6839\n",
      "Data columns (total 35 columns):\n",
      " #   Column             Non-Null Count  Dtype  \n",
      "---  ------             --------------  -----  \n",
      " 0   id                 4542 non-null   int64  \n",
      " 1   name               4542 non-null   object \n",
      " 2   isFork             4542 non-null   bool   \n",
      " 3   commits            4542 non-null   int64  \n",
      " 4   branches           4542 non-null   int64  \n",
      " 5   releases           4542 non-null   int64  \n",
      " 6   forks              4542 non-null   int64  \n",
      " 7   mainLanguage       4542 non-null   object \n",
      " 8   defaultBranch      4542 non-null   object \n",
      " 9   license            4542 non-null   object \n",
      " 10  homepage           2123 non-null   object \n",
      " 11  watchers           4542 non-null   int64  \n",
      " 12  stargazers         4542 non-null   int64  \n",
      " 13  contributors       4542 non-null   int64  \n",
      " 14  size               4542 non-null   int64  \n",
      " 15  createdAt          4542 non-null   object \n",
      " 16  pushedAt           4542 non-null   object \n",
      " 17  updatedAt          4542 non-null   object \n",
      " 18  totalIssues        4532 non-null   float64\n",
      " 19  openIssues         4532 non-null   float64\n",
      " 20  totalPullRequests  4540 non-null   float64\n",
      " 21  openPullRequests   4540 non-null   float64\n",
      " 22  blankLines         4541 non-null   float64\n",
      " 23  codeLines          4541 non-null   float64\n",
      " 24  commentLines       4541 non-null   float64\n",
      " 25  metrics            4541 non-null   object \n",
      " 26  lastCommit         4542 non-null   object \n",
      " 27  lastCommitSHA      4542 non-null   object \n",
      " 28  hasWiki            4542 non-null   bool   \n",
      " 29  isArchived         4542 non-null   bool   \n",
      " 30  isDisabled         4542 non-null   bool   \n",
      " 31  isLocked           4542 non-null   bool   \n",
      " 32  languages          4436 non-null   object \n",
      " 33  labels             4412 non-null   object \n",
      " 34  topics             2406 non-null   object \n",
      "dtypes: bool(5), float64(7), int64(9), object(14)\n",
      "memory usage: 1.1+ MB\n"
     ]
    }
   ],
   "execution_count": 9
  },
  {
   "metadata": {
    "ExecuteTime": {
     "end_time": "2024-08-22T10:50:18.094100Z",
     "start_time": "2024-08-22T10:50:17.855249Z"
    }
   },
   "cell_type": "code",
   "source": [
    "stronger_filters_java_repositories_metadata = java_repositories_metadata[(java_repositories_metadata['contributors'] >= 10) & (java_repositories_metadata['stargazers'] >= 100)]\n",
    "stronger_filters_java_repositories_metadata.info()\n",
    "stronger_filters_java_repositories_metadata.to_csv(os.path.join(path_to_data, 'stronger_filters_java_repositories_metadata.csv'), index=False)"
   ],
   "id": "3e625ff16a6adec1",
   "outputs": [
    {
     "name": "stdout",
     "output_type": "stream",
     "text": [
      "<class 'pandas.core.frame.DataFrame'>\n",
      "Index: 2470 entries, 0 to 6839\n",
      "Data columns (total 35 columns):\n",
      " #   Column             Non-Null Count  Dtype  \n",
      "---  ------             --------------  -----  \n",
      " 0   id                 2470 non-null   int64  \n",
      " 1   name               2470 non-null   object \n",
      " 2   isFork             2470 non-null   bool   \n",
      " 3   commits            2470 non-null   int64  \n",
      " 4   branches           2470 non-null   int64  \n",
      " 5   releases           2470 non-null   int64  \n",
      " 6   forks              2470 non-null   int64  \n",
      " 7   mainLanguage       2470 non-null   object \n",
      " 8   defaultBranch      2470 non-null   object \n",
      " 9   license            2470 non-null   object \n",
      " 10  homepage           1340 non-null   object \n",
      " 11  watchers           2470 non-null   int64  \n",
      " 12  stargazers         2470 non-null   int64  \n",
      " 13  contributors       2470 non-null   int64  \n",
      " 14  size               2470 non-null   int64  \n",
      " 15  createdAt          2470 non-null   object \n",
      " 16  pushedAt           2470 non-null   object \n",
      " 17  updatedAt          2470 non-null   object \n",
      " 18  totalIssues        2464 non-null   float64\n",
      " 19  openIssues         2464 non-null   float64\n",
      " 20  totalPullRequests  2470 non-null   float64\n",
      " 21  openPullRequests   2470 non-null   float64\n",
      " 22  blankLines         2470 non-null   float64\n",
      " 23  codeLines          2470 non-null   float64\n",
      " 24  commentLines       2470 non-null   float64\n",
      " 25  metrics            2470 non-null   object \n",
      " 26  lastCommit         2470 non-null   object \n",
      " 27  lastCommitSHA      2470 non-null   object \n",
      " 28  hasWiki            2470 non-null   bool   \n",
      " 29  isArchived         2470 non-null   bool   \n",
      " 30  isDisabled         2470 non-null   bool   \n",
      " 31  isLocked           2470 non-null   bool   \n",
      " 32  languages          2421 non-null   object \n",
      " 33  labels             2406 non-null   object \n",
      " 34  topics             1475 non-null   object \n",
      "dtypes: bool(5), float64(7), int64(9), object(14)\n",
      "memory usage: 610.3+ KB\n"
     ]
    }
   ],
   "execution_count": 10
  },
  {
   "metadata": {
    "ExecuteTime": {
     "end_time": "2024-05-31T09:39:18.432644Z",
     "start_time": "2024-05-31T09:39:18.415339Z"
    }
   },
   "cell_type": "code",
   "source": "java_repositories_metadata[['branches', 'releases', 'forks', 'watchers', 'contributors', 'codeLines']].describe()",
   "id": "938f44e9d0f3eaf4",
   "execution_count": 18,
   "outputs": []
  },
  {
   "metadata": {},
   "cell_type": "markdown",
   "source": "Most have been forked. Again, we note that `min(codeLines) = 2`. Looking at the mean and 25% quartile though, we see that overall the repos seem to be in a good shape.",
   "id": "9817450c9d277a43"
  },
  {
   "metadata": {
    "ExecuteTime": {
     "end_time": "2024-05-31T09:40:19.207313Z",
     "start_time": "2024-05-31T09:40:19.195283Z"
    }
   },
   "cell_type": "code",
   "source": "pd.to_datetime(java_repositories_metadata.updatedAt).describe()",
   "id": "7909ea7e30e2052c",
   "execution_count": 19,
   "outputs": []
  },
  {
   "metadata": {
    "ExecuteTime": {
     "end_time": "2024-05-31T09:40:20.209842Z",
     "start_time": "2024-05-31T09:40:20.197436Z"
    }
   },
   "cell_type": "code",
   "source": "pd.to_datetime(java_repositories_metadata.createdAt).describe()",
   "id": "73093bbed22c8d9e",
   "execution_count": 20,
   "outputs": []
  },
  {
   "metadata": {},
   "cell_type": "markdown",
   "source": "## Kotlin",
   "id": "3b18b3bd34cf6c0b"
  },
  {
   "metadata": {
    "ExecuteTime": {
     "end_time": "2024-08-22T10:50:53.667759Z",
     "start_time": "2024-08-22T10:50:53.595321Z"
    }
   },
   "cell_type": "code",
   "source": [
    "# 1. Read in repositories from CSV\n",
    "kotlin_repositories_metadata = pd.read_csv(os.path.join(path_to_data, 'kotlin_repos.csv'))"
   ],
   "id": "dc5301e9b8c0601d",
   "outputs": [],
   "execution_count": 11
  },
  {
   "metadata": {
    "ExecuteTime": {
     "end_time": "2024-08-22T10:50:54.015145Z",
     "start_time": "2024-08-22T10:50:54.003198Z"
    }
   },
   "cell_type": "code",
   "source": [
    "kotlin_repositories_metadata = kotlin_repositories_metadata[kotlin_repositories_metadata['license'].isin(PERMISSIVE_LICENSES)]\n",
    "kotlin_repositories_metadata.info()"
   ],
   "id": "970fd821f016b2d0",
   "outputs": [
    {
     "name": "stdout",
     "output_type": "stream",
     "text": [
      "<class 'pandas.core.frame.DataFrame'>\n",
      "Index: 1225 entries, 2 to 1703\n",
      "Data columns (total 35 columns):\n",
      " #   Column             Non-Null Count  Dtype  \n",
      "---  ------             --------------  -----  \n",
      " 0   id                 1225 non-null   int64  \n",
      " 1   name               1225 non-null   object \n",
      " 2   isFork             1225 non-null   bool   \n",
      " 3   commits            1225 non-null   int64  \n",
      " 4   branches           1225 non-null   int64  \n",
      " 5   releases           1225 non-null   int64  \n",
      " 6   forks              1225 non-null   int64  \n",
      " 7   mainLanguage       1225 non-null   object \n",
      " 8   defaultBranch      1225 non-null   object \n",
      " 9   license            1225 non-null   object \n",
      " 10  homepage           528 non-null    object \n",
      " 11  watchers           1225 non-null   int64  \n",
      " 12  stargazers         1225 non-null   int64  \n",
      " 13  contributors       1225 non-null   int64  \n",
      " 14  size               1225 non-null   int64  \n",
      " 15  createdAt          1225 non-null   object \n",
      " 16  pushedAt           1225 non-null   object \n",
      " 17  updatedAt          1225 non-null   object \n",
      " 18  totalIssues        1224 non-null   float64\n",
      " 19  openIssues         1224 non-null   float64\n",
      " 20  totalPullRequests  1225 non-null   int64  \n",
      " 21  openPullRequests   1225 non-null   int64  \n",
      " 22  blankLines         1225 non-null   int64  \n",
      " 23  codeLines          1225 non-null   int64  \n",
      " 24  commentLines       1225 non-null   int64  \n",
      " 25  metrics            1225 non-null   object \n",
      " 26  lastCommit         1225 non-null   object \n",
      " 27  lastCommitSHA      1225 non-null   object \n",
      " 28  hasWiki            1225 non-null   bool   \n",
      " 29  isArchived         1225 non-null   bool   \n",
      " 30  isDisabled         1225 non-null   bool   \n",
      " 31  isLocked           1225 non-null   bool   \n",
      " 32  languages          1195 non-null   object \n",
      " 33  labels             1195 non-null   object \n",
      " 34  topics             759 non-null    object \n",
      "dtypes: bool(5), float64(2), int64(14), object(14)\n",
      "memory usage: 302.7+ KB\n"
     ]
    }
   ],
   "execution_count": 12
  },
  {
   "metadata": {
    "ExecuteTime": {
     "end_time": "2024-08-22T10:51:05.020704Z",
     "start_time": "2024-08-22T10:51:04.960767Z"
    }
   },
   "cell_type": "code",
   "source": [
    "stronger_filters_kotlin_repositories_metadata = kotlin_repositories_metadata[(kotlin_repositories_metadata['contributors'] >= 10) & (kotlin_repositories_metadata['stargazers'] >= 100)]\n",
    "stronger_filters_kotlin_repositories_metadata.info()\n",
    "stronger_filters_kotlin_repositories_metadata.to_csv(os.path.join(path_to_data, 'stronger_filters_kotlin_repositories_metadata.csv'), index=False)"
   ],
   "id": "d14f712ab5725eb7",
   "outputs": [
    {
     "name": "stdout",
     "output_type": "stream",
     "text": [
      "<class 'pandas.core.frame.DataFrame'>\n",
      "Index: 496 entries, 2 to 1694\n",
      "Data columns (total 35 columns):\n",
      " #   Column             Non-Null Count  Dtype  \n",
      "---  ------             --------------  -----  \n",
      " 0   id                 496 non-null    int64  \n",
      " 1   name               496 non-null    object \n",
      " 2   isFork             496 non-null    bool   \n",
      " 3   commits            496 non-null    int64  \n",
      " 4   branches           496 non-null    int64  \n",
      " 5   releases           496 non-null    int64  \n",
      " 6   forks              496 non-null    int64  \n",
      " 7   mainLanguage       496 non-null    object \n",
      " 8   defaultBranch      496 non-null    object \n",
      " 9   license            496 non-null    object \n",
      " 10  homepage           261 non-null    object \n",
      " 11  watchers           496 non-null    int64  \n",
      " 12  stargazers         496 non-null    int64  \n",
      " 13  contributors       496 non-null    int64  \n",
      " 14  size               496 non-null    int64  \n",
      " 15  createdAt          496 non-null    object \n",
      " 16  pushedAt           496 non-null    object \n",
      " 17  updatedAt          496 non-null    object \n",
      " 18  totalIssues        495 non-null    float64\n",
      " 19  openIssues         495 non-null    float64\n",
      " 20  totalPullRequests  496 non-null    int64  \n",
      " 21  openPullRequests   496 non-null    int64  \n",
      " 22  blankLines         496 non-null    int64  \n",
      " 23  codeLines          496 non-null    int64  \n",
      " 24  commentLines       496 non-null    int64  \n",
      " 25  metrics            496 non-null    object \n",
      " 26  lastCommit         496 non-null    object \n",
      " 27  lastCommitSHA      496 non-null    object \n",
      " 28  hasWiki            496 non-null    bool   \n",
      " 29  isArchived         496 non-null    bool   \n",
      " 30  isDisabled         496 non-null    bool   \n",
      " 31  isLocked           496 non-null    bool   \n",
      " 32  languages          488 non-null    object \n",
      " 33  labels             488 non-null    object \n",
      " 34  topics             327 non-null    object \n",
      "dtypes: bool(5), float64(2), int64(14), object(14)\n",
      "memory usage: 122.5+ KB\n"
     ]
    }
   ],
   "execution_count": 13
  },
  {
   "metadata": {
    "ExecuteTime": {
     "end_time": "2024-07-05T14:10:50.369994Z",
     "start_time": "2024-07-05T14:10:50.361420Z"
    }
   },
   "cell_type": "code",
   "source": "len(kotlin_repositories_metadata)",
   "id": "fff5d97a0addd7fe",
   "outputs": [
    {
     "data": {
      "text/plain": [
       "1704"
      ]
     },
     "execution_count": 27,
     "metadata": {},
     "output_type": "execute_result"
    }
   ],
   "execution_count": 27
  },
  {
   "metadata": {
    "ExecuteTime": {
     "end_time": "2024-05-31T09:41:10.642970Z",
     "start_time": "2024-05-31T09:41:10.625408Z"
    }
   },
   "cell_type": "code",
   "source": "kotlin_repositories_metadata[['branches', 'releases', 'forks', 'watchers', 'contributors', 'codeLines']].describe()",
   "id": "ea41248746de70fe",
   "execution_count": 23,
   "outputs": []
  },
  {
   "metadata": {},
   "cell_type": "markdown",
   "source": "Most have been forked. Again, we note that `min(codeLines) = 1`. Looking at the mean and 25% quartile though, we see that overall the repos seem to be in a good shape. For Kotlin, we note that the number of contributors and branches seems lower in general.",
   "id": "e5af7d06c151e3cc"
  },
  {
   "metadata": {
    "ExecuteTime": {
     "end_time": "2024-05-31T09:41:11.917345Z",
     "start_time": "2024-05-31T09:41:11.907887Z"
    }
   },
   "cell_type": "code",
   "source": "pd.to_datetime(kotlin_repositories_metadata.updatedAt).describe()",
   "id": "b574a4ba193693a9",
   "execution_count": 24,
   "outputs": []
  },
  {
   "metadata": {
    "ExecuteTime": {
     "end_time": "2024-05-31T09:41:12.635464Z",
     "start_time": "2024-05-31T09:41:12.625510Z"
    }
   },
   "cell_type": "code",
   "source": "pd.to_datetime(kotlin_repositories_metadata.createdAt).describe()",
   "id": "98e108935223dd4f",
   "execution_count": 25,
   "outputs": []
  },
  {
   "metadata": {},
   "cell_type": "markdown",
   "source": "# Development of git history traversal and quantitative analysis of repositories",
   "id": "5ad58289f66a291a"
  },
  {
   "metadata": {},
   "cell_type": "markdown",
   "source": "## Determine ratio of branches to files",
   "id": "c5cb822ae05d048"
  },
  {
   "metadata": {
    "ExecuteTime": {
     "end_time": "2024-06-20T09:42:31.829752Z",
     "start_time": "2024-06-20T09:42:31.826466Z"
    }
   },
   "cell_type": "code",
   "source": "import re ",
   "id": "5ad7f9e2cb43ac70",
   "execution_count": 14,
   "outputs": []
  },
  {
   "metadata": {
    "ExecuteTime": {
     "end_time": "2024-06-20T09:59:21.680164Z",
     "start_time": "2024-06-20T09:57:17.548750Z"
    }
   },
   "cell_type": "code",
   "source": [
    "repositories_statistics = pd.DataFrame()\n",
    "\n",
    "for i, repository_metadata in python_repositories_metadata.iloc[:15].iterrows():\n",
    "    repo_instance = None\n",
    "    repository_path = os.path.join(path_to_repositories, \"__\".join(repository_metadata[\"name\"].split(\"/\")))\n",
    "    try:\n",
    "        repo_instance = Repo.clone_from(f'https://github.com/{repository_metadata[\"name\"]}.git',\n",
    "                                    f'{repository_path}')\n",
    "    except GitCommandError as e:\n",
    "        # If already exists, create Repo instance of it\n",
    "        if 'already exists' in e.stderr:\n",
    "            print('Repository already exists, using local directory instead of cloning.')\n",
    "            repo_instance = Repo(repository_path)\n",
    "            \n",
    "    if repo_instance is None:\n",
    "        continue\n",
    "\n",
    "    os.chdir(os.path.join(path_to_data, repository_path))\n",
    "\n",
    "    repositories_statistics.loc[i, 'branches'] = len(repo_instance.refs)\n",
    "    \n",
    "    num_python_files = 0\n",
    "    num_total_files = 0\n",
    "    for directory,subdirs,files in os.walk(repository_path):\n",
    "        if re.match('.*(\\\\\\\\|\\/)\\..*', directory):\n",
    "            continue # Skip hidden folders\n",
    "        \n",
    "        python_files = [f for f in files if '.py' in f]\n",
    "        total_files = [f for f in files if re.match('^[^\\.].*\\..*$', f)] # skip hidden files and files without file ending\n",
    "        \n",
    "        num_python_files += len(python_files)\n",
    "        num_total_files += len(total_files)\n",
    "\n",
    "    repositories_statistics.loc[i, 'python_files'] = num_python_files\n",
    "    repositories_statistics.loc[i, 'total_files'] = num_total_files"
   ],
   "id": "90e79c7d8f6d06db",
   "execution_count": 21,
   "outputs": []
  },
  {
   "metadata": {
    "ExecuteTime": {
     "end_time": "2024-06-20T10:19:07.273785Z",
     "start_time": "2024-06-20T10:19:07.267215Z"
    }
   },
   "cell_type": "code",
   "source": "(repositories_statistics.total_files / repositories_statistics.branches).sum() / 10",
   "id": "3c1e4c3abd291cf2",
   "execution_count": 25,
   "outputs": []
  },
  {
   "metadata": {},
   "cell_type": "markdown",
   "source": "# Exploring results",
   "id": "bc2429bc66c41f5d"
  },
  {
   "metadata": {
    "ExecuteTime": {
     "end_time": "2024-07-11T08:06:01.699335Z",
     "start_time": "2024-07-11T08:06:01.475555Z"
    }
   },
   "cell_type": "code",
   "source": "results = pd.read_parquet(os.path.join(path_to_data, 'kotlin.parquet'), engine='pyarrow')",
   "id": "4d11e3e784b6e32d",
   "outputs": [
    {
     "ename": "NameError",
     "evalue": "name 'pd' is not defined",
     "output_type": "error",
     "traceback": [
      "\u001B[1;31m---------------------------------------------------------------------------\u001B[0m",
      "\u001B[1;31mNameError\u001B[0m                                 Traceback (most recent call last)",
      "Cell \u001B[1;32mIn[1], line 1\u001B[0m\n\u001B[1;32m----> 1\u001B[0m results \u001B[38;5;241m=\u001B[39m \u001B[43mpd\u001B[49m\u001B[38;5;241m.\u001B[39mread_parquet(os\u001B[38;5;241m.\u001B[39mpath\u001B[38;5;241m.\u001B[39mjoin(path_to_data, \u001B[38;5;124m'\u001B[39m\u001B[38;5;124mkotlin.parquet\u001B[39m\u001B[38;5;124m'\u001B[39m), engine\u001B[38;5;241m=\u001B[39m\u001B[38;5;124m'\u001B[39m\u001B[38;5;124mpyarrow\u001B[39m\u001B[38;5;124m'\u001B[39m)\n",
      "\u001B[1;31mNameError\u001B[0m: name 'pd' is not defined"
     ]
    }
   ],
   "execution_count": 1
  },
  {
   "metadata": {
    "ExecuteTime": {
     "end_time": "2024-07-11T08:06:01.700339Z",
     "start_time": "2024-07-11T08:06:01.700339Z"
    }
   },
   "cell_type": "code",
   "source": "results.info()",
   "id": "232cd415ccb6a5a9",
   "outputs": [],
   "execution_count": null
  },
  {
   "metadata": {},
   "cell_type": "markdown",
   "source": "## Duplicate cherry pick scenarios",
   "id": "1efd63e16552d705"
  },
  {
   "metadata": {
    "ExecuteTime": {
     "end_time": "2024-07-05T09:56:23.994782Z",
     "start_time": "2024-07-05T09:56:23.989781Z"
    }
   },
   "cell_type": "code",
   "source": "cherry_pick_data= results['scraped_data'].apply(lambda x: x['cherry_pick_scenarios'])",
   "id": "a516b88fa872b09c",
   "outputs": [],
   "execution_count": 85
  },
  {
   "metadata": {
    "ExecuteTime": {
     "end_time": "2024-07-05T09:56:24.449190Z",
     "start_time": "2024-07-05T09:56:24.431097Z"
    }
   },
   "cell_type": "code",
   "source": "cherry_pick_data",
   "id": "fa184d2ea54d8e0e",
   "outputs": [
    {
     "data": {
      "text/plain": [
       "1    [{'cherry_commit': 'f7dbb2fc3be3060b29345f7801...\n",
       "Name: scraped_data, dtype: object"
      ]
     },
     "execution_count": 86,
     "metadata": {},
     "output_type": "execute_result"
    }
   ],
   "execution_count": 86
  },
  {
   "metadata": {
    "ExecuteTime": {
     "end_time": "2024-07-05T09:56:24.887099Z",
     "start_time": "2024-07-05T09:56:24.853759Z"
    }
   },
   "cell_type": "code",
   "source": [
    "# Need to check cherry pick scenarios at the end of the list.\n",
    "# Check if I find a scenario with exactly the same commit hexshas another time (duplicated).\n",
    "scenarios = cherry_pick_data[1]\n",
    "unpacked_commits = pd.DataFrame()\n",
    "for i, scenario in enumerate(scenarios):\n",
    "    unpacked_commits.loc[i, 'cherry_pick_commits'] = scenario['cherry_pick_commit']\n",
    "    unpacked_commits.loc[i, 'cherry_commits'] = scenario['cherry_commit']"
   ],
   "id": "82f34295b46fe96c",
   "outputs": [],
   "execution_count": 87
  },
  {
   "metadata": {
    "ExecuteTime": {
     "end_time": "2024-07-05T09:56:30.283230Z",
     "start_time": "2024-07-05T09:56:30.272702Z"
    }
   },
   "cell_type": "code",
   "source": "unpacked_commits[unpacked_commits.duplicated(subset=['cherry_pick_commits'], keep=False)]",
   "id": "a1a9e468668ad263",
   "outputs": [
    {
     "data": {
      "text/plain": [
       "                         cherry_pick_commits  \\\n",
       "1   1740abbce2ac0fee408fbdf22ab96405f3468485   \n",
       "3   1740abbce2ac0fee408fbdf22ab96405f3468485   \n",
       "4   eec22630b7b3d58956a2adbf8eb6a7a2a49326e6   \n",
       "6   eec22630b7b3d58956a2adbf8eb6a7a2a49326e6   \n",
       "7   a8227756e7cfa6355c0a390f69be8c379d7a6d6c   \n",
       "9   a8227756e7cfa6355c0a390f69be8c379d7a6d6c   \n",
       "10  7b99d889476790950c477c30456aa86e0f1f348d   \n",
       "12  7b99d889476790950c477c30456aa86e0f1f348d   \n",
       "13  f1446d3b22ae8d21853d1e921d9fa814647b94c4   \n",
       "15  f1446d3b22ae8d21853d1e921d9fa814647b94c4   \n",
       "16  1a578eed02833254d26fcd216fc2b3059ff7e452   \n",
       "18  1a578eed02833254d26fcd216fc2b3059ff7e452   \n",
       "19  529c4232f425786e2a2375df140d5ed9a871dd84   \n",
       "21  529c4232f425786e2a2375df140d5ed9a871dd84   \n",
       "22  7f3783808cebf0825cda565f4759776168344ef2   \n",
       "24  7f3783808cebf0825cda565f4759776168344ef2   \n",
       "25  72b1e76037d5e0304562a0effee4279a30d1bf72   \n",
       "27  72b1e76037d5e0304562a0effee4279a30d1bf72   \n",
       "28  4290a084e10fa1558107d9381c52635aebd43a36   \n",
       "30  4290a084e10fa1558107d9381c52635aebd43a36   \n",
       "31  24d87a5470c87a8f8ffbffc748516f9dae8ef97d   \n",
       "33  24d87a5470c87a8f8ffbffc748516f9dae8ef97d   \n",
       "34  90789379315c79fd889d685a8cab4122b2feeb5f   \n",
       "36  90789379315c79fd889d685a8cab4122b2feeb5f   \n",
       "37  b22f9f0ed08454e9f52728d17ec883cc8501f2e5   \n",
       "38  f2e0650f871befb360a31a2c95f355f33bd0c356   \n",
       "39  b22f9f0ed08454e9f52728d17ec883cc8501f2e5   \n",
       "40  b22f9f0ed08454e9f52728d17ec883cc8501f2e5   \n",
       "41  f2e0650f871befb360a31a2c95f355f33bd0c356   \n",
       "42  6495783dc18f0f91c4309efc6dbd171177d18c0a   \n",
       "44  6495783dc18f0f91c4309efc6dbd171177d18c0a   \n",
       "45  8a22af7706f9803288751aac263d462c6c0c178f   \n",
       "47  8a22af7706f9803288751aac263d462c6c0c178f   \n",
       "48  b19fb0f2734a5222cad6732e0bcb38b6a615a0bc   \n",
       "50  b19fb0f2734a5222cad6732e0bcb38b6a615a0bc   \n",
       "\n",
       "                              cherry_commits  \n",
       "1   e8aaa7dcceab7db818720445e497f98f97c5d6e3  \n",
       "3   ef75f21d13699affb9d53f96de06687847027e4d  \n",
       "4   041b8028c66941ad586e3c2ade99164a6d771fb6  \n",
       "6   248d33b15e19660ed744d68295365f203ffe4510  \n",
       "7   15acc8349a2c124b07d196c9c26781da9029a8f4  \n",
       "9   002421281b7fc6f915a33d21bea85498f42a17b9  \n",
       "10  a7ba3269507d4261aff7d23a7241c337d511b7f0  \n",
       "12  f1136b08663e62552e3704845eabe741d762374e  \n",
       "13  2fbace0aad729045bbff494bd231cb9bb9da5ef7  \n",
       "15  9928b4e7f6fe8c6943ee19eff6cf583a09163007  \n",
       "16  9cd84adbd5de71c1b65da7593c49f21d5ae88d9f  \n",
       "18  e8e7b3db35524189a9af7437eb256bb01514c225  \n",
       "19  5b31f9ff13726371a0c8569812181988c772ebd6  \n",
       "21  e63c87455d33c768c0d83ad4942eb390b82b9bb6  \n",
       "22  02c4b44b44f8727e0cad0dff51f44ea4becc4462  \n",
       "24  cfdff743e460d0d0914e5a988924166dc2a7ffa5  \n",
       "25  c84849c6b1b9ca88f69856fefa94e39ca24f3d96  \n",
       "27  d5271b378b501927ef7439f1ebcfd80d8ef85a88  \n",
       "28  2c638369a00b36838b121e1bf96c84e62438c8b8  \n",
       "30  2c0b0dae7cae56fc2a51fed9499eb2d866df03b3  \n",
       "31  bddf977e1cef8d481180ce25ba69e2447ef1a1c3  \n",
       "33  20d6330358b077c619a0846d420c03bf85296f6a  \n",
       "34  52b95aa1567db3ae241d484da170fe546d0e6054  \n",
       "36  277c08596df64d8ec37840784d589c46955d46f2  \n",
       "37  f63062f8cfae821739a8e2c092669cd74e3a803d  \n",
       "38  f63062f8cfae821739a8e2c092669cd74e3a803d  \n",
       "39  f2e0650f871befb360a31a2c95f355f33bd0c356  \n",
       "40  f63062f8cfae821739a8e2c092669cd74e3a803d  \n",
       "41  f63062f8cfae821739a8e2c092669cd74e3a803d  \n",
       "42  9a23c1aafa8c5a9fc1954c1c93b353ca90f2b6b0  \n",
       "44  a06662ac0b461f66213c539183ca085568d81149  \n",
       "45  f5bc5017d3ba026fcf805118eaca4e58acf2de54  \n",
       "47  db295e8cb0149e160546eee5eb70f658ee21db89  \n",
       "48  d3c21381841d943b15aaf9b3a5810045f7e78857  \n",
       "50  2a17b0d1ebf0b3094889c066050db6517a0a647c  "
      ],
      "text/html": [
       "<div>\n",
       "<style scoped>\n",
       "    .dataframe tbody tr th:only-of-type {\n",
       "        vertical-align: middle;\n",
       "    }\n",
       "\n",
       "    .dataframe tbody tr th {\n",
       "        vertical-align: top;\n",
       "    }\n",
       "\n",
       "    .dataframe thead th {\n",
       "        text-align: right;\n",
       "    }\n",
       "</style>\n",
       "<table border=\"1\" class=\"dataframe\">\n",
       "  <thead>\n",
       "    <tr style=\"text-align: right;\">\n",
       "      <th></th>\n",
       "      <th>cherry_pick_commits</th>\n",
       "      <th>cherry_commits</th>\n",
       "    </tr>\n",
       "  </thead>\n",
       "  <tbody>\n",
       "    <tr>\n",
       "      <th>1</th>\n",
       "      <td>1740abbce2ac0fee408fbdf22ab96405f3468485</td>\n",
       "      <td>e8aaa7dcceab7db818720445e497f98f97c5d6e3</td>\n",
       "    </tr>\n",
       "    <tr>\n",
       "      <th>3</th>\n",
       "      <td>1740abbce2ac0fee408fbdf22ab96405f3468485</td>\n",
       "      <td>ef75f21d13699affb9d53f96de06687847027e4d</td>\n",
       "    </tr>\n",
       "    <tr>\n",
       "      <th>4</th>\n",
       "      <td>eec22630b7b3d58956a2adbf8eb6a7a2a49326e6</td>\n",
       "      <td>041b8028c66941ad586e3c2ade99164a6d771fb6</td>\n",
       "    </tr>\n",
       "    <tr>\n",
       "      <th>6</th>\n",
       "      <td>eec22630b7b3d58956a2adbf8eb6a7a2a49326e6</td>\n",
       "      <td>248d33b15e19660ed744d68295365f203ffe4510</td>\n",
       "    </tr>\n",
       "    <tr>\n",
       "      <th>7</th>\n",
       "      <td>a8227756e7cfa6355c0a390f69be8c379d7a6d6c</td>\n",
       "      <td>15acc8349a2c124b07d196c9c26781da9029a8f4</td>\n",
       "    </tr>\n",
       "    <tr>\n",
       "      <th>9</th>\n",
       "      <td>a8227756e7cfa6355c0a390f69be8c379d7a6d6c</td>\n",
       "      <td>002421281b7fc6f915a33d21bea85498f42a17b9</td>\n",
       "    </tr>\n",
       "    <tr>\n",
       "      <th>10</th>\n",
       "      <td>7b99d889476790950c477c30456aa86e0f1f348d</td>\n",
       "      <td>a7ba3269507d4261aff7d23a7241c337d511b7f0</td>\n",
       "    </tr>\n",
       "    <tr>\n",
       "      <th>12</th>\n",
       "      <td>7b99d889476790950c477c30456aa86e0f1f348d</td>\n",
       "      <td>f1136b08663e62552e3704845eabe741d762374e</td>\n",
       "    </tr>\n",
       "    <tr>\n",
       "      <th>13</th>\n",
       "      <td>f1446d3b22ae8d21853d1e921d9fa814647b94c4</td>\n",
       "      <td>2fbace0aad729045bbff494bd231cb9bb9da5ef7</td>\n",
       "    </tr>\n",
       "    <tr>\n",
       "      <th>15</th>\n",
       "      <td>f1446d3b22ae8d21853d1e921d9fa814647b94c4</td>\n",
       "      <td>9928b4e7f6fe8c6943ee19eff6cf583a09163007</td>\n",
       "    </tr>\n",
       "    <tr>\n",
       "      <th>16</th>\n",
       "      <td>1a578eed02833254d26fcd216fc2b3059ff7e452</td>\n",
       "      <td>9cd84adbd5de71c1b65da7593c49f21d5ae88d9f</td>\n",
       "    </tr>\n",
       "    <tr>\n",
       "      <th>18</th>\n",
       "      <td>1a578eed02833254d26fcd216fc2b3059ff7e452</td>\n",
       "      <td>e8e7b3db35524189a9af7437eb256bb01514c225</td>\n",
       "    </tr>\n",
       "    <tr>\n",
       "      <th>19</th>\n",
       "      <td>529c4232f425786e2a2375df140d5ed9a871dd84</td>\n",
       "      <td>5b31f9ff13726371a0c8569812181988c772ebd6</td>\n",
       "    </tr>\n",
       "    <tr>\n",
       "      <th>21</th>\n",
       "      <td>529c4232f425786e2a2375df140d5ed9a871dd84</td>\n",
       "      <td>e63c87455d33c768c0d83ad4942eb390b82b9bb6</td>\n",
       "    </tr>\n",
       "    <tr>\n",
       "      <th>22</th>\n",
       "      <td>7f3783808cebf0825cda565f4759776168344ef2</td>\n",
       "      <td>02c4b44b44f8727e0cad0dff51f44ea4becc4462</td>\n",
       "    </tr>\n",
       "    <tr>\n",
       "      <th>24</th>\n",
       "      <td>7f3783808cebf0825cda565f4759776168344ef2</td>\n",
       "      <td>cfdff743e460d0d0914e5a988924166dc2a7ffa5</td>\n",
       "    </tr>\n",
       "    <tr>\n",
       "      <th>25</th>\n",
       "      <td>72b1e76037d5e0304562a0effee4279a30d1bf72</td>\n",
       "      <td>c84849c6b1b9ca88f69856fefa94e39ca24f3d96</td>\n",
       "    </tr>\n",
       "    <tr>\n",
       "      <th>27</th>\n",
       "      <td>72b1e76037d5e0304562a0effee4279a30d1bf72</td>\n",
       "      <td>d5271b378b501927ef7439f1ebcfd80d8ef85a88</td>\n",
       "    </tr>\n",
       "    <tr>\n",
       "      <th>28</th>\n",
       "      <td>4290a084e10fa1558107d9381c52635aebd43a36</td>\n",
       "      <td>2c638369a00b36838b121e1bf96c84e62438c8b8</td>\n",
       "    </tr>\n",
       "    <tr>\n",
       "      <th>30</th>\n",
       "      <td>4290a084e10fa1558107d9381c52635aebd43a36</td>\n",
       "      <td>2c0b0dae7cae56fc2a51fed9499eb2d866df03b3</td>\n",
       "    </tr>\n",
       "    <tr>\n",
       "      <th>31</th>\n",
       "      <td>24d87a5470c87a8f8ffbffc748516f9dae8ef97d</td>\n",
       "      <td>bddf977e1cef8d481180ce25ba69e2447ef1a1c3</td>\n",
       "    </tr>\n",
       "    <tr>\n",
       "      <th>33</th>\n",
       "      <td>24d87a5470c87a8f8ffbffc748516f9dae8ef97d</td>\n",
       "      <td>20d6330358b077c619a0846d420c03bf85296f6a</td>\n",
       "    </tr>\n",
       "    <tr>\n",
       "      <th>34</th>\n",
       "      <td>90789379315c79fd889d685a8cab4122b2feeb5f</td>\n",
       "      <td>52b95aa1567db3ae241d484da170fe546d0e6054</td>\n",
       "    </tr>\n",
       "    <tr>\n",
       "      <th>36</th>\n",
       "      <td>90789379315c79fd889d685a8cab4122b2feeb5f</td>\n",
       "      <td>277c08596df64d8ec37840784d589c46955d46f2</td>\n",
       "    </tr>\n",
       "    <tr>\n",
       "      <th>37</th>\n",
       "      <td>b22f9f0ed08454e9f52728d17ec883cc8501f2e5</td>\n",
       "      <td>f63062f8cfae821739a8e2c092669cd74e3a803d</td>\n",
       "    </tr>\n",
       "    <tr>\n",
       "      <th>38</th>\n",
       "      <td>f2e0650f871befb360a31a2c95f355f33bd0c356</td>\n",
       "      <td>f63062f8cfae821739a8e2c092669cd74e3a803d</td>\n",
       "    </tr>\n",
       "    <tr>\n",
       "      <th>39</th>\n",
       "      <td>b22f9f0ed08454e9f52728d17ec883cc8501f2e5</td>\n",
       "      <td>f2e0650f871befb360a31a2c95f355f33bd0c356</td>\n",
       "    </tr>\n",
       "    <tr>\n",
       "      <th>40</th>\n",
       "      <td>b22f9f0ed08454e9f52728d17ec883cc8501f2e5</td>\n",
       "      <td>f63062f8cfae821739a8e2c092669cd74e3a803d</td>\n",
       "    </tr>\n",
       "    <tr>\n",
       "      <th>41</th>\n",
       "      <td>f2e0650f871befb360a31a2c95f355f33bd0c356</td>\n",
       "      <td>f63062f8cfae821739a8e2c092669cd74e3a803d</td>\n",
       "    </tr>\n",
       "    <tr>\n",
       "      <th>42</th>\n",
       "      <td>6495783dc18f0f91c4309efc6dbd171177d18c0a</td>\n",
       "      <td>9a23c1aafa8c5a9fc1954c1c93b353ca90f2b6b0</td>\n",
       "    </tr>\n",
       "    <tr>\n",
       "      <th>44</th>\n",
       "      <td>6495783dc18f0f91c4309efc6dbd171177d18c0a</td>\n",
       "      <td>a06662ac0b461f66213c539183ca085568d81149</td>\n",
       "    </tr>\n",
       "    <tr>\n",
       "      <th>45</th>\n",
       "      <td>8a22af7706f9803288751aac263d462c6c0c178f</td>\n",
       "      <td>f5bc5017d3ba026fcf805118eaca4e58acf2de54</td>\n",
       "    </tr>\n",
       "    <tr>\n",
       "      <th>47</th>\n",
       "      <td>8a22af7706f9803288751aac263d462c6c0c178f</td>\n",
       "      <td>db295e8cb0149e160546eee5eb70f658ee21db89</td>\n",
       "    </tr>\n",
       "    <tr>\n",
       "      <th>48</th>\n",
       "      <td>b19fb0f2734a5222cad6732e0bcb38b6a615a0bc</td>\n",
       "      <td>d3c21381841d943b15aaf9b3a5810045f7e78857</td>\n",
       "    </tr>\n",
       "    <tr>\n",
       "      <th>50</th>\n",
       "      <td>b19fb0f2734a5222cad6732e0bcb38b6a615a0bc</td>\n",
       "      <td>2a17b0d1ebf0b3094889c066050db6517a0a647c</td>\n",
       "    </tr>\n",
       "  </tbody>\n",
       "</table>\n",
       "</div>"
      ]
     },
     "execution_count": 88,
     "metadata": {},
     "output_type": "execute_result"
    }
   ],
   "execution_count": 88
  },
  {
   "metadata": {
    "ExecuteTime": {
     "end_time": "2024-07-05T08:32:08.685253Z",
     "start_time": "2024-07-05T08:32:08.679895Z"
    }
   },
   "cell_type": "code",
   "source": "len(cherry_pick_data[1])",
   "id": "ef48b973c0e0b107",
   "outputs": [
    {
     "data": {
      "text/plain": [
       "447"
      ]
     },
     "execution_count": 37,
     "metadata": {},
     "output_type": "execute_result"
    }
   ],
   "execution_count": 37
  },
  {
   "metadata": {
    "ExecuteTime": {
     "end_time": "2024-07-05T08:35:35.021488Z",
     "start_time": "2024-07-05T08:35:34.964023Z"
    }
   },
   "cell_type": "code",
   "source": [
    "repository_metadata = python_repositories_metadata.iloc[1]\n",
    "repo_instance = None\n",
    "repository_path = os.path.join(path_to_repositories, \"__\".join(repository_metadata[\"name\"].split(\"/\")))\n",
    "try:\n",
    "    repo_instance = Repo.clone_from(f'https://github.com/{repository_metadata[\"name\"]}.git',\n",
    "                                    f'{repository_path}')\n",
    "except GitCommandError as e:\n",
    "    # If already exists, create Repo instance of it\n",
    "    if 'already exists' in e.stderr:\n",
    "        print('Repository already exists, using local directory instead of cloning.')\n",
    "        repo_instance = Repo(repository_path)"
   ],
   "id": "28315bc2227f7f9",
   "outputs": [
    {
     "name": "stdout",
     "output_type": "stream",
     "text": [
      "Repository already exists, using local directory instead of cloning.\n"
     ]
    }
   ],
   "execution_count": 41
  },
  {
   "metadata": {
    "ExecuteTime": {
     "end_time": "2024-07-05T10:03:39.151473Z",
     "start_time": "2024-07-05T10:03:39.145380Z"
    }
   },
   "cell_type": "code",
   "source": [
    "from datetime import datetime\n",
    "datetime.fromtimestamp(repo_instance.commit('1740abbce2ac0fee408fbdf22ab96405f3468485').committed_date)"
   ],
   "id": "f844dab0058c42b9",
   "outputs": [
    {
     "data": {
      "text/plain": [
       "datetime.datetime(2020, 9, 23, 0, 26, 24)"
      ]
     },
     "execution_count": 99,
     "metadata": {},
     "output_type": "execute_result"
    }
   ],
   "execution_count": 99
  },
  {
   "metadata": {
    "ExecuteTime": {
     "end_time": "2024-07-05T10:03:51.650320Z",
     "start_time": "2024-07-05T10:03:51.645264Z"
    }
   },
   "cell_type": "code",
   "source": "datetime.fromtimestamp(repo_instance.commit('e8aaa7dcceab7db818720445e497f98f97c5d6e3').committed_date)",
   "id": "22ba7b2607f1c34",
   "outputs": [
    {
     "data": {
      "text/plain": [
       "datetime.datetime(2020, 9, 15, 17, 20, 48)"
      ]
     },
     "execution_count": 100,
     "metadata": {},
     "output_type": "execute_result"
    }
   ],
   "execution_count": 100
  },
  {
   "metadata": {
    "ExecuteTime": {
     "end_time": "2024-07-05T10:04:24.015286Z",
     "start_time": "2024-07-05T10:04:24.009573Z"
    }
   },
   "cell_type": "code",
   "source": "datetime.fromtimestamp(repo_instance.commit('ef75f21d13699affb9d53f96de06687847027e4d').committed_date)\n",
   "id": "dee7b692ccf5320f",
   "outputs": [
    {
     "data": {
      "text/plain": [
       "datetime.datetime(2020, 9, 21, 18, 37, 59)"
      ]
     },
     "execution_count": 101,
     "metadata": {},
     "output_type": "execute_result"
    }
   ],
   "execution_count": 101
  },
  {
   "metadata": {
    "ExecuteTime": {
     "end_time": "2024-07-05T09:59:44.194910Z",
     "start_time": "2024-07-05T09:59:44.154374Z"
    }
   },
   "cell_type": "code",
   "source": "repo_instance.git.show('1740abbce2ac0fee408fbdf22ab96405f3468485').split('\\n')",
   "id": "49c69fc010e254c2",
   "outputs": [
    {
     "data": {
      "text/plain": [
       "['commit 1740abbce2ac0fee408fbdf22ab96405f3468485',\n",
       " 'Author: Yoann Padioleau <pad@returntocorp.com>',\n",
       " 'Date:   Tue Sep 15 17:20:48 2020 +0200',\n",
       " '',\n",
       " '    * python/lang/correctness/common-mistakes/is-comparison-string.py: Fix (#861)',\n",
       " '    ',\n",
       " '    * * python/lang/correctness/common-mistakes/is-comparison-string.py: Fix',\n",
       " '    ',\n",
       " \"    Add extra assign to not make 'x' a constant.\",\n",
       " '    Indeed, Iago recently fixed a bug in the const-analysis which',\n",
       " '    now kick-in in this file and leads to more reported errors.',\n",
       " '    ',\n",
       " '    Related to https://github.com/returntocorp/semgrep/pull/1676',\n",
       " '    ',\n",
       " '    Test plan:',\n",
       " '    make test with latest semgrep',\n",
       " '    ',\n",
       " '    * Avoid constant propagation by using object() instead of str',\n",
       " '    ',\n",
       " '    Co-authored-by: Matt Schwager <matt@returntocorp.com>',\n",
       " '',\n",
       " 'diff --git a/python/lang/correctness/common-mistakes/is-comparison-string.py b/python/lang/correctness/common-mistakes/is-comparison-string.py',\n",
       " 'index 9fb45823..dbb76cf4 100644',\n",
       " '--- a/python/lang/correctness/common-mistakes/is-comparison-string.py',\n",
       " '+++ b/python/lang/correctness/common-mistakes/is-comparison-string.py',\n",
       " '@@ -1,4 +1,4 @@',\n",
       " \"-x = 'foo'\",\n",
       " '+x = object()',\n",
       " ' ',\n",
       " ' # ruleid:identical-is-comparison',\n",
       " ' if x is x:']"
      ]
     },
     "execution_count": 93,
     "metadata": {},
     "output_type": "execute_result"
    }
   ],
   "execution_count": 93
  },
  {
   "metadata": {
    "ExecuteTime": {
     "end_time": "2024-07-05T09:59:39.839009Z",
     "start_time": "2024-07-05T09:59:39.794628Z"
    }
   },
   "cell_type": "code",
   "source": "repo_instance.git.show('e8aaa7dcceab7db818720445e497f98f97c5d6e3').split('\\n')",
   "id": "216f93417ec6606b",
   "outputs": [
    {
     "data": {
      "text/plain": [
       "['commit e8aaa7dcceab7db818720445e497f98f97c5d6e3',\n",
       " 'Author: Yoann Padioleau <pad@returntocorp.com>',\n",
       " 'Date:   Tue Sep 15 17:20:48 2020 +0200',\n",
       " '',\n",
       " '    * python/lang/correctness/common-mistakes/is-comparison-string.py: Fix (#861)',\n",
       " '    ',\n",
       " '    * * python/lang/correctness/common-mistakes/is-comparison-string.py: Fix',\n",
       " '    ',\n",
       " \"    Add extra assign to not make 'x' a constant.\",\n",
       " '    Indeed, Iago recently fixed a bug in the const-analysis which',\n",
       " '    now kick-in in this file and leads to more reported errors.',\n",
       " '    ',\n",
       " '    Related to https://github.com/returntocorp/semgrep/pull/1676',\n",
       " '    ',\n",
       " '    Test plan:',\n",
       " '    make test with latest semgrep',\n",
       " '    ',\n",
       " '    * Avoid constant propagation by using object() instead of str',\n",
       " '    ',\n",
       " '    Co-authored-by: Matt Schwager <matt@returntocorp.com>',\n",
       " '',\n",
       " 'diff --git a/python/lang/correctness/common-mistakes/is-comparison-string.py b/python/lang/correctness/common-mistakes/is-comparison-string.py',\n",
       " 'index 9fb45823..dbb76cf4 100644',\n",
       " '--- a/python/lang/correctness/common-mistakes/is-comparison-string.py',\n",
       " '+++ b/python/lang/correctness/common-mistakes/is-comparison-string.py',\n",
       " '@@ -1,4 +1,4 @@',\n",
       " \"-x = 'foo'\",\n",
       " '+x = object()',\n",
       " ' ',\n",
       " ' # ruleid:identical-is-comparison',\n",
       " ' if x is x:']"
      ]
     },
     "execution_count": 92,
     "metadata": {},
     "output_type": "execute_result"
    }
   ],
   "execution_count": 92
  },
  {
   "metadata": {},
   "cell_type": "code",
   "outputs": [
    {
     "data": {
      "text/plain": [
       "['commit ef75f21d13699affb9d53f96de06687847027e4d',\n",
       " 'Author: Yoann Padioleau <pad@returntocorp.com>',\n",
       " 'Date:   Tue Sep 15 17:20:48 2020 +0200',\n",
       " '',\n",
       " '    * python/lang/correctness/common-mistakes/is-comparison-string.py: Fix (#861)',\n",
       " '    ',\n",
       " '    * * python/lang/correctness/common-mistakes/is-comparison-string.py: Fix',\n",
       " '    ',\n",
       " \"    Add extra assign to not make 'x' a constant.\",\n",
       " '    Indeed, Iago recently fixed a bug in the const-analysis which',\n",
       " '    now kick-in in this file and leads to more reported errors.',\n",
       " '    ',\n",
       " '    Related to https://github.com/returntocorp/semgrep/pull/1676',\n",
       " '    ',\n",
       " '    Test plan:',\n",
       " '    make test with latest semgrep',\n",
       " '    ',\n",
       " '    * Avoid constant propagation by using object() instead of str',\n",
       " '    ',\n",
       " '    Co-authored-by: Matt Schwager <matt@returntocorp.com>',\n",
       " '',\n",
       " 'diff --git a/python/lang/correctness/common-mistakes/is-comparison-string.py b/python/lang/correctness/common-mistakes/is-comparison-string.py',\n",
       " 'index 9fb45823..dbb76cf4 100644',\n",
       " '--- a/python/lang/correctness/common-mistakes/is-comparison-string.py',\n",
       " '+++ b/python/lang/correctness/common-mistakes/is-comparison-string.py',\n",
       " '@@ -1,4 +1,4 @@',\n",
       " \"-x = 'foo'\",\n",
       " '+x = object()',\n",
       " ' ',\n",
       " ' # ruleid:identical-is-comparison',\n",
       " ' if x is x:']"
      ]
     },
     "execution_count": 94,
     "metadata": {},
     "output_type": "execute_result"
    }
   ],
   "execution_count": 94,
   "source": "repo_instance.git.show('ef75f21d13699affb9d53f96de06687847027e4d').split('\\n')",
   "id": "6d3c79fc5b3327a9"
  }
 ],
 "metadata": {
  "kernelspec": {
   "display_name": "Python 3",
   "language": "python",
   "name": "python3"
  },
  "language_info": {
   "codemirror_mode": {
    "name": "ipython",
    "version": 2
   },
   "file_extension": ".py",
   "mimetype": "text/x-python",
   "name": "python",
   "nbconvert_exporter": "python",
   "pygments_lexer": "ipython2",
   "version": "2.7.6"
  }
 },
 "nbformat": 4,
 "nbformat_minor": 5
}
